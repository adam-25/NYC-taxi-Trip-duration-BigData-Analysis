{
 "cells": [
  {
   "cell_type": "code",
   "execution_count": 23,
   "id": "af40daa6",
   "metadata": {
    "scrolled": false
   },
   "outputs": [
    {
     "name": "stdout",
     "output_type": "stream",
     "text": [
      "Requirement already satisfied: pyspark in /Users/adarshdudhat/Desktop/University Of Calgary/Classes/FALL - 2022/SENG - 550/Project/seng550final/venv/lib/python3.10/site-packages (3.3.1)\r\n",
      "Requirement already satisfied: py4j==0.10.9.5 in /Users/adarshdudhat/Desktop/University Of Calgary/Classes/FALL - 2022/SENG - 550/Project/seng550final/venv/lib/python3.10/site-packages (from pyspark) (0.10.9.5)\r\n"
     ]
    }
   ],
   "source": [
    "!pip install pyspark"
   ]
  },
  {
   "cell_type": "code",
   "execution_count": 24,
   "id": "e53b42c2",
   "metadata": {},
   "outputs": [],
   "source": [
    "# Importing libraries\n",
    "\n",
    "from pyspark.sql import SparkSession\n",
    "\n",
    "from pyspark.ml.feature import VectorAssembler, StringIndexer\n",
    "from pyspark.ml.regression import LinearRegression, GBTRegressor\n",
    "from pyspark.ml.evaluation import RegressionEvaluator\n",
    "from pyspark.ml.tuning import ParamGridBuilder, CrossValidator"
   ]
  },
  {
   "cell_type": "code",
   "execution_count": 25,
   "id": "c172ee32",
   "metadata": {},
   "outputs": [
    {
     "name": "stdout",
     "output_type": "stream",
     "text": [
      "root\n",
      " |-- id: integer (nullable = true)\n",
      " |-- vendor_id: integer (nullable = true)\n",
      " |-- passenger_count: integer (nullable = true)\n",
      " |-- pickup_longitude: double (nullable = true)\n",
      " |-- pickup_latitude: double (nullable = true)\n",
      " |-- dropoff_longitude: double (nullable = true)\n",
      " |-- dropoff_latitude: double (nullable = true)\n",
      " |-- store_and_fwd_flag: integer (nullable = true)\n",
      " |-- trip_duration: integer (nullable = true)\n",
      " |-- distance: double (nullable = true)\n",
      " |-- week_day: string (nullable = true)\n",
      " |-- year: integer (nullable = true)\n",
      " |-- month: integer (nullable = true)\n",
      " |-- quarter_of_year: integer (nullable = true)\n",
      " |-- hour: integer (nullable = true)\n",
      "\n"
     ]
    },
    {
     "name": "stderr",
     "output_type": "stream",
     "text": [
      "\r",
      "[Stage 3337:>                                                       (0 + 1) / 1]\r",
      "\r",
      "                                                                                \r"
     ]
    }
   ],
   "source": [
    "# Get preprocessed data\n",
    "\n",
    "spark = SparkSession.builder.master(\"local[1]\").appName(\"SparkByExamples.com\").getOrCreate()\n",
    "df = spark.read.option(\"inferSchema\", \"true\").csv(\"../Preprocessing/NYC Taxi Duration Preprocessed/*.csv\", header=True)\n",
    "df.printSchema()"
   ]
  },
  {
   "cell_type": "code",
   "execution_count": 26,
   "id": "a475a876",
   "metadata": {},
   "outputs": [
    {
     "name": "stdout",
     "output_type": "stream",
     "text": [
      "+-------+---------+---------------+----------------+---------------+-----------------+----------------+------------------+-------------+---------+--------+----+-----+---------------+----+\n",
      "|     id|vendor_id|passenger_count|pickup_longitude|pickup_latitude|dropoff_longitude|dropoff_latitude|store_and_fwd_flag|trip_duration| distance|week_day|year|month|quarter_of_year|hour|\n",
      "+-------+---------+---------------+----------------+---------------+-----------------+----------------+------------------+-------------+---------+--------+----+-----+---------------+----+\n",
      "|2875421|        2|              1|      -73.982155|      40.767937|        -73.96463|       40.765602|                 0|          455|2.4444735|     Mon|2016|    3|              1|  17|\n",
      "|2377394|        1|              1|      -73.980415|      40.738564|        -73.99948|        40.73115|                 0|          663|2.6599078|     Sun|2016|    6|              2|   0|\n",
      "|3858529|        2|              1|       -73.97903|       40.76394|        -74.00533|       40.710087|                 0|         2124| 3.669969|     Tue|2016|    1|              1|  11|\n",
      "|1813257|        1|              4|       -73.96902|       40.75784|       -73.957405|       40.765896|                 0|          341|1.6197599|     Fri|2016|    6|              2|  22|\n",
      "|1324603|        2|              1|       -73.96928|       40.79778|        -73.92247|        40.76056|                 0|         1551| 6.528439|     Sat|2016|    5|              2|   7|\n",
      "|1301050|        1|              1|       -73.99948|        40.7384|        -73.98579|       40.732815|                 0|          255|1.9105701|     Fri|2016|    5|              2|  23|\n",
      "|1436371|        2|              1|       -73.98265|       40.76384|        -74.00223|        40.73299|                 0|         1274|2.7310188|     Tue|2016|    5|              2|  22|\n",
      "|1299289|        2|              4|       -73.99153|       40.74944|        -73.95654|        40.77063|                 0|         1128|4.8806133|     Sun|2016|    5|              2|  11|\n",
      "|1187965|        2|              2|       -73.96298|       40.75668|       -73.984406|        40.76072|                 0|         1114|2.9884133|     Fri|2016|    2|              1|   9|\n",
      "|2900608|        2|              1|      -73.992195|      40.727226|       -73.974655|        40.78307|                 0|         1414|2.4467576|     Fri|2016|    5|              2|   0|\n",
      "|3552682|        1|              1|       -74.00398|      40.713013|       -73.979195|       40.749924|                 0|         1317|3.4582636|     Mon|2016|    6|              2|   9|\n",
      "|2070428|        1|              1|       -73.98037|       40.74242|        -73.96285|       40.760635|                 0|          486|2.4436135|     Sun|2016|    2|              1|   2|\n",
      "| 809232|        2|              1|       -73.97954|       40.75336|          -73.964|        40.76346|                 0|          652|  2.16788|     Fri|2016|    4|              2|  12|\n",
      "|1603037|        1|              1|       -73.99355|      40.747173|        -74.00614|       40.704384|                 0|         1163|1.7563289|     Sat|2016|    6|              2|  10|\n",
      "|3321406|        2|              1|       -73.95523|      40.777134|        -73.78875|        40.64147|                 0|         2485|23.229277|     Fri|2016|    6|              2|   8|\n",
      "| 129640|        2|              1|       -73.95658|       40.77136|        -73.97497|        40.73279|                 0|         1283| 2.564935|     Sun|2016|    2|              1|  13|\n",
      "|3587298|        1|              1|      -73.983765|      40.749874|        -73.95883|        40.80096|                 0|         1130| 3.477649|     Sat|2016|    2|              1|  21|\n",
      "|3973319|        2|              1|       -73.99422|      40.713306|        -73.98285|         40.6923|                 0|          892| 1.586218|     Mon|2016|    6|              2|  21|\n",
      "|1410897|        1|              1|       -73.98212|       40.75635|        -73.86569|        40.77099|                 0|         2331| 16.24001|     Wed|2016|    3|              1|  14|\n",
      "| 266980|        1|              1|       -73.97094|       40.76167|        -73.99624|        40.72537|                 0|         1479|3.5293458|     Tue|2016|    5|              2|  10|\n",
      "+-------+---------+---------------+----------------+---------------+-----------------+----------------+------------------+-------------+---------+--------+----+-----+---------------+----+\n",
      "only showing top 20 rows\n",
      "\n"
     ]
    }
   ],
   "source": [
    "df.show()"
   ]
  },
  {
   "cell_type": "markdown",
   "id": "e7d931ee",
   "metadata": {},
   "source": [
    "# Preparing df for ML models"
   ]
  },
  {
   "cell_type": "code",
   "execution_count": 27,
   "id": "b812f1eb",
   "metadata": {},
   "outputs": [
    {
     "name": "stdout",
     "output_type": "stream",
     "text": [
      "+-------+---------+---------------+----------------+---------------+-----------------+----------------+------------------+-------------+---------+--------+----+-----+---------------+----+--------------+\n",
      "|     id|vendor_id|passenger_count|pickup_longitude|pickup_latitude|dropoff_longitude|dropoff_latitude|store_and_fwd_flag|trip_duration| distance|week_day|year|month|quarter_of_year|hour|week_day_index|\n",
      "+-------+---------+---------------+----------------+---------------+-----------------+----------------+------------------+-------------+---------+--------+----+-----+---------------+----+--------------+\n",
      "|2875421|        2|              1|      -73.982155|      40.767937|        -73.96463|       40.765602|                 0|          455|2.4444735|     Mon|2016|    3|              1|  17|           6.0|\n",
      "|2377394|        1|              1|      -73.980415|      40.738564|        -73.99948|        40.73115|                 0|          663|2.6599078|     Sun|2016|    6|              2|   0|           4.0|\n",
      "|3858529|        2|              1|       -73.97903|       40.76394|        -74.00533|       40.710087|                 0|         2124| 3.669969|     Tue|2016|    1|              1|  11|           5.0|\n",
      "|1813257|        1|              4|       -73.96902|       40.75784|       -73.957405|       40.765896|                 0|          341|1.6197599|     Fri|2016|    6|              2|  22|           0.0|\n",
      "|1324603|        2|              1|       -73.96928|       40.79778|        -73.92247|        40.76056|                 0|         1551| 6.528439|     Sat|2016|    5|              2|   7|           1.0|\n",
      "|1301050|        1|              1|       -73.99948|        40.7384|        -73.98579|       40.732815|                 0|          255|1.9105701|     Fri|2016|    5|              2|  23|           0.0|\n",
      "|1436371|        2|              1|       -73.98265|       40.76384|        -74.00223|        40.73299|                 0|         1274|2.7310188|     Tue|2016|    5|              2|  22|           5.0|\n",
      "|1299289|        2|              4|       -73.99153|       40.74944|        -73.95654|        40.77063|                 0|         1128|4.8806133|     Sun|2016|    5|              2|  11|           4.0|\n",
      "|1187965|        2|              2|       -73.96298|       40.75668|       -73.984406|        40.76072|                 0|         1114|2.9884133|     Fri|2016|    2|              1|   9|           0.0|\n",
      "|2900608|        2|              1|      -73.992195|      40.727226|       -73.974655|        40.78307|                 0|         1414|2.4467576|     Fri|2016|    5|              2|   0|           0.0|\n",
      "|3552682|        1|              1|       -74.00398|      40.713013|       -73.979195|       40.749924|                 0|         1317|3.4582636|     Mon|2016|    6|              2|   9|           6.0|\n",
      "|2070428|        1|              1|       -73.98037|       40.74242|        -73.96285|       40.760635|                 0|          486|2.4436135|     Sun|2016|    2|              1|   2|           4.0|\n",
      "| 809232|        2|              1|       -73.97954|       40.75336|          -73.964|        40.76346|                 0|          652|  2.16788|     Fri|2016|    4|              2|  12|           0.0|\n",
      "|1603037|        1|              1|       -73.99355|      40.747173|        -74.00614|       40.704384|                 0|         1163|1.7563289|     Sat|2016|    6|              2|  10|           1.0|\n",
      "|3321406|        2|              1|       -73.95523|      40.777134|        -73.78875|        40.64147|                 0|         2485|23.229277|     Fri|2016|    6|              2|   8|           0.0|\n",
      "| 129640|        2|              1|       -73.95658|       40.77136|        -73.97497|        40.73279|                 0|         1283| 2.564935|     Sun|2016|    2|              1|  13|           4.0|\n",
      "|3587298|        1|              1|      -73.983765|      40.749874|        -73.95883|        40.80096|                 0|         1130| 3.477649|     Sat|2016|    2|              1|  21|           1.0|\n",
      "|3973319|        2|              1|       -73.99422|      40.713306|        -73.98285|         40.6923|                 0|          892| 1.586218|     Mon|2016|    6|              2|  21|           6.0|\n",
      "|1410897|        1|              1|       -73.98212|       40.75635|        -73.86569|        40.77099|                 0|         2331| 16.24001|     Wed|2016|    3|              1|  14|           3.0|\n",
      "| 266980|        1|              1|       -73.97094|       40.76167|        -73.99624|        40.72537|                 0|         1479|3.5293458|     Tue|2016|    5|              2|  10|           5.0|\n",
      "+-------+---------+---------------+----------------+---------------+-----------------+----------------+------------------+-------------+---------+--------+----+-----+---------------+----+--------------+\n",
      "only showing top 20 rows\n",
      "\n"
     ]
    }
   ],
   "source": [
    "# Convert week day string column into index column.\n",
    "label_index = StringIndexer(inputCol = 'week_day', outputCol = 'week_day_index')\n",
    "df = label_index.fit(df).transform(df)\n",
    "df.show()"
   ]
  },
  {
   "cell_type": "code",
   "execution_count": 28,
   "id": "9475ab9e",
   "metadata": {},
   "outputs": [
    {
     "name": "stdout",
     "output_type": "stream",
     "text": [
      "+--------------------+\n",
      "|      input_features|\n",
      "+--------------------+\n",
      "|[2.0,1.0,-73.9821...|\n",
      "|[1.0,1.0,-73.9804...|\n",
      "|[2.0,1.0,-73.9790...|\n",
      "|[1.0,4.0,-73.9690...|\n",
      "|[2.0,1.0,-73.9692...|\n",
      "|[1.0,1.0,-73.9994...|\n",
      "|[2.0,1.0,-73.9826...|\n",
      "|[2.0,4.0,-73.9915...|\n",
      "|[2.0,2.0,-73.9629...|\n",
      "|[2.0,1.0,-73.9921...|\n",
      "|[1.0,1.0,-74.0039...|\n",
      "|[1.0,1.0,-73.9803...|\n",
      "|[2.0,1.0,-73.9795...|\n",
      "|[1.0,1.0,-73.9935...|\n",
      "|[2.0,1.0,-73.9552...|\n",
      "|[2.0,1.0,-73.9565...|\n",
      "|[1.0,1.0,-73.9837...|\n",
      "|[2.0,1.0,-73.9942...|\n",
      "|[1.0,1.0,-73.9821...|\n",
      "|[1.0,1.0,-73.9709...|\n",
      "+--------------------+\n",
      "only showing top 20 rows\n",
      "\n"
     ]
    }
   ],
   "source": [
    "# Creating a list of input columns headers\n",
    "input_col = [i[0] for i in df.dtypes if i[1] == \"int\" or i[1] == \"double\"]\n",
    "input_col.remove(\"trip_duration\")\n",
    "input_col.remove(\"id\")\n",
    "\n",
    "# Creating a dataframe of input columns.\n",
    "input_features = VectorAssembler(inputCols = input_col, outputCol = \"input_features\")\n",
    "input_column = input_features.transform(df)\n",
    "input_column.select(\"input_features\").show()"
   ]
  },
  {
   "cell_type": "code",
   "execution_count": 29,
   "id": "21ceee28",
   "metadata": {},
   "outputs": [
    {
     "name": "stdout",
     "output_type": "stream",
     "text": [
      "+--------------------+-------------+\n",
      "|      input_features|trip_duration|\n",
      "+--------------------+-------------+\n",
      "|[2.0,1.0,-73.9821...|          455|\n",
      "|[1.0,1.0,-73.9804...|          663|\n",
      "|[2.0,1.0,-73.9790...|         2124|\n",
      "|[1.0,4.0,-73.9690...|          341|\n",
      "|[2.0,1.0,-73.9692...|         1551|\n",
      "+--------------------+-------------+\n",
      "only showing top 5 rows\n",
      "\n"
     ]
    }
   ],
   "source": [
    "data_frame = input_column.select(\"input_features\", \"trip_duration\")\n",
    "data_frame.show(5)"
   ]
  },
  {
   "cell_type": "markdown",
   "id": "7735d8c6",
   "metadata": {},
   "source": [
    "## Linear Regression model"
   ]
  },
  {
   "cell_type": "code",
   "execution_count": 30,
   "id": "4aebe36c",
   "metadata": {},
   "outputs": [],
   "source": [
    "# Split training and testing dataset for the models.\n",
    "train, test = data_frame.randomSplit([0.7, 0.3])\n",
    "\n",
    "# linear regression model.\n",
    "linear_regression = LinearRegression(labelCol = \"trip_duration\", featuresCol = \"input_features\")\n",
    "\n",
    "# Create ParamGrid for Cross Validation.\n",
    "linear_regression_param_grid = ParamGridBuilder() \\\n",
    "                                .addGrid(linear_regression.regParam, [0.01, 0.1, 0.5, 1.0, 2.0]) \\\n",
    "                                .addGrid(linear_regression.elasticNetParam, [0.0, 0.25, 0.5, 0.75, 1.0]) \\\n",
    "                                .addGrid(linear_regression.maxIter, [1, 5, 10, 20, 50]) \\\n",
    "                                .build()\n",
    "\n",
    "# evaluator with the root mean square error metric.\n",
    "evaluator = RegressionEvaluator(predictionCol = \"prediction\", labelCol = \"trip_duration\", metricName = \"rmse\")\n",
    "\n",
    "# cross validator with total 5 folds.\n",
    "cross_validator = CrossValidator(estimator = linear_regression,\n",
    "                      estimatorParamMaps = linear_regression_param_grid,\n",
    "                      evaluator = evaluator,\n",
    "                      numFolds = 5)"
   ]
  },
  {
   "cell_type": "code",
   "execution_count": 31,
   "id": "e68b801c",
   "metadata": {},
   "outputs": [
    {
     "name": "stderr",
     "output_type": "stream",
     "text": [
      "                                                                                \r"
     ]
    },
    {
     "name": "stdout",
     "output_type": "stream",
     "text": [
      "23/01/14 15:34:55 WARN InstanceBuilder$NativeLAPACK: Failed to load implementation from:dev.ludovic.netlib.lapack.JNILAPACK\n"
     ]
    },
    {
     "name": "stderr",
     "output_type": "stream",
     "text": [
      "                                                                                \r"
     ]
    }
   ],
   "source": [
    "# Training a linear regression model.\n",
    "model = cross_validator.fit(train)"
   ]
  },
  {
   "cell_type": "code",
   "execution_count": 36,
   "id": "2f8bc6ce",
   "metadata": {},
   "outputs": [
    {
     "name": "stdout",
     "output_type": "stream",
     "text": [
      "Best Regression Param:  0.1\n",
      "Best Elastic Net Param:  0.75\n",
      "Best maxIter Param:  50\n",
      "Intercept:  -16692.383170831203\n",
      "Coefficient of Determination(Accuracy on Training data):  50.1 %\n",
      "Coefficients:  [-0.9437615811110158,2.363040263139473,-322.41843037716217,-217.52903235402331,-525.288344268495,-899.6268985849673,85.87879021095615,81.99337823918947,0.0,19.043871597021234,24.458390904352143,5.231982929145022,-12.440055126920804]\n"
     ]
    }
   ],
   "source": [
    "# Print best parameter of the model.\n",
    "print(\"Best Regression Param: \", model.bestModel._java_obj.getRegParam())\n",
    "print(\"Best Elastic Net Param: \", model.bestModel._java_obj.getElasticNetParam())\n",
    "print(\"Best maxIter Param: \", model.bestModel._java_obj.getMaxIter())\n",
    "print(\"Intercept: \", model.bestModel.intercept)\n",
    "\n",
    "# Acuracy and coefficients of the linear equation.\n",
    "print(\"Coefficient of Determination(Accuracy on Training data): \", str(round(model.bestModel.summary.r2*100, 2)), \"%\")\n",
    "print(\"Coefficients: \", model.bestModel.coefficients)"
   ]
  },
  {
   "cell_type": "code",
   "execution_count": 37,
   "id": "ac14b432",
   "metadata": {},
   "outputs": [
    {
     "name": "stderr",
     "output_type": "stream",
     "text": [
      "\r",
      "[Stage 5225:>                                                       (0 + 1) / 1]\r"
     ]
    },
    {
     "name": "stdout",
     "output_type": "stream",
     "text": [
      "+--------------------+-------------+------------------+\n",
      "|      input_features|trip_duration|        prediction|\n",
      "+--------------------+-------------+------------------+\n",
      "|[1.0,1.0,-74.1793...|         2975| 5131.088150512132|\n",
      "|[1.0,1.0,-74.0280...|         1959|1126.2990554000062|\n",
      "|[1.0,1.0,-74.0279...|          834| 956.8710007384761|\n",
      "|[1.0,1.0,-74.0180...|          306| 771.0854912196191|\n",
      "|[1.0,1.0,-74.0179...|         1054|1243.7367192554193|\n",
      "+--------------------+-------------+------------------+\n",
      "only showing top 5 rows\n",
      "\n"
     ]
    },
    {
     "name": "stderr",
     "output_type": "stream",
     "text": [
      "\r",
      "                                                                                \r"
     ]
    }
   ],
   "source": [
    "# Predict.\n",
    "prediction = model.transform(test)\n",
    "\n",
    "prediction.show(5)"
   ]
  },
  {
   "cell_type": "code",
   "execution_count": 38,
   "id": "7469670a",
   "metadata": {},
   "outputs": [
    {
     "name": "stderr",
     "output_type": "stream",
     "text": [
      "                                                                                \r"
     ]
    },
    {
     "name": "stdout",
     "output_type": "stream",
     "text": [
      "RMSE:  500.1457526949354\n"
     ]
    },
    {
     "name": "stderr",
     "output_type": "stream",
     "text": [
      "\r",
      "[Stage 5227:>                                                       (0 + 1) / 1]\r"
     ]
    },
    {
     "name": "stdout",
     "output_type": "stream",
     "text": [
      "Coefficient of Determination(Accuracy on Test Data):  50.371 %\n"
     ]
    },
    {
     "name": "stderr",
     "output_type": "stream",
     "text": [
      "\r",
      "                                                                                \r"
     ]
    }
   ],
   "source": [
    "# Evaluator for testing data.\n",
    "test_pred_evaluator = RegressionEvaluator(predictionCol = \"prediction\", labelCol = \"trip_duration\", metricName = \"r2\")\n",
    "\n",
    "# Print RMSE and accuracy of the model on testing data.\n",
    "print(\"RMSE: \", evaluator.evaluate(prediction))\n",
    "print(\"Coefficient of Determination(Accuracy on Test Data): \", str(round(test_pred_evaluator.evaluate(prediction)*100, 4)), \"%\")\n"
   ]
  },
  {
   "cell_type": "markdown",
   "id": "02f28b2b",
   "metadata": {},
   "source": [
    "## Gradient Boosted Trees Regression"
   ]
  },
  {
   "cell_type": "code",
   "execution_count": 39,
   "id": "b06760c9",
   "metadata": {
    "scrolled": true
   },
   "outputs": [],
   "source": [
    "# Gradient Boosted Trees regression instance.\n",
    "gbtr = GBTRegressor(featuresCol=\"input_features\", labelCol=\"trip_duration\")\n",
    "\n",
    "# Create ParamGrid for Cross Validation of gradient boosted trees regression.\n",
    "gradient_boosted_trees_param_grid = ParamGridBuilder() \\\n",
    "                                .addGrid(gbtr.maxDepth, [2, 5, 10]) \\\n",
    "                                .addGrid(gbtr.maxIter, [2, 5, 10, 15]) \\\n",
    "                                .build()\n",
    "\n",
    "# evaluator with the root mean square error metric for gbtr.\n",
    "gbt_evaluator = RegressionEvaluator(labelCol=\"trip_duration\", predictionCol=\"prediction\", metricName=\"rmse\")\n",
    "\n",
    "# Cross validator for gbtr with 5 total folds.\n",
    "cross_validator_gbtr = CrossValidator(estimator = gbtr,\n",
    "                      estimatorParamMaps = gradient_boosted_trees_param_grid,\n",
    "                      evaluator = gbt_evaluator,\n",
    "                      numFolds = 5)"
   ]
  },
  {
   "cell_type": "code",
   "execution_count": 40,
   "id": "3bf3d387",
   "metadata": {
    "scrolled": true
   },
   "outputs": [
    {
     "name": "stderr",
     "output_type": "stream",
     "text": [
      "                                                                                \r"
     ]
    },
    {
     "name": "stdout",
     "output_type": "stream",
     "text": [
      "23/01/14 15:38:48 WARN DAGScheduler: Broadcasting large task binary with size 1016.3 KiB\n",
      "23/01/14 15:38:49 WARN DAGScheduler: Broadcasting large task binary with size 1027.2 KiB\n",
      "23/01/14 15:38:49 WARN DAGScheduler: Broadcasting large task binary with size 1027.7 KiB\n",
      "23/01/14 15:38:49 WARN DAGScheduler: Broadcasting large task binary with size 1028.3 KiB\n",
      "23/01/14 15:38:49 WARN DAGScheduler: Broadcasting large task binary with size 1029.4 KiB\n",
      "23/01/14 15:38:49 WARN DAGScheduler: Broadcasting large task binary with size 1031.7 KiB\n",
      "23/01/14 15:38:49 WARN DAGScheduler: Broadcasting large task binary with size 1036.2 KiB\n",
      "23/01/14 15:38:49 WARN DAGScheduler: Broadcasting large task binary with size 1045.5 KiB\n",
      "23/01/14 15:38:49 WARN DAGScheduler: Broadcasting large task binary with size 1064.1 KiB\n",
      "23/01/14 15:38:49 WARN DAGScheduler: Broadcasting large task binary with size 1100.7 KiB\n",
      "23/01/14 15:38:49 WARN DAGScheduler: Broadcasting large task binary with size 1170.2 KiB\n",
      "23/01/14 15:38:50 WARN DAGScheduler: Broadcasting large task binary with size 1182.9 KiB\n",
      "23/01/14 15:38:50 WARN DAGScheduler: Broadcasting large task binary with size 1183.4 KiB\n",
      "23/01/14 15:38:50 WARN DAGScheduler: Broadcasting large task binary with size 1184.0 KiB\n",
      "23/01/14 15:38:50 WARN DAGScheduler: Broadcasting large task binary with size 1185.2 KiB\n",
      "23/01/14 15:38:50 WARN DAGScheduler: Broadcasting large task binary with size 1187.4 KiB\n",
      "23/01/14 15:38:50 WARN DAGScheduler: Broadcasting large task binary with size 1192.0 KiB\n",
      "23/01/14 15:38:50 WARN DAGScheduler: Broadcasting large task binary with size 1201.0 KiB\n",
      "23/01/14 15:38:50 WARN DAGScheduler: Broadcasting large task binary with size 1218.6 KiB\n",
      "23/01/14 15:38:50 WARN DAGScheduler: Broadcasting large task binary with size 1253.1 KiB\n",
      "23/01/14 15:38:50 WARN DAGScheduler: Broadcasting large task binary with size 1318.0 KiB\n",
      "23/01/14 15:38:51 WARN DAGScheduler: Broadcasting large task binary with size 1330.9 KiB\n",
      "23/01/14 15:38:51 WARN DAGScheduler: Broadcasting large task binary with size 1331.4 KiB\n",
      "23/01/14 15:38:51 WARN DAGScheduler: Broadcasting large task binary with size 1332.1 KiB\n",
      "23/01/14 15:38:51 WARN DAGScheduler: Broadcasting large task binary with size 1333.2 KiB\n",
      "23/01/14 15:38:51 WARN DAGScheduler: Broadcasting large task binary with size 1335.5 KiB\n",
      "23/01/14 15:38:51 WARN DAGScheduler: Broadcasting large task binary with size 1340.2 KiB\n",
      "23/01/14 15:38:51 WARN DAGScheduler: Broadcasting large task binary with size 1349.6 KiB\n",
      "23/01/14 15:38:51 WARN DAGScheduler: Broadcasting large task binary with size 1367.6 KiB\n",
      "23/01/14 15:38:51 WARN DAGScheduler: Broadcasting large task binary with size 1403.6 KiB\n",
      "23/01/14 15:38:51 WARN DAGScheduler: Broadcasting large task binary with size 1472.3 KiB\n",
      "23/01/14 15:38:52 WARN DAGScheduler: Broadcasting large task binary with size 1485.7 KiB\n",
      "23/01/14 15:38:52 WARN DAGScheduler: Broadcasting large task binary with size 1486.2 KiB\n",
      "23/01/14 15:38:52 WARN DAGScheduler: Broadcasting large task binary with size 1486.8 KiB\n",
      "23/01/14 15:38:52 WARN DAGScheduler: Broadcasting large task binary with size 1487.9 KiB\n",
      "23/01/14 15:38:52 WARN DAGScheduler: Broadcasting large task binary with size 1490.2 KiB\n",
      "23/01/14 15:38:52 WARN DAGScheduler: Broadcasting large task binary with size 1494.9 KiB\n",
      "23/01/14 15:38:52 WARN DAGScheduler: Broadcasting large task binary with size 1504.4 KiB\n",
      "23/01/14 15:38:52 WARN DAGScheduler: Broadcasting large task binary with size 1523.3 KiB\n",
      "23/01/14 15:38:52 WARN DAGScheduler: Broadcasting large task binary with size 1559.9 KiB\n",
      "23/01/14 15:38:53 WARN DAGScheduler: Broadcasting large task binary with size 1630.5 KiB\n",
      "23/01/14 15:38:58 WARN DAGScheduler: Broadcasting large task binary with size 1016.3 KiB\n",
      "23/01/14 15:38:59 WARN DAGScheduler: Broadcasting large task binary with size 1027.2 KiB\n",
      "23/01/14 15:38:59 WARN DAGScheduler: Broadcasting large task binary with size 1027.7 KiB\n",
      "23/01/14 15:38:59 WARN DAGScheduler: Broadcasting large task binary with size 1028.3 KiB\n",
      "23/01/14 15:38:59 WARN DAGScheduler: Broadcasting large task binary with size 1029.4 KiB\n",
      "23/01/14 15:38:59 WARN DAGScheduler: Broadcasting large task binary with size 1031.7 KiB\n",
      "23/01/14 15:38:59 WARN DAGScheduler: Broadcasting large task binary with size 1036.2 KiB\n",
      "23/01/14 15:38:59 WARN DAGScheduler: Broadcasting large task binary with size 1045.5 KiB\n",
      "23/01/14 15:38:59 WARN DAGScheduler: Broadcasting large task binary with size 1064.1 KiB\n",
      "23/01/14 15:38:59 WARN DAGScheduler: Broadcasting large task binary with size 1100.7 KiB\n",
      "23/01/14 15:38:59 WARN DAGScheduler: Broadcasting large task binary with size 1170.2 KiB\n",
      "23/01/14 15:39:00 WARN DAGScheduler: Broadcasting large task binary with size 1182.9 KiB\n",
      "23/01/14 15:39:00 WARN DAGScheduler: Broadcasting large task binary with size 1183.4 KiB\n",
      "23/01/14 15:39:00 WARN DAGScheduler: Broadcasting large task binary with size 1184.0 KiB\n",
      "23/01/14 15:39:00 WARN DAGScheduler: Broadcasting large task binary with size 1185.2 KiB\n",
      "23/01/14 15:39:00 WARN DAGScheduler: Broadcasting large task binary with size 1187.4 KiB\n",
      "23/01/14 15:39:00 WARN DAGScheduler: Broadcasting large task binary with size 1192.0 KiB\n",
      "23/01/14 15:39:00 WARN DAGScheduler: Broadcasting large task binary with size 1201.0 KiB\n",
      "23/01/14 15:39:00 WARN DAGScheduler: Broadcasting large task binary with size 1218.6 KiB\n",
      "23/01/14 15:39:00 WARN DAGScheduler: Broadcasting large task binary with size 1253.1 KiB\n",
      "23/01/14 15:39:00 WARN DAGScheduler: Broadcasting large task binary with size 1318.0 KiB\n",
      "23/01/14 15:39:01 WARN DAGScheduler: Broadcasting large task binary with size 1330.9 KiB\n",
      "23/01/14 15:39:01 WARN DAGScheduler: Broadcasting large task binary with size 1331.4 KiB\n",
      "23/01/14 15:39:01 WARN DAGScheduler: Broadcasting large task binary with size 1332.1 KiB\n",
      "23/01/14 15:39:01 WARN DAGScheduler: Broadcasting large task binary with size 1333.2 KiB\n",
      "23/01/14 15:39:01 WARN DAGScheduler: Broadcasting large task binary with size 1335.5 KiB\n",
      "23/01/14 15:39:01 WARN DAGScheduler: Broadcasting large task binary with size 1340.2 KiB\n",
      "23/01/14 15:39:01 WARN DAGScheduler: Broadcasting large task binary with size 1349.6 KiB\n",
      "23/01/14 15:39:01 WARN DAGScheduler: Broadcasting large task binary with size 1367.6 KiB\n",
      "23/01/14 15:39:01 WARN DAGScheduler: Broadcasting large task binary with size 1403.6 KiB\n",
      "23/01/14 15:39:01 WARN DAGScheduler: Broadcasting large task binary with size 1472.3 KiB\n",
      "23/01/14 15:39:02 WARN DAGScheduler: Broadcasting large task binary with size 1485.7 KiB\n",
      "23/01/14 15:39:02 WARN DAGScheduler: Broadcasting large task binary with size 1486.2 KiB\n",
      "23/01/14 15:39:02 WARN DAGScheduler: Broadcasting large task binary with size 1486.8 KiB\n",
      "23/01/14 15:39:02 WARN DAGScheduler: Broadcasting large task binary with size 1487.9 KiB\n",
      "23/01/14 15:39:02 WARN DAGScheduler: Broadcasting large task binary with size 1490.2 KiB\n",
      "23/01/14 15:39:02 WARN DAGScheduler: Broadcasting large task binary with size 1494.9 KiB\n",
      "23/01/14 15:39:02 WARN DAGScheduler: Broadcasting large task binary with size 1504.4 KiB\n",
      "23/01/14 15:39:02 WARN DAGScheduler: Broadcasting large task binary with size 1523.3 KiB\n",
      "23/01/14 15:39:02 WARN DAGScheduler: Broadcasting large task binary with size 1559.9 KiB\n",
      "23/01/14 15:39:02 WARN DAGScheduler: Broadcasting large task binary with size 1630.5 KiB\n",
      "23/01/14 15:39:03 WARN DAGScheduler: Broadcasting large task binary with size 1644.2 KiB\n",
      "23/01/14 15:39:03 WARN DAGScheduler: Broadcasting large task binary with size 1644.6 KiB\n",
      "23/01/14 15:39:03 WARN DAGScheduler: Broadcasting large task binary with size 1645.3 KiB\n",
      "23/01/14 15:39:03 WARN DAGScheduler: Broadcasting large task binary with size 1646.4 KiB\n",
      "23/01/14 15:39:03 WARN DAGScheduler: Broadcasting large task binary with size 1648.7 KiB\n",
      "23/01/14 15:39:03 WARN DAGScheduler: Broadcasting large task binary with size 1653.4 KiB\n",
      "23/01/14 15:39:03 WARN DAGScheduler: Broadcasting large task binary with size 1662.7 KiB\n",
      "23/01/14 15:39:03 WARN DAGScheduler: Broadcasting large task binary with size 1681.4 KiB\n",
      "23/01/14 15:39:03 WARN DAGScheduler: Broadcasting large task binary with size 1718.2 KiB\n",
      "23/01/14 15:39:04 WARN DAGScheduler: Broadcasting large task binary with size 1789.3 KiB\n",
      "23/01/14 15:39:04 WARN DAGScheduler: Broadcasting large task binary with size 1804.5 KiB\n"
     ]
    },
    {
     "name": "stdout",
     "output_type": "stream",
     "text": [
      "23/01/14 15:39:04 WARN DAGScheduler: Broadcasting large task binary with size 1805.0 KiB\n",
      "23/01/14 15:39:04 WARN DAGScheduler: Broadcasting large task binary with size 1805.5 KiB\n",
      "23/01/14 15:39:04 WARN DAGScheduler: Broadcasting large task binary with size 1806.7 KiB\n",
      "23/01/14 15:39:04 WARN DAGScheduler: Broadcasting large task binary with size 1809.0 KiB\n",
      "23/01/14 15:39:04 WARN DAGScheduler: Broadcasting large task binary with size 1813.6 KiB\n",
      "23/01/14 15:39:04 WARN DAGScheduler: Broadcasting large task binary with size 1823.0 KiB\n",
      "23/01/14 15:39:04 WARN DAGScheduler: Broadcasting large task binary with size 1842.2 KiB\n",
      "23/01/14 15:39:05 WARN DAGScheduler: Broadcasting large task binary with size 1878.1 KiB\n",
      "23/01/14 15:39:05 WARN DAGScheduler: Broadcasting large task binary with size 1945.7 KiB\n",
      "23/01/14 15:39:05 WARN DAGScheduler: Broadcasting large task binary with size 1956.5 KiB\n",
      "23/01/14 15:39:05 WARN DAGScheduler: Broadcasting large task binary with size 1956.9 KiB\n",
      "23/01/14 15:39:05 WARN DAGScheduler: Broadcasting large task binary with size 1957.6 KiB\n",
      "23/01/14 15:39:05 WARN DAGScheduler: Broadcasting large task binary with size 1958.9 KiB\n",
      "23/01/14 15:39:05 WARN DAGScheduler: Broadcasting large task binary with size 1961.2 KiB\n",
      "23/01/14 15:39:05 WARN DAGScheduler: Broadcasting large task binary with size 1965.7 KiB\n",
      "23/01/14 15:39:05 WARN DAGScheduler: Broadcasting large task binary with size 1974.9 KiB\n",
      "23/01/14 15:39:05 WARN DAGScheduler: Broadcasting large task binary with size 1993.1 KiB\n",
      "23/01/14 15:39:06 WARN DAGScheduler: Broadcasting large task binary with size 2025.6 KiB\n",
      "23/01/14 15:39:06 WARN DAGScheduler: Broadcasting large task binary with size 2.0 MiB\n",
      "23/01/14 15:39:06 WARN DAGScheduler: Broadcasting large task binary with size 2.0 MiB\n",
      "23/01/14 15:39:06 WARN DAGScheduler: Broadcasting large task binary with size 2.0 MiB\n",
      "23/01/14 15:39:06 WARN DAGScheduler: Broadcasting large task binary with size 2.0 MiB\n",
      "23/01/14 15:39:06 WARN DAGScheduler: Broadcasting large task binary with size 2.0 MiB\n",
      "23/01/14 15:39:06 WARN DAGScheduler: Broadcasting large task binary with size 2.0 MiB\n",
      "23/01/14 15:39:06 WARN DAGScheduler: Broadcasting large task binary with size 2.1 MiB\n",
      "23/01/14 15:39:06 WARN DAGScheduler: Broadcasting large task binary with size 2.1 MiB\n",
      "23/01/14 15:39:07 WARN DAGScheduler: Broadcasting large task binary with size 2.1 MiB\n",
      "23/01/14 15:39:07 WARN DAGScheduler: Broadcasting large task binary with size 2.1 MiB\n",
      "23/01/14 15:39:07 WARN DAGScheduler: Broadcasting large task binary with size 2.2 MiB\n",
      "23/01/14 15:39:07 WARN DAGScheduler: Broadcasting large task binary with size 2.2 MiB\n",
      "23/01/14 15:39:07 WARN DAGScheduler: Broadcasting large task binary with size 2.2 MiB\n",
      "23/01/14 15:39:07 WARN DAGScheduler: Broadcasting large task binary with size 2.2 MiB\n",
      "23/01/14 15:39:07 WARN DAGScheduler: Broadcasting large task binary with size 2.2 MiB\n",
      "23/01/14 15:39:07 WARN DAGScheduler: Broadcasting large task binary with size 2.2 MiB\n",
      "23/01/14 15:39:08 WARN DAGScheduler: Broadcasting large task binary with size 2.2 MiB\n",
      "23/01/14 15:39:08 WARN DAGScheduler: Broadcasting large task binary with size 2.2 MiB\n",
      "23/01/14 15:39:08 WARN DAGScheduler: Broadcasting large task binary with size 2.2 MiB\n",
      "23/01/14 15:39:08 WARN DAGScheduler: Broadcasting large task binary with size 2.3 MiB\n",
      "23/01/14 15:39:08 WARN DAGScheduler: Broadcasting large task binary with size 2.3 MiB\n"
     ]
    },
    {
     "name": "stderr",
     "output_type": "stream",
     "text": [
      "                                                                                \r"
     ]
    },
    {
     "name": "stdout",
     "output_type": "stream",
     "text": [
      "23/01/14 15:39:44 WARN DAGScheduler: Broadcasting large task binary with size 1005.1 KiB\n",
      "23/01/14 15:39:44 WARN DAGScheduler: Broadcasting large task binary with size 1005.6 KiB\n",
      "23/01/14 15:39:44 WARN DAGScheduler: Broadcasting large task binary with size 1006.2 KiB\n",
      "23/01/14 15:39:44 WARN DAGScheduler: Broadcasting large task binary with size 1007.5 KiB\n",
      "23/01/14 15:39:45 WARN DAGScheduler: Broadcasting large task binary with size 1009.7 KiB\n",
      "23/01/14 15:39:45 WARN DAGScheduler: Broadcasting large task binary with size 1014.3 KiB\n",
      "23/01/14 15:39:45 WARN DAGScheduler: Broadcasting large task binary with size 1023.6 KiB\n",
      "23/01/14 15:39:45 WARN DAGScheduler: Broadcasting large task binary with size 1042.1 KiB\n",
      "23/01/14 15:39:45 WARN DAGScheduler: Broadcasting large task binary with size 1077.6 KiB\n",
      "23/01/14 15:39:45 WARN DAGScheduler: Broadcasting large task binary with size 1146.3 KiB\n",
      "23/01/14 15:39:45 WARN DAGScheduler: Broadcasting large task binary with size 1157.8 KiB\n",
      "23/01/14 15:39:45 WARN DAGScheduler: Broadcasting large task binary with size 1158.3 KiB\n",
      "23/01/14 15:39:45 WARN DAGScheduler: Broadcasting large task binary with size 1159.0 KiB\n",
      "23/01/14 15:39:45 WARN DAGScheduler: Broadcasting large task binary with size 1160.2 KiB\n",
      "23/01/14 15:39:46 WARN DAGScheduler: Broadcasting large task binary with size 1162.5 KiB\n",
      "23/01/14 15:39:46 WARN DAGScheduler: Broadcasting large task binary with size 1167.0 KiB\n",
      "23/01/14 15:39:46 WARN DAGScheduler: Broadcasting large task binary with size 1176.0 KiB\n",
      "23/01/14 15:39:46 WARN DAGScheduler: Broadcasting large task binary with size 1194.0 KiB\n",
      "23/01/14 15:39:46 WARN DAGScheduler: Broadcasting large task binary with size 1227.2 KiB\n",
      "23/01/14 15:39:46 WARN DAGScheduler: Broadcasting large task binary with size 1288.0 KiB\n",
      "23/01/14 15:39:46 WARN DAGScheduler: Broadcasting large task binary with size 1293.5 KiB\n",
      "23/01/14 15:39:46 WARN DAGScheduler: Broadcasting large task binary with size 1294.0 KiB\n",
      "23/01/14 15:39:46 WARN DAGScheduler: Broadcasting large task binary with size 1294.6 KiB\n",
      "23/01/14 15:39:47 WARN DAGScheduler: Broadcasting large task binary with size 1295.8 KiB\n",
      "23/01/14 15:39:47 WARN DAGScheduler: Broadcasting large task binary with size 1298.1 KiB\n",
      "23/01/14 15:39:47 WARN DAGScheduler: Broadcasting large task binary with size 1303.0 KiB\n",
      "23/01/14 15:39:47 WARN DAGScheduler: Broadcasting large task binary with size 1312.5 KiB\n",
      "23/01/14 15:39:47 WARN DAGScheduler: Broadcasting large task binary with size 1330.9 KiB\n",
      "23/01/14 15:39:47 WARN DAGScheduler: Broadcasting large task binary with size 1365.2 KiB\n",
      "23/01/14 15:39:47 WARN DAGScheduler: Broadcasting large task binary with size 1430.9 KiB\n",
      "23/01/14 15:39:47 WARN DAGScheduler: Broadcasting large task binary with size 1439.1 KiB\n",
      "23/01/14 15:39:47 WARN DAGScheduler: Broadcasting large task binary with size 1439.5 KiB\n",
      "23/01/14 15:39:48 WARN DAGScheduler: Broadcasting large task binary with size 1440.1 KiB\n",
      "23/01/14 15:39:48 WARN DAGScheduler: Broadcasting large task binary with size 1441.2 KiB\n",
      "23/01/14 15:39:48 WARN DAGScheduler: Broadcasting large task binary with size 1443.5 KiB\n",
      "23/01/14 15:39:48 WARN DAGScheduler: Broadcasting large task binary with size 1448.0 KiB\n",
      "23/01/14 15:39:48 WARN DAGScheduler: Broadcasting large task binary with size 1457.1 KiB\n",
      "23/01/14 15:39:48 WARN DAGScheduler: Broadcasting large task binary with size 1475.3 KiB\n",
      "23/01/14 15:39:48 WARN DAGScheduler: Broadcasting large task binary with size 1510.6 KiB\n",
      "23/01/14 15:39:48 WARN DAGScheduler: Broadcasting large task binary with size 1576.8 KiB\n",
      "23/01/14 15:39:54 WARN DAGScheduler: Broadcasting large task binary with size 1005.1 KiB\n",
      "23/01/14 15:39:54 WARN DAGScheduler: Broadcasting large task binary with size 1005.6 KiB\n",
      "23/01/14 15:39:55 WARN DAGScheduler: Broadcasting large task binary with size 1006.2 KiB\n",
      "23/01/14 15:39:55 WARN DAGScheduler: Broadcasting large task binary with size 1007.5 KiB\n",
      "23/01/14 15:39:55 WARN DAGScheduler: Broadcasting large task binary with size 1009.7 KiB\n",
      "23/01/14 15:39:55 WARN DAGScheduler: Broadcasting large task binary with size 1014.3 KiB\n",
      "23/01/14 15:39:55 WARN DAGScheduler: Broadcasting large task binary with size 1023.6 KiB\n",
      "23/01/14 15:39:55 WARN DAGScheduler: Broadcasting large task binary with size 1042.1 KiB\n",
      "23/01/14 15:39:55 WARN DAGScheduler: Broadcasting large task binary with size 1077.6 KiB\n",
      "23/01/14 15:39:55 WARN DAGScheduler: Broadcasting large task binary with size 1146.3 KiB\n",
      "23/01/14 15:39:55 WARN DAGScheduler: Broadcasting large task binary with size 1157.8 KiB\n",
      "23/01/14 15:39:56 WARN DAGScheduler: Broadcasting large task binary with size 1158.3 KiB\n",
      "23/01/14 15:39:56 WARN DAGScheduler: Broadcasting large task binary with size 1159.0 KiB\n",
      "23/01/14 15:39:56 WARN DAGScheduler: Broadcasting large task binary with size 1160.2 KiB\n",
      "23/01/14 15:39:56 WARN DAGScheduler: Broadcasting large task binary with size 1162.5 KiB\n",
      "23/01/14 15:39:56 WARN DAGScheduler: Broadcasting large task binary with size 1167.0 KiB\n",
      "23/01/14 15:39:56 WARN DAGScheduler: Broadcasting large task binary with size 1176.0 KiB\n",
      "23/01/14 15:39:56 WARN DAGScheduler: Broadcasting large task binary with size 1194.0 KiB\n",
      "23/01/14 15:39:56 WARN DAGScheduler: Broadcasting large task binary with size 1227.2 KiB\n",
      "23/01/14 15:39:56 WARN DAGScheduler: Broadcasting large task binary with size 1288.0 KiB\n",
      "23/01/14 15:39:56 WARN DAGScheduler: Broadcasting large task binary with size 1293.5 KiB\n",
      "23/01/14 15:39:57 WARN DAGScheduler: Broadcasting large task binary with size 1294.0 KiB\n",
      "23/01/14 15:39:57 WARN DAGScheduler: Broadcasting large task binary with size 1294.6 KiB\n",
      "23/01/14 15:39:57 WARN DAGScheduler: Broadcasting large task binary with size 1295.8 KiB\n",
      "23/01/14 15:39:57 WARN DAGScheduler: Broadcasting large task binary with size 1298.1 KiB\n",
      "23/01/14 15:39:57 WARN DAGScheduler: Broadcasting large task binary with size 1303.0 KiB\n",
      "23/01/14 15:39:57 WARN DAGScheduler: Broadcasting large task binary with size 1312.5 KiB\n",
      "23/01/14 15:39:57 WARN DAGScheduler: Broadcasting large task binary with size 1330.9 KiB\n",
      "23/01/14 15:39:57 WARN DAGScheduler: Broadcasting large task binary with size 1365.2 KiB\n",
      "23/01/14 15:39:57 WARN DAGScheduler: Broadcasting large task binary with size 1430.9 KiB\n",
      "23/01/14 15:39:57 WARN DAGScheduler: Broadcasting large task binary with size 1439.1 KiB\n",
      "23/01/14 15:39:58 WARN DAGScheduler: Broadcasting large task binary with size 1439.5 KiB\n",
      "23/01/14 15:39:58 WARN DAGScheduler: Broadcasting large task binary with size 1440.1 KiB\n",
      "23/01/14 15:39:58 WARN DAGScheduler: Broadcasting large task binary with size 1441.2 KiB\n",
      "23/01/14 15:39:58 WARN DAGScheduler: Broadcasting large task binary with size 1443.5 KiB\n",
      "23/01/14 15:39:58 WARN DAGScheduler: Broadcasting large task binary with size 1448.0 KiB\n",
      "23/01/14 15:39:58 WARN DAGScheduler: Broadcasting large task binary with size 1457.1 KiB\n",
      "23/01/14 15:39:58 WARN DAGScheduler: Broadcasting large task binary with size 1475.3 KiB\n",
      "23/01/14 15:39:58 WARN DAGScheduler: Broadcasting large task binary with size 1510.6 KiB\n",
      "23/01/14 15:39:58 WARN DAGScheduler: Broadcasting large task binary with size 1576.8 KiB\n",
      "23/01/14 15:39:58 WARN DAGScheduler: Broadcasting large task binary with size 1588.2 KiB\n",
      "23/01/14 15:39:59 WARN DAGScheduler: Broadcasting large task binary with size 1588.7 KiB\n",
      "23/01/14 15:39:59 WARN DAGScheduler: Broadcasting large task binary with size 1589.3 KiB\n",
      "23/01/14 15:39:59 WARN DAGScheduler: Broadcasting large task binary with size 1590.4 KiB\n",
      "23/01/14 15:39:59 WARN DAGScheduler: Broadcasting large task binary with size 1592.6 KiB\n",
      "23/01/14 15:39:59 WARN DAGScheduler: Broadcasting large task binary with size 1597.2 KiB\n",
      "23/01/14 15:39:59 WARN DAGScheduler: Broadcasting large task binary with size 1606.5 KiB\n",
      "23/01/14 15:39:59 WARN DAGScheduler: Broadcasting large task binary with size 1625.3 KiB\n",
      "23/01/14 15:39:59 WARN DAGScheduler: Broadcasting large task binary with size 1661.0 KiB\n",
      "23/01/14 15:39:59 WARN DAGScheduler: Broadcasting large task binary with size 1724.2 KiB\n",
      "23/01/14 15:39:59 WARN DAGScheduler: Broadcasting large task binary with size 1729.2 KiB\n",
      "23/01/14 15:40:00 WARN DAGScheduler: Broadcasting large task binary with size 1729.7 KiB\n",
      "23/01/14 15:40:00 WARN DAGScheduler: Broadcasting large task binary with size 1730.2 KiB\n",
      "23/01/14 15:40:00 WARN DAGScheduler: Broadcasting large task binary with size 1731.5 KiB\n"
     ]
    },
    {
     "name": "stdout",
     "output_type": "stream",
     "text": [
      "23/01/14 15:40:00 WARN DAGScheduler: Broadcasting large task binary with size 1733.9 KiB\n",
      "23/01/14 15:40:00 WARN DAGScheduler: Broadcasting large task binary with size 1738.4 KiB\n",
      "23/01/14 15:40:00 WARN DAGScheduler: Broadcasting large task binary with size 1747.7 KiB\n",
      "23/01/14 15:40:00 WARN DAGScheduler: Broadcasting large task binary with size 1766.3 KiB\n",
      "23/01/14 15:40:00 WARN DAGScheduler: Broadcasting large task binary with size 1802.0 KiB\n",
      "23/01/14 15:40:00 WARN DAGScheduler: Broadcasting large task binary with size 1871.4 KiB\n",
      "23/01/14 15:40:01 WARN DAGScheduler: Broadcasting large task binary with size 1882.4 KiB\n",
      "23/01/14 15:40:01 WARN DAGScheduler: Broadcasting large task binary with size 1882.9 KiB\n",
      "23/01/14 15:40:01 WARN DAGScheduler: Broadcasting large task binary with size 1883.5 KiB\n",
      "23/01/14 15:40:01 WARN DAGScheduler: Broadcasting large task binary with size 1884.6 KiB\n",
      "23/01/14 15:40:01 WARN DAGScheduler: Broadcasting large task binary with size 1886.9 KiB\n",
      "23/01/14 15:40:01 WARN DAGScheduler: Broadcasting large task binary with size 1891.4 KiB\n",
      "23/01/14 15:40:01 WARN DAGScheduler: Broadcasting large task binary with size 1900.5 KiB\n",
      "23/01/14 15:40:01 WARN DAGScheduler: Broadcasting large task binary with size 1919.1 KiB\n",
      "23/01/14 15:40:01 WARN DAGScheduler: Broadcasting large task binary with size 1955.1 KiB\n",
      "23/01/14 15:40:01 WARN DAGScheduler: Broadcasting large task binary with size 2022.8 KiB\n",
      "23/01/14 15:40:02 WARN DAGScheduler: Broadcasting large task binary with size 2034.3 KiB\n",
      "23/01/14 15:40:02 WARN DAGScheduler: Broadcasting large task binary with size 2034.8 KiB\n",
      "23/01/14 15:40:02 WARN DAGScheduler: Broadcasting large task binary with size 2035.4 KiB\n",
      "23/01/14 15:40:02 WARN DAGScheduler: Broadcasting large task binary with size 2036.5 KiB\n",
      "23/01/14 15:40:02 WARN DAGScheduler: Broadcasting large task binary with size 2038.8 KiB\n",
      "23/01/14 15:40:02 WARN DAGScheduler: Broadcasting large task binary with size 2043.4 KiB\n",
      "23/01/14 15:40:02 WARN DAGScheduler: Broadcasting large task binary with size 2.0 MiB\n",
      "23/01/14 15:40:02 WARN DAGScheduler: Broadcasting large task binary with size 2.0 MiB\n",
      "23/01/14 15:40:02 WARN DAGScheduler: Broadcasting large task binary with size 2.1 MiB\n",
      "23/01/14 15:40:02 WARN DAGScheduler: Broadcasting large task binary with size 2.1 MiB\n",
      "23/01/14 15:40:03 WARN DAGScheduler: Broadcasting large task binary with size 2.1 MiB\n",
      "23/01/14 15:40:03 WARN DAGScheduler: Broadcasting large task binary with size 2.1 MiB\n",
      "23/01/14 15:40:03 WARN DAGScheduler: Broadcasting large task binary with size 2.1 MiB\n",
      "23/01/14 15:40:03 WARN DAGScheduler: Broadcasting large task binary with size 2.1 MiB\n",
      "23/01/14 15:40:03 WARN DAGScheduler: Broadcasting large task binary with size 2.1 MiB\n",
      "23/01/14 15:40:03 WARN DAGScheduler: Broadcasting large task binary with size 2.1 MiB\n",
      "23/01/14 15:40:03 WARN DAGScheduler: Broadcasting large task binary with size 2.1 MiB\n",
      "23/01/14 15:40:03 WARN DAGScheduler: Broadcasting large task binary with size 2.2 MiB\n",
      "23/01/14 15:40:03 WARN DAGScheduler: Broadcasting large task binary with size 2.2 MiB\n",
      "23/01/14 15:40:04 WARN DAGScheduler: Broadcasting large task binary with size 2.3 MiB\n"
     ]
    },
    {
     "name": "stderr",
     "output_type": "stream",
     "text": [
      "                                                                                \r"
     ]
    },
    {
     "name": "stdout",
     "output_type": "stream",
     "text": [
      "23/01/14 15:40:39 WARN DAGScheduler: Broadcasting large task binary with size 1010.7 KiB\n",
      "23/01/14 15:40:40 WARN DAGScheduler: Broadcasting large task binary with size 1024.2 KiB\n",
      "23/01/14 15:40:40 WARN DAGScheduler: Broadcasting large task binary with size 1024.7 KiB\n",
      "23/01/14 15:40:40 WARN DAGScheduler: Broadcasting large task binary with size 1025.2 KiB\n",
      "23/01/14 15:40:40 WARN DAGScheduler: Broadcasting large task binary with size 1026.5 KiB\n",
      "23/01/14 15:40:40 WARN DAGScheduler: Broadcasting large task binary with size 1029.0 KiB\n",
      "23/01/14 15:40:40 WARN DAGScheduler: Broadcasting large task binary with size 1033.6 KiB\n",
      "23/01/14 15:40:40 WARN DAGScheduler: Broadcasting large task binary with size 1043.1 KiB\n",
      "23/01/14 15:40:40 WARN DAGScheduler: Broadcasting large task binary with size 1061.8 KiB\n",
      "23/01/14 15:40:40 WARN DAGScheduler: Broadcasting large task binary with size 1098.2 KiB\n",
      "23/01/14 15:40:40 WARN DAGScheduler: Broadcasting large task binary with size 1167.3 KiB\n",
      "23/01/14 15:40:40 WARN DAGScheduler: Broadcasting large task binary with size 1176.8 KiB\n",
      "23/01/14 15:40:41 WARN DAGScheduler: Broadcasting large task binary with size 1177.3 KiB\n",
      "23/01/14 15:40:41 WARN DAGScheduler: Broadcasting large task binary with size 1178.0 KiB\n",
      "23/01/14 15:40:41 WARN DAGScheduler: Broadcasting large task binary with size 1179.1 KiB\n",
      "23/01/14 15:40:41 WARN DAGScheduler: Broadcasting large task binary with size 1181.4 KiB\n",
      "23/01/14 15:40:41 WARN DAGScheduler: Broadcasting large task binary with size 1185.9 KiB\n",
      "23/01/14 15:40:41 WARN DAGScheduler: Broadcasting large task binary with size 1195.3 KiB\n",
      "23/01/14 15:40:41 WARN DAGScheduler: Broadcasting large task binary with size 1213.9 KiB\n",
      "23/01/14 15:40:41 WARN DAGScheduler: Broadcasting large task binary with size 1249.5 KiB\n",
      "23/01/14 15:40:41 WARN DAGScheduler: Broadcasting large task binary with size 1318.4 KiB\n",
      "23/01/14 15:40:42 WARN DAGScheduler: Broadcasting large task binary with size 1333.6 KiB\n",
      "23/01/14 15:40:42 WARN DAGScheduler: Broadcasting large task binary with size 1334.1 KiB\n",
      "23/01/14 15:40:42 WARN DAGScheduler: Broadcasting large task binary with size 1334.7 KiB\n",
      "23/01/14 15:40:42 WARN DAGScheduler: Broadcasting large task binary with size 1335.8 KiB\n",
      "23/01/14 15:40:42 WARN DAGScheduler: Broadcasting large task binary with size 1338.4 KiB\n",
      "23/01/14 15:40:42 WARN DAGScheduler: Broadcasting large task binary with size 1343.1 KiB\n",
      "23/01/14 15:40:42 WARN DAGScheduler: Broadcasting large task binary with size 1352.6 KiB\n",
      "23/01/14 15:40:42 WARN DAGScheduler: Broadcasting large task binary with size 1371.5 KiB\n",
      "23/01/14 15:40:42 WARN DAGScheduler: Broadcasting large task binary with size 1408.4 KiB\n",
      "23/01/14 15:40:42 WARN DAGScheduler: Broadcasting large task binary with size 1479.3 KiB\n",
      "23/01/14 15:40:43 WARN DAGScheduler: Broadcasting large task binary with size 1491.9 KiB\n",
      "23/01/14 15:40:43 WARN DAGScheduler: Broadcasting large task binary with size 1492.4 KiB\n",
      "23/01/14 15:40:43 WARN DAGScheduler: Broadcasting large task binary with size 1493.0 KiB\n",
      "23/01/14 15:40:43 WARN DAGScheduler: Broadcasting large task binary with size 1494.1 KiB\n",
      "23/01/14 15:40:43 WARN DAGScheduler: Broadcasting large task binary with size 1496.5 KiB\n",
      "23/01/14 15:40:43 WARN DAGScheduler: Broadcasting large task binary with size 1501.0 KiB\n",
      "23/01/14 15:40:43 WARN DAGScheduler: Broadcasting large task binary with size 1510.4 KiB\n",
      "23/01/14 15:40:43 WARN DAGScheduler: Broadcasting large task binary with size 1529.2 KiB\n",
      "23/01/14 15:40:43 WARN DAGScheduler: Broadcasting large task binary with size 1566.6 KiB\n",
      "23/01/14 15:40:43 WARN DAGScheduler: Broadcasting large task binary with size 1636.4 KiB\n",
      "23/01/14 15:40:49 WARN DAGScheduler: Broadcasting large task binary with size 1010.7 KiB\n",
      "23/01/14 15:40:49 WARN DAGScheduler: Broadcasting large task binary with size 1024.2 KiB\n",
      "23/01/14 15:40:49 WARN DAGScheduler: Broadcasting large task binary with size 1024.7 KiB\n",
      "23/01/14 15:40:49 WARN DAGScheduler: Broadcasting large task binary with size 1025.2 KiB\n",
      "23/01/14 15:40:49 WARN DAGScheduler: Broadcasting large task binary with size 1026.5 KiB\n",
      "23/01/14 15:40:50 WARN DAGScheduler: Broadcasting large task binary with size 1029.0 KiB\n",
      "23/01/14 15:40:50 WARN DAGScheduler: Broadcasting large task binary with size 1033.6 KiB\n",
      "23/01/14 15:40:50 WARN DAGScheduler: Broadcasting large task binary with size 1043.1 KiB\n",
      "23/01/14 15:40:50 WARN DAGScheduler: Broadcasting large task binary with size 1061.8 KiB\n",
      "23/01/14 15:40:50 WARN DAGScheduler: Broadcasting large task binary with size 1098.2 KiB\n",
      "23/01/14 15:40:50 WARN DAGScheduler: Broadcasting large task binary with size 1167.3 KiB\n",
      "23/01/14 15:40:50 WARN DAGScheduler: Broadcasting large task binary with size 1176.8 KiB\n",
      "23/01/14 15:40:50 WARN DAGScheduler: Broadcasting large task binary with size 1177.3 KiB\n",
      "23/01/14 15:40:50 WARN DAGScheduler: Broadcasting large task binary with size 1178.0 KiB\n",
      "23/01/14 15:40:50 WARN DAGScheduler: Broadcasting large task binary with size 1179.1 KiB\n",
      "23/01/14 15:40:51 WARN DAGScheduler: Broadcasting large task binary with size 1181.4 KiB\n",
      "23/01/14 15:40:51 WARN DAGScheduler: Broadcasting large task binary with size 1185.9 KiB\n",
      "23/01/14 15:40:51 WARN DAGScheduler: Broadcasting large task binary with size 1195.3 KiB\n",
      "23/01/14 15:40:51 WARN DAGScheduler: Broadcasting large task binary with size 1213.9 KiB\n",
      "23/01/14 15:40:51 WARN DAGScheduler: Broadcasting large task binary with size 1249.5 KiB\n",
      "23/01/14 15:40:51 WARN DAGScheduler: Broadcasting large task binary with size 1318.4 KiB\n",
      "23/01/14 15:40:51 WARN DAGScheduler: Broadcasting large task binary with size 1333.6 KiB\n",
      "23/01/14 15:40:51 WARN DAGScheduler: Broadcasting large task binary with size 1334.1 KiB\n",
      "23/01/14 15:40:51 WARN DAGScheduler: Broadcasting large task binary with size 1334.7 KiB\n",
      "23/01/14 15:40:51 WARN DAGScheduler: Broadcasting large task binary with size 1335.8 KiB\n",
      "23/01/14 15:40:52 WARN DAGScheduler: Broadcasting large task binary with size 1338.4 KiB\n",
      "23/01/14 15:40:52 WARN DAGScheduler: Broadcasting large task binary with size 1343.1 KiB\n",
      "23/01/14 15:40:52 WARN DAGScheduler: Broadcasting large task binary with size 1352.6 KiB\n",
      "23/01/14 15:40:52 WARN DAGScheduler: Broadcasting large task binary with size 1371.5 KiB\n",
      "23/01/14 15:40:52 WARN DAGScheduler: Broadcasting large task binary with size 1408.4 KiB\n",
      "23/01/14 15:40:52 WARN DAGScheduler: Broadcasting large task binary with size 1479.3 KiB\n",
      "23/01/14 15:40:52 WARN DAGScheduler: Broadcasting large task binary with size 1491.9 KiB\n",
      "23/01/14 15:40:52 WARN DAGScheduler: Broadcasting large task binary with size 1492.4 KiB\n",
      "23/01/14 15:40:52 WARN DAGScheduler: Broadcasting large task binary with size 1493.0 KiB\n",
      "23/01/14 15:40:52 WARN DAGScheduler: Broadcasting large task binary with size 1494.1 KiB\n",
      "23/01/14 15:40:53 WARN DAGScheduler: Broadcasting large task binary with size 1496.5 KiB\n",
      "23/01/14 15:40:53 WARN DAGScheduler: Broadcasting large task binary with size 1501.0 KiB\n",
      "23/01/14 15:40:53 WARN DAGScheduler: Broadcasting large task binary with size 1510.4 KiB\n",
      "23/01/14 15:40:53 WARN DAGScheduler: Broadcasting large task binary with size 1529.2 KiB\n",
      "23/01/14 15:40:53 WARN DAGScheduler: Broadcasting large task binary with size 1566.6 KiB\n",
      "23/01/14 15:40:53 WARN DAGScheduler: Broadcasting large task binary with size 1636.4 KiB\n",
      "23/01/14 15:40:53 WARN DAGScheduler: Broadcasting large task binary with size 1647.2 KiB\n",
      "23/01/14 15:40:53 WARN DAGScheduler: Broadcasting large task binary with size 1647.7 KiB\n",
      "23/01/14 15:40:53 WARN DAGScheduler: Broadcasting large task binary with size 1648.3 KiB\n",
      "23/01/14 15:40:53 WARN DAGScheduler: Broadcasting large task binary with size 1649.4 KiB\n",
      "23/01/14 15:40:54 WARN DAGScheduler: Broadcasting large task binary with size 1651.7 KiB\n",
      "23/01/14 15:40:54 WARN DAGScheduler: Broadcasting large task binary with size 1656.2 KiB\n",
      "23/01/14 15:40:54 WARN DAGScheduler: Broadcasting large task binary with size 1665.5 KiB\n",
      "23/01/14 15:40:54 WARN DAGScheduler: Broadcasting large task binary with size 1684.7 KiB\n",
      "23/01/14 15:40:54 WARN DAGScheduler: Broadcasting large task binary with size 1722.1 KiB\n",
      "23/01/14 15:40:54 WARN DAGScheduler: Broadcasting large task binary with size 1793.1 KiB\n",
      "23/01/14 15:40:54 WARN DAGScheduler: Broadcasting large task binary with size 1806.5 KiB\n",
      "23/01/14 15:40:54 WARN DAGScheduler: Broadcasting large task binary with size 1807.0 KiB\n"
     ]
    },
    {
     "name": "stdout",
     "output_type": "stream",
     "text": [
      "23/01/14 15:40:54 WARN DAGScheduler: Broadcasting large task binary with size 1807.6 KiB\n",
      "23/01/14 15:40:55 WARN DAGScheduler: Broadcasting large task binary with size 1808.9 KiB\n",
      "23/01/14 15:40:55 WARN DAGScheduler: Broadcasting large task binary with size 1811.2 KiB\n",
      "23/01/14 15:40:55 WARN DAGScheduler: Broadcasting large task binary with size 1815.9 KiB\n",
      "23/01/14 15:40:55 WARN DAGScheduler: Broadcasting large task binary with size 1824.9 KiB\n",
      "23/01/14 15:40:55 WARN DAGScheduler: Broadcasting large task binary with size 1843.1 KiB\n",
      "23/01/14 15:40:55 WARN DAGScheduler: Broadcasting large task binary with size 1877.6 KiB\n",
      "23/01/14 15:40:55 WARN DAGScheduler: Broadcasting large task binary with size 1943.5 KiB\n",
      "23/01/14 15:40:55 WARN DAGScheduler: Broadcasting large task binary with size 1952.9 KiB\n",
      "23/01/14 15:40:55 WARN DAGScheduler: Broadcasting large task binary with size 1953.3 KiB\n",
      "23/01/14 15:40:56 WARN DAGScheduler: Broadcasting large task binary with size 1953.9 KiB\n",
      "23/01/14 15:40:56 WARN DAGScheduler: Broadcasting large task binary with size 1955.0 KiB\n",
      "23/01/14 15:40:56 WARN DAGScheduler: Broadcasting large task binary with size 1957.3 KiB\n",
      "23/01/14 15:40:56 WARN DAGScheduler: Broadcasting large task binary with size 1962.0 KiB\n",
      "23/01/14 15:40:56 WARN DAGScheduler: Broadcasting large task binary with size 1971.2 KiB\n",
      "23/01/14 15:40:56 WARN DAGScheduler: Broadcasting large task binary with size 1989.9 KiB\n",
      "23/01/14 15:40:56 WARN DAGScheduler: Broadcasting large task binary with size 2026.2 KiB\n",
      "23/01/14 15:40:56 WARN DAGScheduler: Broadcasting large task binary with size 2.0 MiB\n",
      "23/01/14 15:40:56 WARN DAGScheduler: Broadcasting large task binary with size 2.1 MiB\n",
      "23/01/14 15:40:57 WARN DAGScheduler: Broadcasting large task binary with size 2.1 MiB\n",
      "23/01/14 15:40:57 WARN DAGScheduler: Broadcasting large task binary with size 2.1 MiB\n",
      "23/01/14 15:40:57 WARN DAGScheduler: Broadcasting large task binary with size 2.1 MiB\n",
      "23/01/14 15:40:57 WARN DAGScheduler: Broadcasting large task binary with size 2.1 MiB\n",
      "23/01/14 15:40:57 WARN DAGScheduler: Broadcasting large task binary with size 2.1 MiB\n",
      "23/01/14 15:40:57 WARN DAGScheduler: Broadcasting large task binary with size 2.1 MiB\n",
      "23/01/14 15:40:57 WARN DAGScheduler: Broadcasting large task binary with size 2.1 MiB\n",
      "23/01/14 15:40:57 WARN DAGScheduler: Broadcasting large task binary with size 2.1 MiB\n",
      "23/01/14 15:40:57 WARN DAGScheduler: Broadcasting large task binary with size 2.2 MiB\n",
      "23/01/14 15:40:57 WARN DAGScheduler: Broadcasting large task binary with size 2.2 MiB\n",
      "23/01/14 15:40:58 WARN DAGScheduler: Broadcasting large task binary with size 2.2 MiB\n",
      "23/01/14 15:40:58 WARN DAGScheduler: Broadcasting large task binary with size 2.2 MiB\n",
      "23/01/14 15:40:58 WARN DAGScheduler: Broadcasting large task binary with size 2.2 MiB\n",
      "23/01/14 15:40:58 WARN DAGScheduler: Broadcasting large task binary with size 2.2 MiB\n",
      "23/01/14 15:40:58 WARN DAGScheduler: Broadcasting large task binary with size 2.2 MiB\n",
      "23/01/14 15:40:58 WARN DAGScheduler: Broadcasting large task binary with size 2.2 MiB\n",
      "23/01/14 15:40:58 WARN DAGScheduler: Broadcasting large task binary with size 2.3 MiB\n",
      "23/01/14 15:40:58 WARN DAGScheduler: Broadcasting large task binary with size 2.3 MiB\n",
      "23/01/14 15:40:58 WARN DAGScheduler: Broadcasting large task binary with size 2.3 MiB\n"
     ]
    },
    {
     "name": "stderr",
     "output_type": "stream",
     "text": [
      "                                                                                \r"
     ]
    },
    {
     "name": "stdout",
     "output_type": "stream",
     "text": [
      "23/01/14 15:41:34 WARN DAGScheduler: Broadcasting large task binary with size 1013.0 KiB\n",
      "23/01/14 15:41:34 WARN DAGScheduler: Broadcasting large task binary with size 1020.8 KiB\n",
      "23/01/14 15:41:34 WARN DAGScheduler: Broadcasting large task binary with size 1021.3 KiB\n",
      "23/01/14 15:41:34 WARN DAGScheduler: Broadcasting large task binary with size 1021.9 KiB\n",
      "23/01/14 15:41:34 WARN DAGScheduler: Broadcasting large task binary with size 1023.1 KiB\n",
      "23/01/14 15:41:34 WARN DAGScheduler: Broadcasting large task binary with size 1025.4 KiB\n",
      "23/01/14 15:41:34 WARN DAGScheduler: Broadcasting large task binary with size 1030.1 KiB\n",
      "23/01/14 15:41:34 WARN DAGScheduler: Broadcasting large task binary with size 1039.4 KiB\n",
      "23/01/14 15:41:34 WARN DAGScheduler: Broadcasting large task binary with size 1058.0 KiB\n",
      "23/01/14 15:41:34 WARN DAGScheduler: Broadcasting large task binary with size 1094.1 KiB\n",
      "23/01/14 15:41:35 WARN DAGScheduler: Broadcasting large task binary with size 1163.8 KiB\n",
      "23/01/14 15:41:35 WARN DAGScheduler: Broadcasting large task binary with size 1176.9 KiB\n",
      "23/01/14 15:41:35 WARN DAGScheduler: Broadcasting large task binary with size 1177.4 KiB\n",
      "23/01/14 15:41:35 WARN DAGScheduler: Broadcasting large task binary with size 1178.0 KiB\n",
      "23/01/14 15:41:35 WARN DAGScheduler: Broadcasting large task binary with size 1179.2 KiB\n",
      "23/01/14 15:41:35 WARN DAGScheduler: Broadcasting large task binary with size 1181.4 KiB\n",
      "23/01/14 15:41:35 WARN DAGScheduler: Broadcasting large task binary with size 1186.0 KiB\n",
      "23/01/14 15:41:35 WARN DAGScheduler: Broadcasting large task binary with size 1195.3 KiB\n",
      "23/01/14 15:41:35 WARN DAGScheduler: Broadcasting large task binary with size 1213.8 KiB\n",
      "23/01/14 15:41:35 WARN DAGScheduler: Broadcasting large task binary with size 1248.1 KiB\n",
      "23/01/14 15:41:36 WARN DAGScheduler: Broadcasting large task binary with size 1315.0 KiB\n",
      "23/01/14 15:41:36 WARN DAGScheduler: Broadcasting large task binary with size 1327.1 KiB\n",
      "23/01/14 15:41:36 WARN DAGScheduler: Broadcasting large task binary with size 1327.6 KiB\n",
      "23/01/14 15:41:36 WARN DAGScheduler: Broadcasting large task binary with size 1328.1 KiB\n",
      "23/01/14 15:41:36 WARN DAGScheduler: Broadcasting large task binary with size 1329.3 KiB\n",
      "23/01/14 15:41:36 WARN DAGScheduler: Broadcasting large task binary with size 1331.8 KiB\n",
      "23/01/14 15:41:36 WARN DAGScheduler: Broadcasting large task binary with size 1336.4 KiB\n",
      "23/01/14 15:41:36 WARN DAGScheduler: Broadcasting large task binary with size 1345.9 KiB\n",
      "23/01/14 15:41:36 WARN DAGScheduler: Broadcasting large task binary with size 1364.7 KiB\n",
      "23/01/14 15:41:36 WARN DAGScheduler: Broadcasting large task binary with size 1398.1 KiB\n",
      "23/01/14 15:41:37 WARN DAGScheduler: Broadcasting large task binary with size 1460.2 KiB\n",
      "23/01/14 15:41:37 WARN DAGScheduler: Broadcasting large task binary with size 1469.6 KiB\n",
      "23/01/14 15:41:37 WARN DAGScheduler: Broadcasting large task binary with size 1470.1 KiB\n",
      "23/01/14 15:41:37 WARN DAGScheduler: Broadcasting large task binary with size 1470.6 KiB\n",
      "23/01/14 15:41:37 WARN DAGScheduler: Broadcasting large task binary with size 1471.8 KiB\n",
      "23/01/14 15:41:37 WARN DAGScheduler: Broadcasting large task binary with size 1474.1 KiB\n",
      "23/01/14 15:41:37 WARN DAGScheduler: Broadcasting large task binary with size 1478.7 KiB\n",
      "23/01/14 15:41:37 WARN DAGScheduler: Broadcasting large task binary with size 1487.9 KiB\n",
      "23/01/14 15:41:37 WARN DAGScheduler: Broadcasting large task binary with size 1506.9 KiB\n",
      "23/01/14 15:41:37 WARN DAGScheduler: Broadcasting large task binary with size 1543.8 KiB\n",
      "23/01/14 15:41:38 WARN DAGScheduler: Broadcasting large task binary with size 1611.4 KiB\n",
      "23/01/14 15:41:43 WARN DAGScheduler: Broadcasting large task binary with size 1013.0 KiB\n",
      "23/01/14 15:41:44 WARN DAGScheduler: Broadcasting large task binary with size 1020.8 KiB\n",
      "23/01/14 15:41:44 WARN DAGScheduler: Broadcasting large task binary with size 1021.3 KiB\n",
      "23/01/14 15:41:44 WARN DAGScheduler: Broadcasting large task binary with size 1021.9 KiB\n",
      "23/01/14 15:41:44 WARN DAGScheduler: Broadcasting large task binary with size 1023.1 KiB\n",
      "23/01/14 15:41:44 WARN DAGScheduler: Broadcasting large task binary with size 1025.4 KiB\n",
      "23/01/14 15:41:44 WARN DAGScheduler: Broadcasting large task binary with size 1030.1 KiB\n",
      "23/01/14 15:41:44 WARN DAGScheduler: Broadcasting large task binary with size 1039.4 KiB\n",
      "23/01/14 15:41:44 WARN DAGScheduler: Broadcasting large task binary with size 1058.0 KiB\n",
      "23/01/14 15:41:44 WARN DAGScheduler: Broadcasting large task binary with size 1094.1 KiB\n",
      "23/01/14 15:41:44 WARN DAGScheduler: Broadcasting large task binary with size 1163.8 KiB\n",
      "23/01/14 15:41:45 WARN DAGScheduler: Broadcasting large task binary with size 1176.9 KiB\n",
      "23/01/14 15:41:45 WARN DAGScheduler: Broadcasting large task binary with size 1177.4 KiB\n",
      "23/01/14 15:41:45 WARN DAGScheduler: Broadcasting large task binary with size 1178.0 KiB\n",
      "23/01/14 15:41:45 WARN DAGScheduler: Broadcasting large task binary with size 1179.2 KiB\n",
      "23/01/14 15:41:45 WARN DAGScheduler: Broadcasting large task binary with size 1181.4 KiB\n",
      "23/01/14 15:41:45 WARN DAGScheduler: Broadcasting large task binary with size 1186.0 KiB\n",
      "23/01/14 15:41:45 WARN DAGScheduler: Broadcasting large task binary with size 1195.3 KiB\n",
      "23/01/14 15:41:45 WARN DAGScheduler: Broadcasting large task binary with size 1213.8 KiB\n",
      "23/01/14 15:41:45 WARN DAGScheduler: Broadcasting large task binary with size 1248.1 KiB\n",
      "23/01/14 15:41:45 WARN DAGScheduler: Broadcasting large task binary with size 1315.0 KiB\n",
      "23/01/14 15:41:45 WARN DAGScheduler: Broadcasting large task binary with size 1327.1 KiB\n",
      "23/01/14 15:41:46 WARN DAGScheduler: Broadcasting large task binary with size 1327.6 KiB\n",
      "23/01/14 15:41:46 WARN DAGScheduler: Broadcasting large task binary with size 1328.1 KiB\n",
      "23/01/14 15:41:46 WARN DAGScheduler: Broadcasting large task binary with size 1329.3 KiB\n",
      "23/01/14 15:41:46 WARN DAGScheduler: Broadcasting large task binary with size 1331.8 KiB\n",
      "23/01/14 15:41:46 WARN DAGScheduler: Broadcasting large task binary with size 1336.4 KiB\n",
      "23/01/14 15:41:46 WARN DAGScheduler: Broadcasting large task binary with size 1345.9 KiB\n",
      "23/01/14 15:41:46 WARN DAGScheduler: Broadcasting large task binary with size 1364.7 KiB\n",
      "23/01/14 15:41:46 WARN DAGScheduler: Broadcasting large task binary with size 1398.1 KiB\n",
      "23/01/14 15:41:46 WARN DAGScheduler: Broadcasting large task binary with size 1460.2 KiB\n",
      "23/01/14 15:41:46 WARN DAGScheduler: Broadcasting large task binary with size 1469.6 KiB\n",
      "23/01/14 15:41:47 WARN DAGScheduler: Broadcasting large task binary with size 1470.1 KiB\n",
      "23/01/14 15:41:47 WARN DAGScheduler: Broadcasting large task binary with size 1470.6 KiB\n",
      "23/01/14 15:41:47 WARN DAGScheduler: Broadcasting large task binary with size 1471.8 KiB\n",
      "23/01/14 15:41:47 WARN DAGScheduler: Broadcasting large task binary with size 1474.1 KiB\n",
      "23/01/14 15:41:47 WARN DAGScheduler: Broadcasting large task binary with size 1478.7 KiB\n",
      "23/01/14 15:41:47 WARN DAGScheduler: Broadcasting large task binary with size 1487.9 KiB\n",
      "23/01/14 15:41:47 WARN DAGScheduler: Broadcasting large task binary with size 1506.9 KiB\n",
      "23/01/14 15:41:47 WARN DAGScheduler: Broadcasting large task binary with size 1543.8 KiB\n",
      "23/01/14 15:41:47 WARN DAGScheduler: Broadcasting large task binary with size 1611.4 KiB\n",
      "23/01/14 15:41:47 WARN DAGScheduler: Broadcasting large task binary with size 1622.6 KiB\n",
      "23/01/14 15:41:48 WARN DAGScheduler: Broadcasting large task binary with size 1623.1 KiB\n",
      "23/01/14 15:41:48 WARN DAGScheduler: Broadcasting large task binary with size 1623.7 KiB\n",
      "23/01/14 15:41:48 WARN DAGScheduler: Broadcasting large task binary with size 1624.9 KiB\n",
      "23/01/14 15:41:48 WARN DAGScheduler: Broadcasting large task binary with size 1627.1 KiB\n",
      "23/01/14 15:41:48 WARN DAGScheduler: Broadcasting large task binary with size 1631.7 KiB\n",
      "23/01/14 15:41:48 WARN DAGScheduler: Broadcasting large task binary with size 1641.0 KiB\n",
      "23/01/14 15:41:48 WARN DAGScheduler: Broadcasting large task binary with size 1659.7 KiB\n",
      "23/01/14 15:41:48 WARN DAGScheduler: Broadcasting large task binary with size 1695.5 KiB\n",
      "23/01/14 15:41:48 WARN DAGScheduler: Broadcasting large task binary with size 1761.5 KiB\n",
      "23/01/14 15:41:48 WARN DAGScheduler: Broadcasting large task binary with size 1771.9 KiB\n"
     ]
    },
    {
     "name": "stdout",
     "output_type": "stream",
     "text": [
      "23/01/14 15:41:49 WARN DAGScheduler: Broadcasting large task binary with size 1772.4 KiB\n",
      "23/01/14 15:41:49 WARN DAGScheduler: Broadcasting large task binary with size 1772.9 KiB\n",
      "23/01/14 15:41:49 WARN DAGScheduler: Broadcasting large task binary with size 1774.2 KiB\n",
      "23/01/14 15:41:49 WARN DAGScheduler: Broadcasting large task binary with size 1776.4 KiB\n",
      "23/01/14 15:41:49 WARN DAGScheduler: Broadcasting large task binary with size 1781.0 KiB\n",
      "23/01/14 15:41:49 WARN DAGScheduler: Broadcasting large task binary with size 1790.4 KiB\n",
      "23/01/14 15:41:49 WARN DAGScheduler: Broadcasting large task binary with size 1809.2 KiB\n",
      "23/01/14 15:41:49 WARN DAGScheduler: Broadcasting large task binary with size 1843.6 KiB\n",
      "23/01/14 15:41:49 WARN DAGScheduler: Broadcasting large task binary with size 1909.3 KiB\n",
      "23/01/14 15:41:49 WARN DAGScheduler: Broadcasting large task binary with size 1922.0 KiB\n",
      "23/01/14 15:41:50 WARN DAGScheduler: Broadcasting large task binary with size 1922.5 KiB\n",
      "23/01/14 15:41:50 WARN DAGScheduler: Broadcasting large task binary with size 1923.1 KiB\n",
      "23/01/14 15:41:50 WARN DAGScheduler: Broadcasting large task binary with size 1924.3 KiB\n",
      "23/01/14 15:41:50 WARN DAGScheduler: Broadcasting large task binary with size 1926.6 KiB\n",
      "23/01/14 15:41:50 WARN DAGScheduler: Broadcasting large task binary with size 1931.2 KiB\n",
      "23/01/14 15:41:50 WARN DAGScheduler: Broadcasting large task binary with size 1940.9 KiB\n",
      "23/01/14 15:41:50 WARN DAGScheduler: Broadcasting large task binary with size 1959.5 KiB\n",
      "23/01/14 15:41:50 WARN DAGScheduler: Broadcasting large task binary with size 1996.0 KiB\n",
      "23/01/14 15:41:50 WARN DAGScheduler: Broadcasting large task binary with size 2.0 MiB\n",
      "23/01/14 15:41:51 WARN DAGScheduler: Broadcasting large task binary with size 2.0 MiB\n",
      "23/01/14 15:41:51 WARN DAGScheduler: Broadcasting large task binary with size 2.0 MiB\n",
      "23/01/14 15:41:51 WARN DAGScheduler: Broadcasting large task binary with size 2.0 MiB\n",
      "23/01/14 15:41:51 WARN DAGScheduler: Broadcasting large task binary with size 2.0 MiB\n",
      "23/01/14 15:41:51 WARN DAGScheduler: Broadcasting large task binary with size 2.0 MiB\n",
      "23/01/14 15:41:51 WARN DAGScheduler: Broadcasting large task binary with size 2.0 MiB\n",
      "23/01/14 15:41:51 WARN DAGScheduler: Broadcasting large task binary with size 2.0 MiB\n",
      "23/01/14 15:41:51 WARN DAGScheduler: Broadcasting large task binary with size 2.1 MiB\n",
      "23/01/14 15:41:51 WARN DAGScheduler: Broadcasting large task binary with size 2.1 MiB\n",
      "23/01/14 15:41:52 WARN DAGScheduler: Broadcasting large task binary with size 2.2 MiB\n",
      "23/01/14 15:41:52 WARN DAGScheduler: Broadcasting large task binary with size 2.2 MiB\n",
      "23/01/14 15:41:52 WARN DAGScheduler: Broadcasting large task binary with size 2.2 MiB\n",
      "23/01/14 15:41:52 WARN DAGScheduler: Broadcasting large task binary with size 2.2 MiB\n",
      "23/01/14 15:41:52 WARN DAGScheduler: Broadcasting large task binary with size 2.2 MiB\n",
      "23/01/14 15:41:52 WARN DAGScheduler: Broadcasting large task binary with size 2.2 MiB\n",
      "23/01/14 15:41:52 WARN DAGScheduler: Broadcasting large task binary with size 2.2 MiB\n",
      "23/01/14 15:41:52 WARN DAGScheduler: Broadcasting large task binary with size 2.2 MiB\n",
      "23/01/14 15:41:52 WARN DAGScheduler: Broadcasting large task binary with size 2.2 MiB\n",
      "23/01/14 15:41:53 WARN DAGScheduler: Broadcasting large task binary with size 2.2 MiB\n",
      "23/01/14 15:41:53 WARN DAGScheduler: Broadcasting large task binary with size 2.3 MiB\n"
     ]
    },
    {
     "name": "stderr",
     "output_type": "stream",
     "text": [
      "                                                                                \r"
     ]
    },
    {
     "name": "stdout",
     "output_type": "stream",
     "text": [
      "23/01/14 15:42:28 WARN DAGScheduler: Broadcasting large task binary with size 1008.0 KiB\n",
      "23/01/14 15:42:28 WARN DAGScheduler: Broadcasting large task binary with size 1020.0 KiB\n",
      "23/01/14 15:42:28 WARN DAGScheduler: Broadcasting large task binary with size 1020.5 KiB\n",
      "23/01/14 15:42:28 WARN DAGScheduler: Broadcasting large task binary with size 1021.2 KiB\n",
      "23/01/14 15:42:29 WARN DAGScheduler: Broadcasting large task binary with size 1022.4 KiB\n",
      "23/01/14 15:42:29 WARN DAGScheduler: Broadcasting large task binary with size 1024.7 KiB\n",
      "23/01/14 15:42:29 WARN DAGScheduler: Broadcasting large task binary with size 1029.3 KiB\n",
      "23/01/14 15:42:29 WARN DAGScheduler: Broadcasting large task binary with size 1038.5 KiB\n",
      "23/01/14 15:42:29 WARN DAGScheduler: Broadcasting large task binary with size 1056.9 KiB\n",
      "23/01/14 15:42:29 WARN DAGScheduler: Broadcasting large task binary with size 1092.5 KiB\n",
      "23/01/14 15:42:29 WARN DAGScheduler: Broadcasting large task binary with size 1160.2 KiB\n",
      "23/01/14 15:42:29 WARN DAGScheduler: Broadcasting large task binary with size 1171.6 KiB\n",
      "23/01/14 15:42:29 WARN DAGScheduler: Broadcasting large task binary with size 1172.1 KiB\n",
      "23/01/14 15:42:30 WARN DAGScheduler: Broadcasting large task binary with size 1172.7 KiB\n",
      "23/01/14 15:42:30 WARN DAGScheduler: Broadcasting large task binary with size 1174.0 KiB\n",
      "23/01/14 15:42:30 WARN DAGScheduler: Broadcasting large task binary with size 1176.3 KiB\n",
      "23/01/14 15:42:30 WARN DAGScheduler: Broadcasting large task binary with size 1181.0 KiB\n",
      "23/01/14 15:42:30 WARN DAGScheduler: Broadcasting large task binary with size 1190.4 KiB\n",
      "23/01/14 15:42:30 WARN DAGScheduler: Broadcasting large task binary with size 1209.1 KiB\n",
      "23/01/14 15:42:30 WARN DAGScheduler: Broadcasting large task binary with size 1245.8 KiB\n",
      "23/01/14 15:42:30 WARN DAGScheduler: Broadcasting large task binary with size 1318.3 KiB\n",
      "23/01/14 15:42:30 WARN DAGScheduler: Broadcasting large task binary with size 1332.4 KiB\n",
      "23/01/14 15:42:31 WARN DAGScheduler: Broadcasting large task binary with size 1332.9 KiB\n",
      "23/01/14 15:42:31 WARN DAGScheduler: Broadcasting large task binary with size 1333.6 KiB\n",
      "23/01/14 15:42:31 WARN DAGScheduler: Broadcasting large task binary with size 1334.7 KiB\n",
      "23/01/14 15:42:31 WARN DAGScheduler: Broadcasting large task binary with size 1337.0 KiB\n",
      "23/01/14 15:42:31 WARN DAGScheduler: Broadcasting large task binary with size 1341.6 KiB\n",
      "23/01/14 15:42:31 WARN DAGScheduler: Broadcasting large task binary with size 1350.7 KiB\n",
      "23/01/14 15:42:31 WARN DAGScheduler: Broadcasting large task binary with size 1369.0 KiB\n",
      "23/01/14 15:42:31 WARN DAGScheduler: Broadcasting large task binary with size 1403.9 KiB\n",
      "23/01/14 15:42:31 WARN DAGScheduler: Broadcasting large task binary with size 1468.9 KiB\n",
      "23/01/14 15:42:31 WARN DAGScheduler: Broadcasting large task binary with size 1478.6 KiB\n",
      "23/01/14 15:42:31 WARN DAGScheduler: Broadcasting large task binary with size 1479.1 KiB\n",
      "23/01/14 15:42:32 WARN DAGScheduler: Broadcasting large task binary with size 1479.7 KiB\n",
      "23/01/14 15:42:32 WARN DAGScheduler: Broadcasting large task binary with size 1480.8 KiB\n",
      "23/01/14 15:42:32 WARN DAGScheduler: Broadcasting large task binary with size 1483.1 KiB\n",
      "23/01/14 15:42:32 WARN DAGScheduler: Broadcasting large task binary with size 1487.6 KiB\n",
      "23/01/14 15:42:32 WARN DAGScheduler: Broadcasting large task binary with size 1496.8 KiB\n",
      "23/01/14 15:42:32 WARN DAGScheduler: Broadcasting large task binary with size 1515.6 KiB\n",
      "23/01/14 15:42:32 WARN DAGScheduler: Broadcasting large task binary with size 1551.4 KiB\n",
      "23/01/14 15:42:32 WARN DAGScheduler: Broadcasting large task binary with size 1619.3 KiB\n",
      "23/01/14 15:42:38 WARN DAGScheduler: Broadcasting large task binary with size 1008.0 KiB\n",
      "23/01/14 15:42:38 WARN DAGScheduler: Broadcasting large task binary with size 1020.0 KiB\n",
      "23/01/14 15:42:38 WARN DAGScheduler: Broadcasting large task binary with size 1020.5 KiB\n",
      "23/01/14 15:42:38 WARN DAGScheduler: Broadcasting large task binary with size 1021.2 KiB\n",
      "23/01/14 15:42:38 WARN DAGScheduler: Broadcasting large task binary with size 1022.4 KiB\n",
      "23/01/14 15:42:39 WARN DAGScheduler: Broadcasting large task binary with size 1024.7 KiB\n",
      "23/01/14 15:42:39 WARN DAGScheduler: Broadcasting large task binary with size 1029.3 KiB\n",
      "23/01/14 15:42:39 WARN DAGScheduler: Broadcasting large task binary with size 1038.5 KiB\n",
      "23/01/14 15:42:39 WARN DAGScheduler: Broadcasting large task binary with size 1056.9 KiB\n",
      "23/01/14 15:42:39 WARN DAGScheduler: Broadcasting large task binary with size 1092.5 KiB\n",
      "23/01/14 15:42:39 WARN DAGScheduler: Broadcasting large task binary with size 1160.2 KiB\n",
      "23/01/14 15:42:39 WARN DAGScheduler: Broadcasting large task binary with size 1171.6 KiB\n",
      "23/01/14 15:42:39 WARN DAGScheduler: Broadcasting large task binary with size 1172.1 KiB\n",
      "23/01/14 15:42:39 WARN DAGScheduler: Broadcasting large task binary with size 1172.7 KiB\n",
      "23/01/14 15:42:40 WARN DAGScheduler: Broadcasting large task binary with size 1174.0 KiB\n",
      "23/01/14 15:42:40 WARN DAGScheduler: Broadcasting large task binary with size 1176.3 KiB\n",
      "23/01/14 15:42:40 WARN DAGScheduler: Broadcasting large task binary with size 1181.0 KiB\n",
      "23/01/14 15:42:40 WARN DAGScheduler: Broadcasting large task binary with size 1190.4 KiB\n",
      "23/01/14 15:42:40 WARN DAGScheduler: Broadcasting large task binary with size 1209.1 KiB\n",
      "23/01/14 15:42:40 WARN DAGScheduler: Broadcasting large task binary with size 1245.8 KiB\n",
      "23/01/14 15:42:40 WARN DAGScheduler: Broadcasting large task binary with size 1318.3 KiB\n",
      "23/01/14 15:42:40 WARN DAGScheduler: Broadcasting large task binary with size 1332.4 KiB\n",
      "23/01/14 15:42:40 WARN DAGScheduler: Broadcasting large task binary with size 1332.9 KiB\n",
      "23/01/14 15:42:41 WARN DAGScheduler: Broadcasting large task binary with size 1333.6 KiB\n",
      "23/01/14 15:42:41 WARN DAGScheduler: Broadcasting large task binary with size 1334.7 KiB\n",
      "23/01/14 15:42:41 WARN DAGScheduler: Broadcasting large task binary with size 1337.0 KiB\n",
      "23/01/14 15:42:41 WARN DAGScheduler: Broadcasting large task binary with size 1341.6 KiB\n",
      "23/01/14 15:42:41 WARN DAGScheduler: Broadcasting large task binary with size 1350.7 KiB\n",
      "23/01/14 15:42:41 WARN DAGScheduler: Broadcasting large task binary with size 1369.0 KiB\n",
      "23/01/14 15:42:41 WARN DAGScheduler: Broadcasting large task binary with size 1403.9 KiB\n",
      "23/01/14 15:42:41 WARN DAGScheduler: Broadcasting large task binary with size 1468.9 KiB\n",
      "23/01/14 15:42:41 WARN DAGScheduler: Broadcasting large task binary with size 1478.6 KiB\n",
      "23/01/14 15:42:41 WARN DAGScheduler: Broadcasting large task binary with size 1479.1 KiB\n",
      "23/01/14 15:42:41 WARN DAGScheduler: Broadcasting large task binary with size 1479.7 KiB\n",
      "23/01/14 15:42:42 WARN DAGScheduler: Broadcasting large task binary with size 1480.8 KiB\n",
      "23/01/14 15:42:42 WARN DAGScheduler: Broadcasting large task binary with size 1483.1 KiB\n",
      "23/01/14 15:42:42 WARN DAGScheduler: Broadcasting large task binary with size 1487.6 KiB\n",
      "23/01/14 15:42:42 WARN DAGScheduler: Broadcasting large task binary with size 1496.8 KiB\n",
      "23/01/14 15:42:42 WARN DAGScheduler: Broadcasting large task binary with size 1515.6 KiB\n",
      "23/01/14 15:42:42 WARN DAGScheduler: Broadcasting large task binary with size 1551.4 KiB\n",
      "23/01/14 15:42:42 WARN DAGScheduler: Broadcasting large task binary with size 1619.3 KiB\n",
      "23/01/14 15:42:42 WARN DAGScheduler: Broadcasting large task binary with size 1632.0 KiB\n",
      "23/01/14 15:42:42 WARN DAGScheduler: Broadcasting large task binary with size 1632.4 KiB\n",
      "23/01/14 15:42:43 WARN DAGScheduler: Broadcasting large task binary with size 1633.0 KiB\n",
      "23/01/14 15:42:43 WARN DAGScheduler: Broadcasting large task binary with size 1634.1 KiB\n",
      "23/01/14 15:42:43 WARN DAGScheduler: Broadcasting large task binary with size 1636.7 KiB\n",
      "23/01/14 15:42:43 WARN DAGScheduler: Broadcasting large task binary with size 1641.2 KiB\n",
      "23/01/14 15:42:43 WARN DAGScheduler: Broadcasting large task binary with size 1650.9 KiB\n",
      "23/01/14 15:42:43 WARN DAGScheduler: Broadcasting large task binary with size 1669.8 KiB\n",
      "23/01/14 15:42:43 WARN DAGScheduler: Broadcasting large task binary with size 1705.3 KiB\n",
      "23/01/14 15:42:43 WARN DAGScheduler: Broadcasting large task binary with size 1771.5 KiB\n",
      "23/01/14 15:42:43 WARN DAGScheduler: Broadcasting large task binary with size 1779.4 KiB\n"
     ]
    },
    {
     "name": "stdout",
     "output_type": "stream",
     "text": [
      "23/01/14 15:42:43 WARN DAGScheduler: Broadcasting large task binary with size 1779.8 KiB\n",
      "23/01/14 15:42:44 WARN DAGScheduler: Broadcasting large task binary with size 1780.5 KiB\n",
      "23/01/14 15:42:44 WARN DAGScheduler: Broadcasting large task binary with size 1781.7 KiB\n",
      "23/01/14 15:42:44 WARN DAGScheduler: Broadcasting large task binary with size 1784.0 KiB\n",
      "23/01/14 15:42:44 WARN DAGScheduler: Broadcasting large task binary with size 1788.5 KiB\n",
      "23/01/14 15:42:44 WARN DAGScheduler: Broadcasting large task binary with size 1797.8 KiB\n",
      "23/01/14 15:42:44 WARN DAGScheduler: Broadcasting large task binary with size 1816.3 KiB\n",
      "23/01/14 15:42:44 WARN DAGScheduler: Broadcasting large task binary with size 1850.4 KiB\n",
      "23/01/14 15:42:44 WARN DAGScheduler: Broadcasting large task binary with size 1914.9 KiB\n",
      "23/01/14 15:42:44 WARN DAGScheduler: Broadcasting large task binary with size 1922.5 KiB\n",
      "23/01/14 15:42:45 WARN DAGScheduler: Broadcasting large task binary with size 1922.9 KiB\n",
      "23/01/14 15:42:45 WARN DAGScheduler: Broadcasting large task binary with size 1923.5 KiB\n",
      "23/01/14 15:42:45 WARN DAGScheduler: Broadcasting large task binary with size 1924.6 KiB\n",
      "23/01/14 15:42:45 WARN DAGScheduler: Broadcasting large task binary with size 1926.9 KiB\n",
      "23/01/14 15:42:45 WARN DAGScheduler: Broadcasting large task binary with size 1931.6 KiB\n",
      "23/01/14 15:42:45 WARN DAGScheduler: Broadcasting large task binary with size 1940.9 KiB\n",
      "23/01/14 15:42:45 WARN DAGScheduler: Broadcasting large task binary with size 1959.7 KiB\n",
      "23/01/14 15:42:45 WARN DAGScheduler: Broadcasting large task binary with size 1995.1 KiB\n",
      "23/01/14 15:42:45 WARN DAGScheduler: Broadcasting large task binary with size 2.0 MiB\n",
      "23/01/14 15:42:45 WARN DAGScheduler: Broadcasting large task binary with size 2.0 MiB\n",
      "23/01/14 15:42:46 WARN DAGScheduler: Broadcasting large task binary with size 2.0 MiB\n",
      "23/01/14 15:42:46 WARN DAGScheduler: Broadcasting large task binary with size 2.0 MiB\n",
      "23/01/14 15:42:46 WARN DAGScheduler: Broadcasting large task binary with size 2.0 MiB\n",
      "23/01/14 15:42:46 WARN DAGScheduler: Broadcasting large task binary with size 2.0 MiB\n",
      "23/01/14 15:42:46 WARN DAGScheduler: Broadcasting large task binary with size 2.0 MiB\n",
      "23/01/14 15:42:46 WARN DAGScheduler: Broadcasting large task binary with size 2.0 MiB\n",
      "23/01/14 15:42:46 WARN DAGScheduler: Broadcasting large task binary with size 2.1 MiB\n",
      "23/01/14 15:42:46 WARN DAGScheduler: Broadcasting large task binary with size 2.1 MiB\n",
      "23/01/14 15:42:46 WARN DAGScheduler: Broadcasting large task binary with size 2.2 MiB\n",
      "23/01/14 15:42:46 WARN DAGScheduler: Broadcasting large task binary with size 2.2 MiB\n",
      "23/01/14 15:42:47 WARN DAGScheduler: Broadcasting large task binary with size 2.2 MiB\n",
      "23/01/14 15:42:47 WARN DAGScheduler: Broadcasting large task binary with size 2.2 MiB\n",
      "23/01/14 15:42:47 WARN DAGScheduler: Broadcasting large task binary with size 2.2 MiB\n",
      "23/01/14 15:42:47 WARN DAGScheduler: Broadcasting large task binary with size 2.2 MiB\n",
      "23/01/14 15:42:47 WARN DAGScheduler: Broadcasting large task binary with size 2.2 MiB\n",
      "23/01/14 15:42:47 WARN DAGScheduler: Broadcasting large task binary with size 2.2 MiB\n",
      "23/01/14 15:42:47 WARN DAGScheduler: Broadcasting large task binary with size 2.2 MiB\n",
      "23/01/14 15:42:47 WARN DAGScheduler: Broadcasting large task binary with size 2.2 MiB\n",
      "23/01/14 15:42:47 WARN DAGScheduler: Broadcasting large task binary with size 2.3 MiB\n"
     ]
    },
    {
     "name": "stderr",
     "output_type": "stream",
     "text": [
      "                                                                                \r"
     ]
    },
    {
     "name": "stdout",
     "output_type": "stream",
     "text": [
      "23/01/14 15:42:59 WARN DAGScheduler: Broadcasting large task binary with size 1015.1 KiB\n",
      "23/01/14 15:42:59 WARN DAGScheduler: Broadcasting large task binary with size 1026.0 KiB\n",
      "23/01/14 15:42:59 WARN DAGScheduler: Broadcasting large task binary with size 1026.5 KiB\n",
      "23/01/14 15:42:59 WARN DAGScheduler: Broadcasting large task binary with size 1027.1 KiB\n",
      "23/01/14 15:42:59 WARN DAGScheduler: Broadcasting large task binary with size 1028.2 KiB\n",
      "23/01/14 15:42:59 WARN DAGScheduler: Broadcasting large task binary with size 1030.6 KiB\n",
      "23/01/14 15:42:59 WARN DAGScheduler: Broadcasting large task binary with size 1035.3 KiB\n",
      "23/01/14 15:42:59 WARN DAGScheduler: Broadcasting large task binary with size 1044.5 KiB\n",
      "23/01/14 15:43:00 WARN DAGScheduler: Broadcasting large task binary with size 1063.3 KiB\n",
      "23/01/14 15:43:00 WARN DAGScheduler: Broadcasting large task binary with size 1100.7 KiB\n",
      "23/01/14 15:43:00 WARN DAGScheduler: Broadcasting large task binary with size 1171.1 KiB\n",
      "23/01/14 15:43:00 WARN DAGScheduler: Broadcasting large task binary with size 1182.9 KiB\n",
      "23/01/14 15:43:00 WARN DAGScheduler: Broadcasting large task binary with size 1183.4 KiB\n",
      "23/01/14 15:43:00 WARN DAGScheduler: Broadcasting large task binary with size 1184.0 KiB\n",
      "23/01/14 15:43:00 WARN DAGScheduler: Broadcasting large task binary with size 1185.2 KiB\n",
      "23/01/14 15:43:00 WARN DAGScheduler: Broadcasting large task binary with size 1187.6 KiB\n",
      "23/01/14 15:43:00 WARN DAGScheduler: Broadcasting large task binary with size 1192.2 KiB\n",
      "23/01/14 15:43:01 WARN DAGScheduler: Broadcasting large task binary with size 1201.5 KiB\n",
      "23/01/14 15:43:01 WARN DAGScheduler: Broadcasting large task binary with size 1220.3 KiB\n",
      "23/01/14 15:43:01 WARN DAGScheduler: Broadcasting large task binary with size 1256.1 KiB\n",
      "23/01/14 15:43:01 WARN DAGScheduler: Broadcasting large task binary with size 1323.1 KiB\n",
      "23/01/14 15:43:01 WARN DAGScheduler: Broadcasting large task binary with size 1334.6 KiB\n",
      "23/01/14 15:43:01 WARN DAGScheduler: Broadcasting large task binary with size 1335.1 KiB\n",
      "23/01/14 15:43:01 WARN DAGScheduler: Broadcasting large task binary with size 1335.6 KiB\n",
      "23/01/14 15:43:01 WARN DAGScheduler: Broadcasting large task binary with size 1336.8 KiB\n",
      "23/01/14 15:43:02 WARN DAGScheduler: Broadcasting large task binary with size 1339.1 KiB\n",
      "23/01/14 15:43:02 WARN DAGScheduler: Broadcasting large task binary with size 1343.7 KiB\n",
      "23/01/14 15:43:02 WARN DAGScheduler: Broadcasting large task binary with size 1353.0 KiB\n",
      "23/01/14 15:43:02 WARN DAGScheduler: Broadcasting large task binary with size 1372.1 KiB\n",
      "23/01/14 15:43:02 WARN DAGScheduler: Broadcasting large task binary with size 1409.7 KiB\n",
      "23/01/14 15:43:02 WARN DAGScheduler: Broadcasting large task binary with size 1480.5 KiB\n",
      "23/01/14 15:43:02 WARN DAGScheduler: Broadcasting large task binary with size 1494.3 KiB\n",
      "23/01/14 15:43:02 WARN DAGScheduler: Broadcasting large task binary with size 1494.8 KiB\n",
      "23/01/14 15:43:02 WARN DAGScheduler: Broadcasting large task binary with size 1495.4 KiB\n",
      "23/01/14 15:43:03 WARN DAGScheduler: Broadcasting large task binary with size 1496.6 KiB\n",
      "23/01/14 15:43:03 WARN DAGScheduler: Broadcasting large task binary with size 1498.9 KiB\n",
      "23/01/14 15:43:03 WARN DAGScheduler: Broadcasting large task binary with size 1503.6 KiB\n",
      "23/01/14 15:43:03 WARN DAGScheduler: Broadcasting large task binary with size 1512.9 KiB\n",
      "23/01/14 15:43:03 WARN DAGScheduler: Broadcasting large task binary with size 1531.6 KiB\n",
      "23/01/14 15:43:03 WARN DAGScheduler: Broadcasting large task binary with size 1567.9 KiB\n",
      "23/01/14 15:43:03 WARN DAGScheduler: Broadcasting large task binary with size 1635.2 KiB\n",
      "23/01/14 15:43:03 WARN DAGScheduler: Broadcasting large task binary with size 1646.5 KiB\n",
      "23/01/14 15:43:04 WARN DAGScheduler: Broadcasting large task binary with size 1647.0 KiB\n",
      "23/01/14 15:43:04 WARN DAGScheduler: Broadcasting large task binary with size 1647.6 KiB\n",
      "23/01/14 15:43:04 WARN DAGScheduler: Broadcasting large task binary with size 1648.7 KiB\n",
      "23/01/14 15:43:04 WARN DAGScheduler: Broadcasting large task binary with size 1651.0 KiB\n",
      "23/01/14 15:43:04 WARN DAGScheduler: Broadcasting large task binary with size 1655.7 KiB\n",
      "23/01/14 15:43:04 WARN DAGScheduler: Broadcasting large task binary with size 1664.8 KiB\n",
      "23/01/14 15:43:04 WARN DAGScheduler: Broadcasting large task binary with size 1683.7 KiB\n",
      "23/01/14 15:43:04 WARN DAGScheduler: Broadcasting large task binary with size 1719.5 KiB\n",
      "23/01/14 15:43:04 WARN DAGScheduler: Broadcasting large task binary with size 1788.5 KiB\n",
      "23/01/14 15:43:05 WARN DAGScheduler: Broadcasting large task binary with size 1799.5 KiB\n",
      "23/01/14 15:43:05 WARN DAGScheduler: Broadcasting large task binary with size 1799.9 KiB\n",
      "23/01/14 15:43:05 WARN DAGScheduler: Broadcasting large task binary with size 1800.6 KiB\n",
      "23/01/14 15:43:05 WARN DAGScheduler: Broadcasting large task binary with size 1801.7 KiB\n",
      "23/01/14 15:43:05 WARN DAGScheduler: Broadcasting large task binary with size 1804.0 KiB\n",
      "23/01/14 15:43:05 WARN DAGScheduler: Broadcasting large task binary with size 1808.5 KiB\n",
      "23/01/14 15:43:05 WARN DAGScheduler: Broadcasting large task binary with size 1817.0 KiB\n",
      "23/01/14 15:43:05 WARN DAGScheduler: Broadcasting large task binary with size 1833.4 KiB\n",
      "23/01/14 15:43:05 WARN DAGScheduler: Broadcasting large task binary with size 1865.3 KiB\n",
      "23/01/14 15:43:06 WARN DAGScheduler: Broadcasting large task binary with size 1924.4 KiB\n",
      "23/01/14 15:43:06 WARN DAGScheduler: Broadcasting large task binary with size 1933.1 KiB\n",
      "23/01/14 15:43:06 WARN DAGScheduler: Broadcasting large task binary with size 1933.6 KiB\n",
      "23/01/14 15:43:06 WARN DAGScheduler: Broadcasting large task binary with size 1934.3 KiB\n",
      "23/01/14 15:43:06 WARN DAGScheduler: Broadcasting large task binary with size 1935.4 KiB\n",
      "23/01/14 15:43:06 WARN DAGScheduler: Broadcasting large task binary with size 1937.7 KiB\n",
      "23/01/14 15:43:06 WARN DAGScheduler: Broadcasting large task binary with size 1942.3 KiB\n",
      "23/01/14 15:43:06 WARN DAGScheduler: Broadcasting large task binary with size 1951.4 KiB\n",
      "23/01/14 15:43:07 WARN DAGScheduler: Broadcasting large task binary with size 1969.8 KiB\n",
      "23/01/14 15:43:07 WARN DAGScheduler: Broadcasting large task binary with size 2003.8 KiB\n",
      "23/01/14 15:43:07 WARN DAGScheduler: Broadcasting large task binary with size 2.0 MiB\n",
      "23/01/14 15:43:07 WARN DAGScheduler: Broadcasting large task binary with size 2.0 MiB\n",
      "23/01/14 15:43:07 WARN DAGScheduler: Broadcasting large task binary with size 2.0 MiB\n",
      "23/01/14 15:43:07 WARN DAGScheduler: Broadcasting large task binary with size 2.0 MiB\n",
      "23/01/14 15:43:07 WARN DAGScheduler: Broadcasting large task binary with size 2.0 MiB\n",
      "23/01/14 15:43:07 WARN DAGScheduler: Broadcasting large task binary with size 2.0 MiB\n",
      "23/01/14 15:43:08 WARN DAGScheduler: Broadcasting large task binary with size 2.0 MiB\n",
      "23/01/14 15:43:08 WARN DAGScheduler: Broadcasting large task binary with size 2.0 MiB\n",
      "23/01/14 15:43:08 WARN DAGScheduler: Broadcasting large task binary with size 2.1 MiB\n",
      "23/01/14 15:43:08 WARN DAGScheduler: Broadcasting large task binary with size 2.1 MiB\n",
      "23/01/14 15:43:08 WARN DAGScheduler: Broadcasting large task binary with size 2.2 MiB\n",
      "23/01/14 15:43:08 WARN DAGScheduler: Broadcasting large task binary with size 2.2 MiB\n",
      "23/01/14 15:43:08 WARN DAGScheduler: Broadcasting large task binary with size 2.2 MiB\n",
      "23/01/14 15:43:09 WARN DAGScheduler: Broadcasting large task binary with size 2.2 MiB\n",
      "23/01/14 15:43:09 WARN DAGScheduler: Broadcasting large task binary with size 2.2 MiB\n",
      "23/01/14 15:43:09 WARN DAGScheduler: Broadcasting large task binary with size 2.2 MiB\n",
      "23/01/14 15:43:09 WARN DAGScheduler: Broadcasting large task binary with size 2.2 MiB\n",
      "23/01/14 15:43:09 WARN DAGScheduler: Broadcasting large task binary with size 2.2 MiB\n",
      "23/01/14 15:43:09 WARN DAGScheduler: Broadcasting large task binary with size 2.2 MiB\n",
      "23/01/14 15:43:09 WARN DAGScheduler: Broadcasting large task binary with size 2.3 MiB\n",
      "23/01/14 15:43:09 WARN DAGScheduler: Broadcasting large task binary with size 2.3 MiB\n"
     ]
    }
   ],
   "source": [
    "# Training a gradient boosted trees regression model.\n",
    "model_gbtr = cross_validator_gbtr.fit(train)"
   ]
  },
  {
   "cell_type": "code",
   "execution_count": 41,
   "id": "7e91600d",
   "metadata": {},
   "outputs": [
    {
     "name": "stdout",
     "output_type": "stream",
     "text": [
      "Best maxDepth Param:  10\n",
      "Best maxBins Param:  32\n",
      "Best maxIter Param:  15\n",
      "Best impurity Param:  variance\n",
      "Best lossType Param:  squared\n"
     ]
    }
   ],
   "source": [
    "# Print best depth, bins, maxIter, impurity and losstype.\n",
    "print(\"Best maxDepth Param: \", model_gbtr.bestModel._java_obj.getMaxDepth())\n",
    "print(\"Best maxBins Param: \", model_gbtr.bestModel._java_obj.getMaxBins())\n",
    "print(\"Best maxIter Param: \", model_gbtr.bestModel._java_obj.getMaxIter())\n",
    "print(\"Best impurity Param: \", model_gbtr.bestModel._java_obj.getImpurity())\n",
    "print(\"Best lossType Param: \", model_gbtr.bestModel._java_obj.getLossType())"
   ]
  },
  {
   "cell_type": "code",
   "execution_count": 42,
   "id": "14f1a045",
   "metadata": {},
   "outputs": [
    {
     "name": "stderr",
     "output_type": "stream",
     "text": [
      "\r",
      "[Stage 11272:>                                                      (0 + 1) / 1]\r"
     ]
    },
    {
     "name": "stdout",
     "output_type": "stream",
     "text": [
      "+--------------------+-------------+------------------+\n",
      "|      input_features|trip_duration|        prediction|\n",
      "+--------------------+-------------+------------------+\n",
      "|[1.0,1.0,-74.1793...|         2975|1798.9957536456566|\n",
      "|[1.0,1.0,-74.0280...|         1959|1038.0020308849473|\n",
      "|[1.0,1.0,-74.0279...|          834| 681.4740747461232|\n",
      "|[1.0,1.0,-74.0180...|          306|  583.134764486287|\n",
      "|[1.0,1.0,-74.0179...|         1054|1357.8441686430988|\n",
      "+--------------------+-------------+------------------+\n",
      "only showing top 5 rows\n",
      "\n"
     ]
    },
    {
     "name": "stderr",
     "output_type": "stream",
     "text": [
      "\r",
      "                                                                                \r"
     ]
    }
   ],
   "source": [
    "# Predict.\n",
    "prediction_gbtr = model_gbtr.transform(test)\n",
    "\n",
    "prediction_gbtr.show(5)"
   ]
  },
  {
   "cell_type": "code",
   "execution_count": 43,
   "id": "8ff5b7f1",
   "metadata": {},
   "outputs": [
    {
     "name": "stderr",
     "output_type": "stream",
     "text": [
      "                                                                                \r"
     ]
    },
    {
     "name": "stdout",
     "output_type": "stream",
     "text": [
      "RMSE:  361.136102638509\n"
     ]
    },
    {
     "name": "stderr",
     "output_type": "stream",
     "text": [
      "\r",
      "[Stage 11274:>                                                      (0 + 1) / 1]\r"
     ]
    },
    {
     "name": "stdout",
     "output_type": "stream",
     "text": [
      "Coefficient of Determination(Accuracy on Test Data):  74.1248 %\n"
     ]
    },
    {
     "name": "stderr",
     "output_type": "stream",
     "text": [
      "\r",
      "                                                                                \r"
     ]
    }
   ],
   "source": [
    "# Evaluator for testing data for gradient boosted trees regression model.\n",
    "test_pred_evaluator_gbtr = RegressionEvaluator(predictionCol = \"prediction\", labelCol = \"trip_duration\", metricName = \"r2\")\n",
    "\n",
    "# Print RMSE and accuracy of the model on testing data for gradient boosted trees regression.\n",
    "print(\"RMSE: \", gbt_evaluator.evaluate(prediction_gbtr))\n",
    "print(\"Coefficient of Determination(Accuracy on Test Data): \", str(round(test_pred_evaluator_gbtr.evaluate(prediction_gbtr)*100, 4)), \"%\")\n"
   ]
  },
  {
   "cell_type": "code",
   "execution_count": null,
   "id": "99cf97c5",
   "metadata": {},
   "outputs": [],
   "source": []
  }
 ],
 "metadata": {
  "kernelspec": {
   "display_name": "Python 3 (ipykernel)",
   "language": "python",
   "name": "python3"
  },
  "language_info": {
   "codemirror_mode": {
    "name": "ipython",
    "version": 3
   },
   "file_extension": ".py",
   "mimetype": "text/x-python",
   "name": "python",
   "nbconvert_exporter": "python",
   "pygments_lexer": "ipython3",
   "version": "3.10.9"
  }
 },
 "nbformat": 4,
 "nbformat_minor": 5
}
