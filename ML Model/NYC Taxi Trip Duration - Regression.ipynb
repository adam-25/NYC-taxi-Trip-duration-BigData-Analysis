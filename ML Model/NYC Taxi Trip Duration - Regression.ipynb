{
 "cells": [
  {
   "cell_type": "code",
   "execution_count": 1,
   "id": "af40daa6",
   "metadata": {
    "scrolled": false
   },
   "outputs": [
    {
     "name": "stdout",
     "output_type": "stream",
     "text": [
      "Requirement already satisfied: pyspark in /Users/adarshdudhat/Desktop/University Of Calgary/Classes/FALL - 2022/SENG - 550/Project/seng550final/venv/lib/python3.10/site-packages (3.3.1)\r\n",
      "Requirement already satisfied: py4j==0.10.9.5 in /Users/adarshdudhat/Desktop/University Of Calgary/Classes/FALL - 2022/SENG - 550/Project/seng550final/venv/lib/python3.10/site-packages (from pyspark) (0.10.9.5)\r\n"
     ]
    }
   ],
   "source": [
    "!pip install pyspark"
   ]
  },
  {
   "cell_type": "code",
   "execution_count": 2,
   "id": "e53b42c2",
   "metadata": {},
   "outputs": [],
   "source": [
    "# Importing libraries\n",
    "\n",
    "from pyspark.sql import SparkSession\n",
    "\n",
    "from pyspark.ml.feature import VectorAssembler, StringIndexer\n",
    "from pyspark.ml.regression import LinearRegression\n",
    "from pyspark.ml.evaluation import RegressionEvaluator\n",
    "from pyspark.ml.tuning import ParamGridBuilder, CrossValidator"
   ]
  },
  {
   "cell_type": "code",
   "execution_count": 3,
   "id": "c172ee32",
   "metadata": {},
   "outputs": [
    {
     "name": "stdout",
     "output_type": "stream",
     "text": [
      "23/01/14 11:38:41 WARN Utils: Your hostname, Adarshs-MacBook-Air.local resolves to a loopback address: 127.0.0.1; using 192.168.1.68 instead (on interface en0)\n",
      "23/01/14 11:38:41 WARN Utils: Set SPARK_LOCAL_IP if you need to bind to another address\n"
     ]
    },
    {
     "name": "stderr",
     "output_type": "stream",
     "text": [
      "Setting default log level to \"WARN\".\n",
      "To adjust logging level use sc.setLogLevel(newLevel). For SparkR, use setLogLevel(newLevel).\n"
     ]
    },
    {
     "name": "stdout",
     "output_type": "stream",
     "text": [
      "23/01/14 11:38:41 WARN NativeCodeLoader: Unable to load native-hadoop library for your platform... using builtin-java classes where applicable\n",
      "root\n",
      " |-- id: integer (nullable = true)\n",
      " |-- vendor_id: integer (nullable = true)\n",
      " |-- passenger_count: integer (nullable = true)\n",
      " |-- pickup_longitude: double (nullable = true)\n",
      " |-- pickup_latitude: double (nullable = true)\n",
      " |-- dropoff_longitude: double (nullable = true)\n",
      " |-- dropoff_latitude: double (nullable = true)\n",
      " |-- store_and_fwd_flag: integer (nullable = true)\n",
      " |-- trip_duration: integer (nullable = true)\n",
      " |-- distance: double (nullable = true)\n",
      " |-- week_day: string (nullable = true)\n",
      " |-- year: integer (nullable = true)\n",
      " |-- month: integer (nullable = true)\n",
      " |-- quarter_of_year: integer (nullable = true)\n",
      " |-- hour: integer (nullable = true)\n",
      "\n"
     ]
    },
    {
     "name": "stderr",
     "output_type": "stream",
     "text": [
      "\r",
      "[Stage 1:>                                                          (0 + 1) / 1]\r",
      "\r",
      "                                                                                \r"
     ]
    }
   ],
   "source": [
    "# Get preprocessed data\n",
    "\n",
    "spark = SparkSession.builder.master(\"local[1]\").appName(\"SparkByExamples.com\").getOrCreate()\n",
    "df = spark.read.option(\"inferSchema\", \"true\").csv(\"../Preprocessing/NYC Taxi Duration Preprocessed/*.csv\", header=True)\n",
    "df.printSchema()"
   ]
  },
  {
   "cell_type": "code",
   "execution_count": 4,
   "id": "a475a876",
   "metadata": {},
   "outputs": [
    {
     "name": "stdout",
     "output_type": "stream",
     "text": [
      "+-------+---------+---------------+----------------+---------------+-----------------+----------------+------------------+-------------+---------+--------+----+-----+---------------+----+\n",
      "|     id|vendor_id|passenger_count|pickup_longitude|pickup_latitude|dropoff_longitude|dropoff_latitude|store_and_fwd_flag|trip_duration| distance|week_day|year|month|quarter_of_year|hour|\n",
      "+-------+---------+---------------+----------------+---------------+-----------------+----------------+------------------+-------------+---------+--------+----+-----+---------------+----+\n",
      "|2875421|        2|              1|      -73.982155|      40.767937|        -73.96463|       40.765602|                 0|          455|2.4444735|     Mon|2016|    3|              1|  17|\n",
      "|2377394|        1|              1|      -73.980415|      40.738564|        -73.99948|        40.73115|                 0|          663|2.6599078|     Sun|2016|    6|              2|   0|\n",
      "|3858529|        2|              1|       -73.97903|       40.76394|        -74.00533|       40.710087|                 0|         2124| 3.669969|     Tue|2016|    1|              1|  11|\n",
      "|1813257|        1|              4|       -73.96902|       40.75784|       -73.957405|       40.765896|                 0|          341|1.6197599|     Fri|2016|    6|              2|  22|\n",
      "|1324603|        2|              1|       -73.96928|       40.79778|        -73.92247|        40.76056|                 0|         1551| 6.528439|     Sat|2016|    5|              2|   7|\n",
      "|1301050|        1|              1|       -73.99948|        40.7384|        -73.98579|       40.732815|                 0|          255|1.9105701|     Fri|2016|    5|              2|  23|\n",
      "|1436371|        2|              1|       -73.98265|       40.76384|        -74.00223|        40.73299|                 0|         1274|2.7310188|     Tue|2016|    5|              2|  22|\n",
      "|1299289|        2|              4|       -73.99153|       40.74944|        -73.95654|        40.77063|                 0|         1128|4.8806133|     Sun|2016|    5|              2|  11|\n",
      "|1187965|        2|              2|       -73.96298|       40.75668|       -73.984406|        40.76072|                 0|         1114|2.9884133|     Fri|2016|    2|              1|   9|\n",
      "|2900608|        2|              1|      -73.992195|      40.727226|       -73.974655|        40.78307|                 0|         1414|2.4467576|     Fri|2016|    5|              2|   0|\n",
      "|3552682|        1|              1|       -74.00398|      40.713013|       -73.979195|       40.749924|                 0|         1317|3.4582636|     Mon|2016|    6|              2|   9|\n",
      "|2070428|        1|              1|       -73.98037|       40.74242|        -73.96285|       40.760635|                 0|          486|2.4436135|     Sun|2016|    2|              1|   2|\n",
      "| 809232|        2|              1|       -73.97954|       40.75336|          -73.964|        40.76346|                 0|          652|  2.16788|     Fri|2016|    4|              2|  12|\n",
      "|1603037|        1|              1|       -73.99355|      40.747173|        -74.00614|       40.704384|                 0|         1163|1.7563289|     Sat|2016|    6|              2|  10|\n",
      "|3321406|        2|              1|       -73.95523|      40.777134|        -73.78875|        40.64147|                 0|         2485|23.229277|     Fri|2016|    6|              2|   8|\n",
      "| 129640|        2|              1|       -73.95658|       40.77136|        -73.97497|        40.73279|                 0|         1283| 2.564935|     Sun|2016|    2|              1|  13|\n",
      "|3587298|        1|              1|      -73.983765|      40.749874|        -73.95883|        40.80096|                 0|         1130| 3.477649|     Sat|2016|    2|              1|  21|\n",
      "|3973319|        2|              1|       -73.99422|      40.713306|        -73.98285|         40.6923|                 0|          892| 1.586218|     Mon|2016|    6|              2|  21|\n",
      "|1410897|        1|              1|       -73.98212|       40.75635|        -73.86569|        40.77099|                 0|         2331| 16.24001|     Wed|2016|    3|              1|  14|\n",
      "| 266980|        1|              1|       -73.97094|       40.76167|        -73.99624|        40.72537|                 0|         1479|3.5293458|     Tue|2016|    5|              2|  10|\n",
      "+-------+---------+---------------+----------------+---------------+-----------------+----------------+------------------+-------------+---------+--------+----+-----+---------------+----+\n",
      "only showing top 20 rows\n",
      "\n"
     ]
    }
   ],
   "source": [
    "df.show()"
   ]
  },
  {
   "cell_type": "code",
   "execution_count": 5,
   "id": "b812f1eb",
   "metadata": {},
   "outputs": [
    {
     "name": "stderr",
     "output_type": "stream",
     "text": [
      "\r",
      "[Stage 3:>                                                          (0 + 1) / 1]\r",
      "\r",
      "                                                                                \r"
     ]
    },
    {
     "name": "stdout",
     "output_type": "stream",
     "text": [
      "+-------+---------+---------------+----------------+---------------+-----------------+----------------+------------------+-------------+---------+--------+----+-----+---------------+----+--------------+\n",
      "|     id|vendor_id|passenger_count|pickup_longitude|pickup_latitude|dropoff_longitude|dropoff_latitude|store_and_fwd_flag|trip_duration| distance|week_day|year|month|quarter_of_year|hour|week_day_index|\n",
      "+-------+---------+---------------+----------------+---------------+-----------------+----------------+------------------+-------------+---------+--------+----+-----+---------------+----+--------------+\n",
      "|2875421|        2|              1|      -73.982155|      40.767937|        -73.96463|       40.765602|                 0|          455|2.4444735|     Mon|2016|    3|              1|  17|           6.0|\n",
      "|2377394|        1|              1|      -73.980415|      40.738564|        -73.99948|        40.73115|                 0|          663|2.6599078|     Sun|2016|    6|              2|   0|           4.0|\n",
      "|3858529|        2|              1|       -73.97903|       40.76394|        -74.00533|       40.710087|                 0|         2124| 3.669969|     Tue|2016|    1|              1|  11|           5.0|\n",
      "|1813257|        1|              4|       -73.96902|       40.75784|       -73.957405|       40.765896|                 0|          341|1.6197599|     Fri|2016|    6|              2|  22|           0.0|\n",
      "|1324603|        2|              1|       -73.96928|       40.79778|        -73.92247|        40.76056|                 0|         1551| 6.528439|     Sat|2016|    5|              2|   7|           1.0|\n",
      "|1301050|        1|              1|       -73.99948|        40.7384|        -73.98579|       40.732815|                 0|          255|1.9105701|     Fri|2016|    5|              2|  23|           0.0|\n",
      "|1436371|        2|              1|       -73.98265|       40.76384|        -74.00223|        40.73299|                 0|         1274|2.7310188|     Tue|2016|    5|              2|  22|           5.0|\n",
      "|1299289|        2|              4|       -73.99153|       40.74944|        -73.95654|        40.77063|                 0|         1128|4.8806133|     Sun|2016|    5|              2|  11|           4.0|\n",
      "|1187965|        2|              2|       -73.96298|       40.75668|       -73.984406|        40.76072|                 0|         1114|2.9884133|     Fri|2016|    2|              1|   9|           0.0|\n",
      "|2900608|        2|              1|      -73.992195|      40.727226|       -73.974655|        40.78307|                 0|         1414|2.4467576|     Fri|2016|    5|              2|   0|           0.0|\n",
      "|3552682|        1|              1|       -74.00398|      40.713013|       -73.979195|       40.749924|                 0|         1317|3.4582636|     Mon|2016|    6|              2|   9|           6.0|\n",
      "|2070428|        1|              1|       -73.98037|       40.74242|        -73.96285|       40.760635|                 0|          486|2.4436135|     Sun|2016|    2|              1|   2|           4.0|\n",
      "| 809232|        2|              1|       -73.97954|       40.75336|          -73.964|        40.76346|                 0|          652|  2.16788|     Fri|2016|    4|              2|  12|           0.0|\n",
      "|1603037|        1|              1|       -73.99355|      40.747173|        -74.00614|       40.704384|                 0|         1163|1.7563289|     Sat|2016|    6|              2|  10|           1.0|\n",
      "|3321406|        2|              1|       -73.95523|      40.777134|        -73.78875|        40.64147|                 0|         2485|23.229277|     Fri|2016|    6|              2|   8|           0.0|\n",
      "| 129640|        2|              1|       -73.95658|       40.77136|        -73.97497|        40.73279|                 0|         1283| 2.564935|     Sun|2016|    2|              1|  13|           4.0|\n",
      "|3587298|        1|              1|      -73.983765|      40.749874|        -73.95883|        40.80096|                 0|         1130| 3.477649|     Sat|2016|    2|              1|  21|           1.0|\n",
      "|3973319|        2|              1|       -73.99422|      40.713306|        -73.98285|         40.6923|                 0|          892| 1.586218|     Mon|2016|    6|              2|  21|           6.0|\n",
      "|1410897|        1|              1|       -73.98212|       40.75635|        -73.86569|        40.77099|                 0|         2331| 16.24001|     Wed|2016|    3|              1|  14|           3.0|\n",
      "| 266980|        1|              1|       -73.97094|       40.76167|        -73.99624|        40.72537|                 0|         1479|3.5293458|     Tue|2016|    5|              2|  10|           5.0|\n",
      "+-------+---------+---------------+----------------+---------------+-----------------+----------------+------------------+-------------+---------+--------+----+-----+---------------+----+--------------+\n",
      "only showing top 20 rows\n",
      "\n"
     ]
    }
   ],
   "source": [
    "# Convert week day string column into index column.\n",
    "label_index = StringIndexer(inputCol = 'week_day', outputCol = 'week_day_index')\n",
    "df = label_index.fit(df).transform(df)\n",
    "df.show()"
   ]
  },
  {
   "cell_type": "code",
   "execution_count": 6,
   "id": "9475ab9e",
   "metadata": {},
   "outputs": [],
   "source": [
    "input_col = [i[0] for i in df.dtypes if i[1] == \"int\" or i[1] == \"double\"]\n",
    "input_col.remove(\"trip_duration\")\n",
    "input_col.remove(\"id\")"
   ]
  },
  {
   "cell_type": "code",
   "execution_count": 7,
   "id": "62a1fb7e",
   "metadata": {},
   "outputs": [
    {
     "name": "stdout",
     "output_type": "stream",
     "text": [
      "23/01/14 11:38:45 WARN package: Truncated the string representation of a plan since it was too large. This behavior can be adjusted by setting 'spark.sql.debug.maxToStringFields'.\n",
      "+--------------------+\n",
      "|      input_features|\n",
      "+--------------------+\n",
      "|[2.0,1.0,-73.9821...|\n",
      "|[1.0,1.0,-73.9804...|\n",
      "|[2.0,1.0,-73.9790...|\n",
      "|[1.0,4.0,-73.9690...|\n",
      "|[2.0,1.0,-73.9692...|\n",
      "|[1.0,1.0,-73.9994...|\n",
      "|[2.0,1.0,-73.9826...|\n",
      "|[2.0,4.0,-73.9915...|\n",
      "|[2.0,2.0,-73.9629...|\n",
      "|[2.0,1.0,-73.9921...|\n",
      "|[1.0,1.0,-74.0039...|\n",
      "|[1.0,1.0,-73.9803...|\n",
      "|[2.0,1.0,-73.9795...|\n",
      "|[1.0,1.0,-73.9935...|\n",
      "|[2.0,1.0,-73.9552...|\n",
      "|[2.0,1.0,-73.9565...|\n",
      "|[1.0,1.0,-73.9837...|\n",
      "|[2.0,1.0,-73.9942...|\n",
      "|[1.0,1.0,-73.9821...|\n",
      "|[1.0,1.0,-73.9709...|\n",
      "+--------------------+\n",
      "only showing top 20 rows\n",
      "\n"
     ]
    }
   ],
   "source": [
    "input_features = VectorAssembler(inputCols = input_col, outputCol = \"input_features\")\n",
    "\n",
    "input_column = input_features.transform(df)\n",
    "input_column.select(\"input_features\").show()"
   ]
  },
  {
   "cell_type": "code",
   "execution_count": 8,
   "id": "21ceee28",
   "metadata": {},
   "outputs": [
    {
     "name": "stdout",
     "output_type": "stream",
     "text": [
      "+--------------------+-------------+\n",
      "|      input_features|trip_duration|\n",
      "+--------------------+-------------+\n",
      "|[2.0,1.0,-73.9821...|          455|\n",
      "|[1.0,1.0,-73.9804...|          663|\n",
      "|[2.0,1.0,-73.9790...|         2124|\n",
      "|[1.0,4.0,-73.9690...|          341|\n",
      "|[2.0,1.0,-73.9692...|         1551|\n",
      "+--------------------+-------------+\n",
      "only showing top 5 rows\n",
      "\n"
     ]
    }
   ],
   "source": [
    "data_frame = input_column.select(\"input_features\", \"trip_duration\")\n",
    "data_frame.show(5)"
   ]
  },
  {
   "cell_type": "code",
   "execution_count": 9,
   "id": "4aebe36c",
   "metadata": {},
   "outputs": [],
   "source": [
    "train, test = data_frame.randomSplit([0.7, 0.3])\n",
    "\n",
    "linear_regression = LinearRegression(labelCol = \"trip_duration\", featuresCol = \"input_features\")\n",
    "\n",
    "# Create ParamGrid for Cross Validation.\n",
    "linear_regression_param_grid = ParamGridBuilder() \\\n",
    "                                .addGrid(linear_regression.regParam, [0.01, 0.1, 0.5, 1.0, 2.0]) \\\n",
    "                                .addGrid(linear_regression.elasticNetParam, [0.0, 0.25, 0.5, 0.75, 1.0]) \\\n",
    "                                .addGrid(linear_regression.maxIter, [1, 5, 10, 20, 50]) \\\n",
    "                                .build()\n",
    "\n",
    "evaluator = RegressionEvaluator(predictionCol = \"prediction\", labelCol = \"trip_duration\", metricName = \"rmse\")\n",
    "\n",
    "cross_validator = CrossValidator(estimator = linear_regression,\n",
    "                      estimatorParamMaps = linear_regression_param_grid,\n",
    "                      evaluator = evaluator,\n",
    "                      numFolds = 5)"
   ]
  },
  {
   "cell_type": "code",
   "execution_count": 10,
   "id": "e68b801c",
   "metadata": {},
   "outputs": [
    {
     "name": "stderr",
     "output_type": "stream",
     "text": [
      "\r",
      "[Stage 9:>                                                          (0 + 1) / 1]\r"
     ]
    },
    {
     "name": "stdout",
     "output_type": "stream",
     "text": [
      "23/01/14 11:38:57 WARN InstanceBuilder$JavaBLAS: Failed to load implementation from:dev.ludovic.netlib.blas.VectorBLAS\n",
      "23/01/14 11:38:57 WARN InstanceBuilder$NativeBLAS: Failed to load implementation from:dev.ludovic.netlib.blas.JNIBLAS\n",
      "23/01/14 11:38:57 WARN InstanceBuilder$NativeBLAS: Failed to load implementation from:dev.ludovic.netlib.blas.ForeignLinkerBLAS\n"
     ]
    },
    {
     "name": "stderr",
     "output_type": "stream",
     "text": [
      "\r",
      "                                                                                \r"
     ]
    },
    {
     "name": "stdout",
     "output_type": "stream",
     "text": [
      "23/01/14 11:38:57 WARN InstanceBuilder$NativeLAPACK: Failed to load implementation from:dev.ludovic.netlib.lapack.JNILAPACK\n"
     ]
    },
    {
     "name": "stderr",
     "output_type": "stream",
     "text": [
      "                                                                                \r"
     ]
    }
   ],
   "source": [
    "model = cross_validator.fit(train)"
   ]
  },
  {
   "cell_type": "code",
   "execution_count": 46,
   "id": "2f8bc6ce",
   "metadata": {},
   "outputs": [
    {
     "name": "stdout",
     "output_type": "stream",
     "text": [
      "Best Regression Param:  0.01\n",
      "Best Elastic Net Param:  1.0\n",
      "Best maxIter Param:  20\n",
      "Intercept:  -20946.88753117304\n",
      "Coefficient of Determination(Accuracy on Training data):  50.37 %\n",
      "Coefficients:  [-1.1058947320701775,2.2941925093731306,-346.2276748269038,-219.7325167503366,-557.0561054539911,-894.048046540116,69.31604267655638,82.35902812089964,0.0,19.836955365032452,22.171057114817287,5.363316150434126,-11.650783793189577]\n"
     ]
    }
   ],
   "source": [
    "print(\"Best Regression Param: \", model.bestModel._java_obj.getRegParam())\n",
    "print(\"Best Elastic Net Param: \", model.bestModel._java_obj.getElasticNetParam())\n",
    "print(\"Best maxIter Param: \", model.bestModel._java_obj.getMaxIter())\n",
    "print(\"Intercept: \", model.bestModel.intercept)\n",
    "print(\"Coefficient of Determination(Accuracy on Training data): \", str(round(model.bestModel.summary.r2*100, 2)), \"%\")\n",
    "print(\"Coefficients: \", model.bestModel.coefficients)"
   ]
  },
  {
   "cell_type": "code",
   "execution_count": 48,
   "id": "68c0cfbe",
   "metadata": {},
   "outputs": [
    {
     "name": "stderr",
     "output_type": "stream",
     "text": [
      "                                                                                \r"
     ]
    },
    {
     "name": "stdout",
     "output_type": "stream",
     "text": [
      "RMSE:  502.3499905106906\n"
     ]
    },
    {
     "name": "stderr",
     "output_type": "stream",
     "text": [
      "\r",
      "[Stage 1894:>                                                       (0 + 1) / 1]\r"
     ]
    },
    {
     "name": "stdout",
     "output_type": "stream",
     "text": [
      "Coefficient of Determination(Accuracy on Test Data):  49.743834335312876 %\n"
     ]
    },
    {
     "name": "stderr",
     "output_type": "stream",
     "text": [
      "\r",
      "                                                                                \r"
     ]
    }
   ],
   "source": [
    "prediction = model.transform(test)\n",
    "\n",
    "test_pred_evaluator = RegressionEvaluator(predictionCol = \"prediction\", labelCol = \"trip_duration\", metricName = \"r2\")\n",
    "\n",
    "print(\"RMSE: \", evaluator.evaluate(prediction))\n",
    "print(\"Coefficient of Determination(Accuracy on Test Data): \", test_pred_evaluator.evaluate(prediction)*100, \"%\")\n"
   ]
  },
  {
   "cell_type": "code",
   "execution_count": null,
   "id": "3401a70c",
   "metadata": {},
   "outputs": [],
   "source": []
  }
 ],
 "metadata": {
  "kernelspec": {
   "display_name": "Python 3 (ipykernel)",
   "language": "python",
   "name": "python3"
  },
  "language_info": {
   "codemirror_mode": {
    "name": "ipython",
    "version": 3
   },
   "file_extension": ".py",
   "mimetype": "text/x-python",
   "name": "python",
   "nbconvert_exporter": "python",
   "pygments_lexer": "ipython3",
   "version": "3.10.9"
  }
 },
 "nbformat": 4,
 "nbformat_minor": 5
}
