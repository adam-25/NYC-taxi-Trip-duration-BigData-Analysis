{
  "cells": [
    {
      "cell_type": "code",
      "source": [
        "!pip install pyspark"
      ],
      "metadata": {
        "colab": {
          "base_uri": "https://localhost:8080/"
        },
        "id": "a1VDEjN4TP7D",
        "outputId": "0d197b25-8718-4f1f-bec2-3c4525da1ffb"
      },
      "id": "a1VDEjN4TP7D",
      "execution_count": 204,
      "outputs": [
        {
          "output_type": "stream",
          "name": "stdout",
          "text": [
            "Looking in indexes: https://pypi.org/simple, https://us-python.pkg.dev/colab-wheels/public/simple/\n",
            "Requirement already satisfied: pyspark in /usr/local/lib/python3.8/dist-packages (3.3.1)\n",
            "Requirement already satisfied: py4j==0.10.9.5 in /usr/local/lib/python3.8/dist-packages (from pyspark) (0.10.9.5)\n"
          ]
        }
      ]
    },
    {
      "cell_type": "code",
      "execution_count": 205,
      "id": "f410acea-e7af-4706-84a0-4c25b1030861",
      "metadata": {
        "colab": {
          "base_uri": "https://localhost:8080/"
        },
        "id": "f410acea-e7af-4706-84a0-4c25b1030861",
        "outputId": "e2241048-359d-4a0a-a99c-edde0b5fe119"
      },
      "outputs": [
        {
          "output_type": "execute_result",
          "data": {
            "text/plain": [
              "200589097"
            ]
          },
          "metadata": {},
          "execution_count": 205
        }
      ],
      "source": [
        "# Download Training dataset file.\n",
        "\n",
        "import requests\n",
        "URL = \"https://www.dropbox.com/s/cem9ea35wllfsqg/train.csv?dl=1\"\n",
        "response = requests.get(URL)\n",
        "open(\"train.csv\", \"wb\").write(response.content)"
      ]
    },
    {
      "cell_type": "code",
      "execution_count": 206,
      "id": "62c606ad-55c7-4d93-82ad-6d1317e0fa11",
      "metadata": {
        "colab": {
          "base_uri": "https://localhost:8080/"
        },
        "id": "62c606ad-55c7-4d93-82ad-6d1317e0fa11",
        "outputId": "a0473edc-d754-41f9-a77d-4d797254fbce"
      },
      "outputs": [
        {
          "output_type": "execute_result",
          "data": {
            "text/plain": [
              "70794289"
            ]
          },
          "metadata": {},
          "execution_count": 206
        }
      ],
      "source": [
        "# Download Testing dataset file.\n",
        "\n",
        "URL = \"https://www.dropbox.com/s/hrqzwaihgeibx4x/test.csv?dl=1\"\n",
        "response = requests.get(URL)\n",
        "open(\"test.csv\", \"wb\").write(response.content)"
      ]
    },
    {
      "cell_type": "code",
      "execution_count": 207,
      "id": "f80b9f3f-ea28-4afd-8525-aec1fb589718",
      "metadata": {
        "tags": [],
        "colab": {
          "base_uri": "https://localhost:8080/"
        },
        "id": "f80b9f3f-ea28-4afd-8525-aec1fb589718",
        "outputId": "7a6e002a-47da-4760-e448-589be9e4b061"
      },
      "outputs": [
        {
          "output_type": "stream",
          "name": "stdout",
          "text": [
            "root\n",
            " |-- id: string (nullable = true)\n",
            " |-- vendor_id: string (nullable = true)\n",
            " |-- pickup_datetime: string (nullable = true)\n",
            " |-- dropoff_datetime: string (nullable = true)\n",
            " |-- passenger_count: string (nullable = true)\n",
            " |-- pickup_longitude: string (nullable = true)\n",
            " |-- pickup_latitude: string (nullable = true)\n",
            " |-- dropoff_longitude: string (nullable = true)\n",
            " |-- dropoff_latitude: string (nullable = true)\n",
            " |-- store_and_fwd_flag: string (nullable = true)\n",
            " |-- trip_duration: string (nullable = true)\n",
            "\n"
          ]
        }
      ],
      "source": [
        "from pyspark.sql import SparkSession\n",
        "from pyspark.sql.functions import *\n",
        "from pyspark.sql import functions as F\n",
        "from math import radians, cos, sin, asin, sqrt\n",
        "from pyspark.sql.types import FloatType\n",
        "\n",
        "spark = SparkSession.builder.master(\"local[1]\").appName(\"SparkByExamples.com\").getOrCreate()\n",
        "df = spark.read.csv(\"./train.csv\", header=True)\n",
        "df.printSchema()"
      ]
    },
    {
      "cell_type": "code",
      "execution_count": 208,
      "id": "cef9b99a-9d41-4c00-b1b4-14ef3869829a",
      "metadata": {
        "colab": {
          "base_uri": "https://localhost:8080/"
        },
        "id": "cef9b99a-9d41-4c00-b1b4-14ef3869829a",
        "outputId": "8145e520-1bae-4f4a-fece-bdd33ba69c13"
      },
      "outputs": [
        {
          "output_type": "stream",
          "name": "stdout",
          "text": [
            "+---------+---------+-------------------+-------------------+---------------+-------------------+------------------+-------------------+------------------+------------------+-------------+\n",
            "|       id|vendor_id|    pickup_datetime|   dropoff_datetime|passenger_count|   pickup_longitude|   pickup_latitude|  dropoff_longitude|  dropoff_latitude|store_and_fwd_flag|trip_duration|\n",
            "+---------+---------+-------------------+-------------------+---------------+-------------------+------------------+-------------------+------------------+------------------+-------------+\n",
            "|id2875421|        2|2016-03-14 17:24:55|2016-03-14 17:32:30|              1|-73.982154846191406|40.767936706542969|-73.964630126953125|40.765602111816406|                 N|          455|\n",
            "|id2377394|        1|2016-06-12 00:43:35|2016-06-12 00:54:38|              1|-73.980415344238281|40.738563537597656|-73.999481201171875|40.731151580810547|                 N|          663|\n",
            "|id3858529|        2|2016-01-19 11:35:24|2016-01-19 12:10:48|              1|-73.979026794433594|40.763938903808594|-74.005332946777344|40.710086822509766|                 N|         2124|\n",
            "|id3504673|        2|2016-04-06 19:32:31|2016-04-06 19:39:40|              1|-74.010040283203125|   40.719970703125| -74.01226806640625|40.706718444824219|                 N|          429|\n",
            "|id2181028|        2|2016-03-26 13:30:55|2016-03-26 13:38:10|              1|-73.973052978515625|40.793209075927734|-73.972923278808594|40.782520294189453|                 N|          435|\n",
            "|id0801584|        2|2016-01-30 22:01:40|2016-01-30 22:09:03|              6|-73.982856750488281|40.742195129394531|-73.992080688476562|40.749183654785156|                 N|          443|\n",
            "|id1813257|        1|2016-06-17 22:34:59|2016-06-17 22:40:40|              4|-73.969017028808594|40.757839202880859|-73.957405090332031|40.765895843505859|                 N|          341|\n",
            "|id1324603|        2|2016-05-21 07:54:58|2016-05-21 08:20:49|              1|-73.969276428222656|40.797779083251953|-73.922470092773438| 40.76055908203125|                 N|         1551|\n",
            "|id1301050|        1|2016-05-27 23:12:23|2016-05-27 23:16:38|              1|-73.999481201171875|40.738399505615234|-73.985786437988281|40.732814788818359|                 N|          255|\n",
            "|id0012891|        2|2016-03-10 21:45:01|2016-03-10 22:05:26|              1|-73.981048583984375|40.744338989257813|-73.972999572753906|40.789989471435547|                 N|         1225|\n",
            "|id1436371|        2|2016-05-10 22:08:41|2016-05-10 22:29:55|              1|-73.982650756835938|40.763839721679688|-74.002227783203125|40.732990264892578|                 N|         1274|\n",
            "|id1299289|        2|2016-05-15 11:16:11|2016-05-15 11:34:59|              4|-73.991531372070313|40.749439239501953|    -73.95654296875|  40.7706298828125|                 N|         1128|\n",
            "|id1187965|        2|2016-02-19 09:52:46|2016-02-19 10:11:20|              2|-73.962982177734375|40.756679534912109|-73.984405517578125|40.760719299316406|                 N|         1114|\n",
            "|id0799785|        2|2016-06-01 20:58:29|2016-06-01 21:02:49|              1|-73.956306457519531|40.767940521240234|-73.966110229492188| 40.76300048828125|                 N|          260|\n",
            "|id2900608|        2|2016-05-27 00:43:36|2016-05-27 01:07:10|              1|-73.992195129394531|40.727226257324219|-73.974655151367188|40.783069610595703|                 N|         1414|\n",
            "|id3319787|        1|2016-05-16 15:29:02|2016-05-16 15:32:33|              1|-73.955513000488281|40.768592834472656|-73.948760986328125| 40.77154541015625|                 N|          211|\n",
            "|id3379579|        2|2016-04-11 17:29:50|2016-04-11 18:08:26|              1|-73.991165161132813|40.755561828613281|-73.999290466308594|40.725353240966797|                 N|         2316|\n",
            "|id1154431|        1|2016-04-14 08:48:26|2016-04-14 09:00:37|              1|-73.994255065917969|40.745803833007813|-73.999656677246094|40.723342895507813|                 N|          731|\n",
            "|id3552682|        1|2016-06-27 09:55:13|2016-06-27 10:17:10|              1|-74.003982543945313|  40.7130126953125|-73.979194641113281|40.749923706054688|                 N|         1317|\n",
            "|id3390316|        2|2016-06-05 13:47:23|2016-06-05 13:51:34|              1|    -73.98388671875|40.738197326660156|-73.991203308105469|40.727870941162109|                 N|          251|\n",
            "+---------+---------+-------------------+-------------------+---------------+-------------------+------------------+-------------------+------------------+------------------+-------------+\n",
            "only showing top 20 rows\n",
            "\n"
          ]
        }
      ],
      "source": [
        "df.show()"
      ]
    },
    {
      "cell_type": "code",
      "execution_count": 209,
      "id": "60ff6755-d4ff-4d7b-bac9-b5e6f23fc4df",
      "metadata": {
        "colab": {
          "base_uri": "https://localhost:8080/"
        },
        "id": "60ff6755-d4ff-4d7b-bac9-b5e6f23fc4df",
        "outputId": "52415b7f-301a-46fa-b33d-9ab35a0449f6"
      },
      "outputs": [
        {
          "output_type": "stream",
          "name": "stdout",
          "text": [
            "+---+---------+---------------+----------------+---------------+----------------+---------------+-----------------+----------------+------------------+-------------+\n",
            "| id|vendor_id|pickup_datetime|dropoff_datetime|passenger_count|pickup_longitude|pickup_latitude|dropoff_longitude|dropoff_latitude|store_and_fwd_flag|trip_duration|\n",
            "+---+---------+---------------+----------------+---------------+----------------+---------------+-----------------+----------------+------------------+-------------+\n",
            "|  0|        0|              0|               0|              0|               0|              0|                0|               0|                 0|            0|\n",
            "+---+---------+---------------+----------------+---------------+----------------+---------------+-----------------+----------------+------------------+-------------+\n",
            "\n"
          ]
        }
      ],
      "source": [
        "# Check for NaN or null values\n",
        "\n",
        "df.select([count(when(isnan(c) | col(c).isNull(), c)).alias(c) for c in df.columns]).show()"
      ]
    },
    {
      "cell_type": "code",
      "execution_count": 210,
      "id": "8eaf2a2d-a27c-4b62-9a77-819e5dc8e157",
      "metadata": {
        "id": "8eaf2a2d-a27c-4b62-9a77-819e5dc8e157"
      },
      "outputs": [],
      "source": [
        "# Removing id from `id` column.\n",
        "\n",
        "df = df.withColumn(\"id\", expr(\"replace(id, 'id', '')\"))"
      ]
    },
    {
      "cell_type": "code",
      "execution_count": 211,
      "id": "7c8c3e33-fbaf-4405-8462-6323941d381c",
      "metadata": {
        "id": "7c8c3e33-fbaf-4405-8462-6323941d381c"
      },
      "outputs": [],
      "source": [
        "# Covert Datatype of the dataframe.\n",
        "\n",
        "def convert_datatype(df):\n",
        "    df = df.withColumn(\"id\",df.id.cast('int'))\n",
        "    df = df.withColumn(\"vendor_id\", df.vendor_id.cast('int'))\n",
        "    df = df.withColumn(\"pickup_datetime\", to_timestamp(df.pickup_datetime, \"yyyy-MM-dd HH:mm:ss\"))\n",
        "    df = df.withColumn(\"dropoff_datetime\", to_timestamp(df.dropoff_datetime, \"yyyy-MM-dd HH:mm:ss\"))\n",
        "    df = df.withColumn(\"passenger_count\",df.passenger_count.cast('int'))\n",
        "    df = df.withColumn(\"pickup_longitude\",df.pickup_longitude.cast('double'))\n",
        "    df = df.withColumn(\"pickup_latitude\",df.pickup_latitude.cast('double'))\n",
        "    df = df.withColumn(\"dropoff_longitude\",df.dropoff_longitude.cast('double'))\n",
        "    df = df.withColumn(\"dropoff_latitude\",df.dropoff_latitude.cast('double'))\n",
        "    df = df.withColumn('store_and_fwd_flag', F.when(df.store_and_fwd_flag == 'N', 0).otherwise(1))\n",
        "    df = df.withColumn(\"trip_duration\",df.trip_duration.cast('int'))\n",
        "    \n",
        "    return df"
      ]
    },
    {
      "cell_type": "code",
      "execution_count": 212,
      "id": "1d9f470e-1644-4bca-92bb-c97f534c0739",
      "metadata": {
        "id": "1d9f470e-1644-4bca-92bb-c97f534c0739"
      },
      "outputs": [],
      "source": [
        "# Call Convert datatype\n",
        "\n",
        "df = convert_datatype(df)"
      ]
    },
    {
      "cell_type": "code",
      "execution_count": 213,
      "id": "4713ecf0-4455-4208-9ef8-c928550ff407",
      "metadata": {
        "colab": {
          "base_uri": "https://localhost:8080/"
        },
        "id": "4713ecf0-4455-4208-9ef8-c928550ff407",
        "outputId": "34a809f7-3a75-4275-de59-50ac0eabe903"
      },
      "outputs": [
        {
          "output_type": "stream",
          "name": "stdout",
          "text": [
            "id , int\n",
            "vendor_id , int\n",
            "pickup_datetime , timestamp\n",
            "dropoff_datetime , timestamp\n",
            "passenger_count , int\n",
            "pickup_longitude , double\n",
            "pickup_latitude , double\n",
            "dropoff_longitude , double\n",
            "dropoff_latitude , double\n",
            "store_and_fwd_flag , int\n",
            "trip_duration , int\n"
          ]
        }
      ],
      "source": [
        "# Check for columns data types\n",
        "\n",
        "for col in df.dtypes:\n",
        "    print(col[0]+\" , \"+col[1])"
      ]
    },
    {
      "cell_type": "code",
      "execution_count": 214,
      "id": "877a9c25-9679-4354-9573-806badbe66d1",
      "metadata": {
        "id": "877a9c25-9679-4354-9573-806badbe66d1"
      },
      "outputs": [],
      "source": [
        "# Calculate difference in dropoff and pickup time\n",
        "\n",
        "df = df.withColumn('diff_in_dropff_and_pickup',df[\"dropoff_datetime\"].cast(\"double\") - df['pickup_datetime'].cast(\"double\"))"
      ]
    },
    {
      "cell_type": "code",
      "execution_count": 215,
      "id": "5651dfe3-b0fa-4282-9030-031b2174c595",
      "metadata": {
        "id": "5651dfe3-b0fa-4282-9030-031b2174c595"
      },
      "outputs": [],
      "source": [
        "# Calculate the difference between trip duration and the difference of the pickup and dropoff time\n",
        "\n",
        "df = df.withColumn('diff_in_trip_duration_and_manual_calc_time',df[\"trip_duration\"].cast(\"double\") - df['diff_in_dropff_and_pickup'].cast(\"double\"))"
      ]
    },
    {
      "cell_type": "code",
      "execution_count": 216,
      "id": "804d678e-a914-4f6e-9f16-3a7098d75b8e",
      "metadata": {
        "colab": {
          "base_uri": "https://localhost:8080/"
        },
        "id": "804d678e-a914-4f6e-9f16-3a7098d75b8e",
        "outputId": "6a1fa7ce-8512-488e-c65b-becde59dedbc"
      },
      "outputs": [
        {
          "output_type": "execute_result",
          "data": {
            "text/plain": [
              "[Row(diff_in_trip_duration_and_manual_calc_time=0.0)]"
            ]
          },
          "metadata": {},
          "execution_count": 216
        }
      ],
      "source": [
        "# Checking for unique values in `diff_in_trip_duration_and_manual_calc_time`\n",
        "\n",
        "df.select('diff_in_trip_duration_and_manual_calc_time').distinct().collect()"
      ]
    },
    {
      "cell_type": "code",
      "execution_count": 217,
      "id": "bdd44f40-e0cb-4a49-bca1-cff66c14e650",
      "metadata": {
        "colab": {
          "base_uri": "https://localhost:8080/"
        },
        "id": "bdd44f40-e0cb-4a49-bca1-cff66c14e650",
        "outputId": "338692bd-b9fe-4a22-bced-6f43bd112534"
      },
      "outputs": [
        {
          "output_type": "execute_result",
          "data": {
            "text/plain": [
              "0"
            ]
          },
          "metadata": {},
          "execution_count": 217
        }
      ],
      "source": [
        "# Checking if trip duration is 0 or negative, if there then we can remove it.\n",
        "\n",
        "df.filter(df.trip_duration <= 0).count()"
      ]
    },
    {
      "cell_type": "code",
      "execution_count": 218,
      "id": "8adb85d5-2ab7-4dd7-b416-43f40fdfcfaf",
      "metadata": {
        "colab": {
          "base_uri": "https://localhost:8080/"
        },
        "id": "8adb85d5-2ab7-4dd7-b416-43f40fdfcfaf",
        "outputId": "b086d7fe-cfa5-4423-ab1f-280ffbdaebbc"
      },
      "outputs": [
        {
          "output_type": "execute_result",
          "data": {
            "text/plain": [
              "[Row(store_and_fwd_flag=1), Row(store_and_fwd_flag=0)]"
            ]
          },
          "metadata": {},
          "execution_count": 218
        }
      ],
      "source": [
        "# Checking for unique values in `store_and_fwd_flag`\n",
        "\n",
        "df.select('store_and_fwd_flag').distinct().collect()"
      ]
    },
    {
      "cell_type": "code",
      "execution_count": 219,
      "id": "905902ca-4330-4be2-a359-6045ac84f9a8",
      "metadata": {
        "id": "905902ca-4330-4be2-a359-6045ac84f9a8"
      },
      "outputs": [],
      "source": [
        "# Calculate distance between two latitute and longtitude.\n",
        "\n",
        "def distance(pickUpLat1, dropOffLat2, pickUpLon1, dropOffLon2):\n",
        "     \n",
        "    # The math module contains a function named\n",
        "    # radians which converts from degrees to radians.\n",
        "    lon1 = radians(pickUpLon1)\n",
        "    lon2 = radians(dropOffLon2)\n",
        "    lat1 = radians(pickUpLat1)\n",
        "    lat2 = radians(dropOffLat2)\n",
        "      \n",
        "    # Haversine formula\n",
        "    dlon = lon2 - lon1\n",
        "    dlat = lat2 - lat1\n",
        "    a = sin(dlat / 2)**2 + cos(lat1) * cos(lat2) * sin(dlon / 2)**2\n",
        " \n",
        "    c = 2 * asin(sqrt(a))\n",
        "    \n",
        "    # Radius of earth in kilometers. Use 3956 for miles\n",
        "    r = 6371\n",
        "      \n",
        "    # calculate the result\n",
        "    return(c * r)"
      ]
    },
    {
      "cell_type": "code",
      "execution_count": 220,
      "id": "434b848d-0324-4791-9597-98a9bcbf6d6c",
      "metadata": {
        "id": "434b848d-0324-4791-9597-98a9bcbf6d6c"
      },
      "outputs": [],
      "source": [
        "# Calculating distance between pickup and dropoff latitude and longtitude.\n",
        "\n",
        "udf_func = udf(distance, FloatType())\n",
        "df = df.withColumn(\"distance\", udf_func(df.pickup_latitude, df.dropoff_latitude, df.pickup_longitude, df.dropoff_longitude))"
      ]
    },
    {
      "cell_type": "code",
      "execution_count": 221,
      "id": "48e8cb11-321a-43eb-b51b-89d48785d25a",
      "metadata": {
        "colab": {
          "base_uri": "https://localhost:8080/"
        },
        "id": "48e8cb11-321a-43eb-b51b-89d48785d25a",
        "outputId": "3f78b95a-7b5e-4db7-a0e8-ce02808fcf24"
      },
      "outputs": [
        {
          "output_type": "stream",
          "name": "stdout",
          "text": [
            "+----------+\n",
            "|  distance|\n",
            "+----------+\n",
            "| 1.4985207|\n",
            "| 1.8055072|\n",
            "| 6.3850985|\n",
            "| 1.4854984|\n",
            "| 1.1885885|\n",
            "| 1.0989425|\n",
            "| 1.3262786|\n",
            "| 5.7149806|\n",
            "| 1.3103533|\n",
            "| 5.1211615|\n",
            "| 3.8061395|\n",
            "| 3.7730958|\n",
            "|  1.859483|\n",
            "|0.99168485|\n",
            "|  6.382836|\n",
            "|  0.656578|\n",
            "|  3.428086|\n",
            "| 2.5386717|\n",
            "| 4.6052012|\n",
            "| 1.3032712|\n",
            "+----------+\n",
            "only showing top 20 rows\n",
            "\n"
          ]
        }
      ],
      "source": [
        "# distance is in K.M.\n",
        "\n",
        "df.select(\"distance\").show()"
      ]
    },
    {
      "cell_type": "code",
      "execution_count": 222,
      "id": "68de2ba9-17b8-4d38-96f1-a17bb558ec77",
      "metadata": {
        "colab": {
          "base_uri": "https://localhost:8080/"
        },
        "id": "68de2ba9-17b8-4d38-96f1-a17bb558ec77",
        "outputId": "653edb4d-9451-458a-9bbc-a073418cd7ca"
      },
      "outputs": [
        {
          "output_type": "stream",
          "name": "stdout",
          "text": [
            "Count unique values Before filtering for distance < 0 is  1458644\n"
          ]
        }
      ],
      "source": [
        "# Only keep records where distance between non overlapped points\n",
        "\n",
        "print(\"Count unique values Before filtering for distance < 0 is \", df.count()) \n",
        "df = df.filter(df.distance > 0)"
      ]
    },
    {
      "cell_type": "code",
      "execution_count": 223,
      "id": "b88bae9f-e6b6-4d2b-9ae8-313df1ab0f16",
      "metadata": {
        "colab": {
          "base_uri": "https://localhost:8080/"
        },
        "id": "b88bae9f-e6b6-4d2b-9ae8-313df1ab0f16",
        "outputId": "065a0ae6-940d-453e-a7eb-324bbee94602"
      },
      "outputs": [
        {
          "output_type": "execute_result",
          "data": {
            "text/plain": [
              "1452747"
            ]
          },
          "metadata": {},
          "execution_count": 223
        }
      ],
      "source": [
        "# Counting total number of unique values in dataframe.\n",
        "\n",
        "df.count()"
      ]
    },
    {
      "cell_type": "code",
      "execution_count": 224,
      "id": "6cb56a1e-b370-4904-8238-87327dda404a",
      "metadata": {
        "id": "6cb56a1e-b370-4904-8238-87327dda404a"
      },
      "outputs": [],
      "source": [
        "######################################################################################################################"
      ]
    },
    {
      "cell_type": "code",
      "source": [
        "print(df.show(5))"
      ],
      "metadata": {
        "id": "qryZvzYOTGCk",
        "colab": {
          "base_uri": "https://localhost:8080/"
        },
        "outputId": "dbd58c37-2869-475b-ba11-2d324d8a276a"
      },
      "id": "qryZvzYOTGCk",
      "execution_count": 225,
      "outputs": [
        {
          "output_type": "stream",
          "name": "stdout",
          "text": [
            "+-------+---------+-------------------+-------------------+---------------+------------------+------------------+------------------+------------------+------------------+-------------+-------------------------+------------------------------------------+---------+\n",
            "|     id|vendor_id|    pickup_datetime|   dropoff_datetime|passenger_count|  pickup_longitude|   pickup_latitude| dropoff_longitude|  dropoff_latitude|store_and_fwd_flag|trip_duration|diff_in_dropff_and_pickup|diff_in_trip_duration_and_manual_calc_time| distance|\n",
            "+-------+---------+-------------------+-------------------+---------------+------------------+------------------+------------------+------------------+------------------+-------------+-------------------------+------------------------------------------+---------+\n",
            "|2875421|        2|2016-03-14 17:24:55|2016-03-14 17:32:30|              1| -73.9821548461914| 40.76793670654297|-73.96463012695312|40.765602111816406|                 0|          455|                    455.0|                                       0.0|1.4985207|\n",
            "|2377394|        1|2016-06-12 00:43:35|2016-06-12 00:54:38|              1|-73.98041534423828|40.738563537597656|-73.99948120117188| 40.73115158081055|                 0|          663|                    663.0|                                       0.0|1.8055072|\n",
            "|3858529|        2|2016-01-19 11:35:24|2016-01-19 12:10:48|              1| -73.9790267944336|40.763938903808594|-74.00533294677734|40.710086822509766|                 0|         2124|                   2124.0|                                       0.0|6.3850985|\n",
            "|3504673|        2|2016-04-06 19:32:31|2016-04-06 19:39:40|              1|-74.01004028320312|   40.719970703125|-74.01226806640625| 40.70671844482422|                 0|          429|                    429.0|                                       0.0|1.4854984|\n",
            "|2181028|        2|2016-03-26 13:30:55|2016-03-26 13:38:10|              1|-73.97305297851562|40.793209075927734| -73.9729232788086| 40.78252029418945|                 0|          435|                    435.0|                                       0.0|1.1885885|\n",
            "+-------+---------+-------------------+-------------------+---------------+------------------+------------------+------------------+------------------+------------------+-------------+-------------------------+------------------------------------------+---------+\n",
            "only showing top 5 rows\n",
            "\n",
            "None\n"
          ]
        }
      ]
    },
    {
      "cell_type": "code",
      "source": [
        "# get the pickup hour dayofweek, month number and year\n",
        "from pyspark.sql.functions import col\n",
        "spark.sql(\"set spark.sql.legacy.timeParserPolicy=LEGACY\")\n",
        "\n",
        "df = df.withColumn('day_week', date_format(col(\"pickup_datetime\"), \"u\"))\n",
        "df = df.withColumn('year', date_format(col(\"pickup_datetime\"), \"y\"))\n",
        "df = df.withColumn('month', date_format(col(\"pickup_datetime\"), \"M\"))\n",
        "df = df.withColumn('hour', date_format(col(\"pickup_datetime\"), \"H\"))\n",
        "\n",
        "df = df.withColumn(\"day_week\",col(\"day_week\").cast(\"int\"))\n",
        "df = df.withColumn(\"year\",col(\"year\").cast(\"int\"))\n",
        "df = df.withColumn(\"month\",col(\"month\").cast(\"int\"))\n",
        "df = df.withColumn(\"hour\",col(\"hour\").cast(\"int\"))\n",
        "\n",
        "# Drop datetime column\n",
        "#df = df.drop('vendor_id', 'pickup_datetime', 'dropoff_datetime', 'store_and_fwd_flag', 'diff_in_dropff_and_pickup', 'diff_in_trip_duration_and_manual_calc_time')\n",
        "#df = df.drop('id')\n",
        "\n",
        "df = df.select(col('distance'), col('trip_duration'))\n",
        "\n",
        "for col in df.dtypes:\n",
        "    print(col[0]+\" , \"+col[1])\n",
        "\n",
        "print(df.show(5))"
      ],
      "metadata": {
        "colab": {
          "base_uri": "https://localhost:8080/"
        },
        "id": "QOEXxsKM_cMa",
        "outputId": "80595f3d-64a8-4120-d845-6159ae5b73d7"
      },
      "id": "QOEXxsKM_cMa",
      "execution_count": 227,
      "outputs": [
        {
          "output_type": "stream",
          "name": "stdout",
          "text": [
            "distance , float\n",
            "trip_duration , int\n",
            "+---------+-------------+\n",
            "| distance|trip_duration|\n",
            "+---------+-------------+\n",
            "|1.4985207|          455|\n",
            "|1.8055072|          663|\n",
            "|6.3850985|         2124|\n",
            "|1.4854984|          429|\n",
            "|1.1885885|          435|\n",
            "+---------+-------------+\n",
            "only showing top 5 rows\n",
            "\n",
            "None\n"
          ]
        }
      ]
    },
    {
      "cell_type": "code",
      "source": [],
      "metadata": {
        "id": "soyT8p87B4Jt"
      },
      "id": "soyT8p87B4Jt",
      "execution_count": null,
      "outputs": []
    },
    {
      "cell_type": "code",
      "source": [
        "import numpy as np\n",
        "from pyspark.ml.feature import VectorAssembler\n",
        "from pyspark.ml.clustering import KMeans\n",
        "\n",
        "#vecAssembler2.setParams(handleInvalid=\"skip\").transform(dfWithNullsAndNaNs).show()\n",
        "\n",
        "# Make sure the column data types are correct\n",
        "df = df.withColumn(\"trip_duration\",df.trip_duration.cast('int'))\n",
        "df = df.withColumn(\"distance\",df.distance.cast('float'))\n",
        "\n",
        "# Combine all your features into a single vector\n",
        "assemble = VectorAssembler(inputCols=df.columns, outputCol='features')\n",
        "assembled_data = assemble.setParams(handleInvalid=\"skip\").transform(df)\n",
        "print(assembled_data.count())\n",
        "assembled_data.show(5)\n",
        "\n",
        "from pyspark.ml.feature import StandardScaler\n",
        "scale=StandardScaler(inputCol='features',outputCol='standardized')\n",
        "data_scale=scale.fit(assembled_data)\n",
        "data_scale_output=data_scale.transform(assembled_data)\n",
        "data_scale_output.show(2)"
      ],
      "metadata": {
        "colab": {
          "base_uri": "https://localhost:8080/"
        },
        "id": "bbRvjiUIo8ub",
        "outputId": "f7a0f066-6f43-4404-a129-0946f556b537"
      },
      "id": "bbRvjiUIo8ub",
      "execution_count": 262,
      "outputs": [
        {
          "output_type": "stream",
          "name": "stdout",
          "text": [
            "1452747\n",
            "+---------+-------------+--------------------+\n",
            "| distance|trip_duration|            features|\n",
            "+---------+-------------+--------------------+\n",
            "|1.4985207|          455|[1.49852073192596...|\n",
            "|1.8055072|          663|[1.80550718307495...|\n",
            "|6.3850985|         2124|[6.38509845733642...|\n",
            "|1.4854984|          429|[1.48549842834472...|\n",
            "|1.1885885|          435|[1.18858850002288...|\n",
            "+---------+-------------+--------------------+\n",
            "only showing top 5 rows\n",
            "\n",
            "+---------+-------------+--------------------+--------------------+\n",
            "| distance|trip_duration|            features|        standardized|\n",
            "+---------+-------------+--------------------+--------------------+\n",
            "|1.4985207|          455|[1.49852073192596...|[0.34852223397543...|\n",
            "|1.8055072|          663|[1.80550718307495...|[0.41992038114496...|\n",
            "+---------+-------------+--------------------+--------------------+\n",
            "only showing top 2 rows\n",
            "\n"
          ]
        }
      ]
    },
    {
      "cell_type": "code",
      "source": [
        "#Check column data types\n",
        "for col in assembled_data.dtypes:\n",
        "    print(col[0]+\" , \"+col[1])"
      ],
      "metadata": {
        "colab": {
          "base_uri": "https://localhost:8080/"
        },
        "id": "OMk-XXyM9YEB",
        "outputId": "9dd80313-d276-4ed4-cc1b-fa071a0fe573"
      },
      "id": "OMk-XXyM9YEB",
      "execution_count": 255,
      "outputs": [
        {
          "output_type": "stream",
          "name": "stdout",
          "text": [
            "distance , float\n",
            "trip_duration , int\n",
            "features , vector\n"
          ]
        }
      ]
    },
    {
      "cell_type": "code",
      "source": [
        "df2 = data_scale_output.select('standardized')\n",
        "df2.show(5)\n",
        "\n",
        "print(type)\n",
        "\n",
        "print(data_scale_output.count())"
      ],
      "metadata": {
        "colab": {
          "base_uri": "https://localhost:8080/"
        },
        "id": "eL4sNv1B_5TR",
        "outputId": "81430c9b-89f6-48d1-afc5-42a389ea92df"
      },
      "id": "eL4sNv1B_5TR",
      "execution_count": 260,
      "outputs": [
        {
          "output_type": "stream",
          "name": "stdout",
          "text": [
            "+--------------------+\n",
            "|        standardized|\n",
            "+--------------------+\n",
            "|[0.34852223397543...|\n",
            "|[0.41992038114496...|\n",
            "|[1.48503035766737...|\n",
            "|[0.34549353891707...|\n",
            "|[0.27643896442665...|\n",
            "+--------------------+\n",
            "only showing top 5 rows\n",
            "\n",
            "<class 'type'>\n",
            "1452747\n"
          ]
        }
      ]
    },
    {
      "cell_type": "code",
      "source": [
        "# Try creating the model\n",
        "kmeans = KMeans(featuresCol='standardized', k=2)\n",
        "kmeans.setMaxIter(10)\n",
        "model = kmeans.fit(df2)"
      ],
      "metadata": {
        "colab": {
          "base_uri": "https://localhost:8080/",
          "height": 417
        },
        "id": "VNIqyrGE69oN",
        "outputId": "707ffefe-97e3-4b0c-cfa7-1f4cf854933e"
      },
      "id": "VNIqyrGE69oN",
      "execution_count": 263,
      "outputs": [
        {
          "output_type": "error",
          "ename": "PythonException",
          "evalue": "ignored",
          "traceback": [
            "\u001b[0;31m---------------------------------------------------------------------------\u001b[0m",
            "\u001b[0;31mPythonException\u001b[0m                           Traceback (most recent call last)",
            "\u001b[0;32m<ipython-input-263-aa04129902d7>\u001b[0m in \u001b[0;36m<module>\u001b[0;34m\u001b[0m\n\u001b[1;32m      2\u001b[0m \u001b[0mkmeans\u001b[0m \u001b[0;34m=\u001b[0m \u001b[0mKMeans\u001b[0m\u001b[0;34m(\u001b[0m\u001b[0mfeaturesCol\u001b[0m\u001b[0;34m=\u001b[0m\u001b[0;34m'standardized'\u001b[0m\u001b[0;34m,\u001b[0m \u001b[0mk\u001b[0m\u001b[0;34m=\u001b[0m\u001b[0;36m2\u001b[0m\u001b[0;34m)\u001b[0m\u001b[0;34m\u001b[0m\u001b[0;34m\u001b[0m\u001b[0m\n\u001b[1;32m      3\u001b[0m \u001b[0mkmeans\u001b[0m\u001b[0;34m.\u001b[0m\u001b[0msetMaxIter\u001b[0m\u001b[0;34m(\u001b[0m\u001b[0;36m10\u001b[0m\u001b[0;34m)\u001b[0m\u001b[0;34m\u001b[0m\u001b[0;34m\u001b[0m\u001b[0m\n\u001b[0;32m----> 4\u001b[0;31m \u001b[0mmodel\u001b[0m \u001b[0;34m=\u001b[0m \u001b[0mkmeans\u001b[0m\u001b[0;34m.\u001b[0m\u001b[0mfit\u001b[0m\u001b[0;34m(\u001b[0m\u001b[0mdf2\u001b[0m\u001b[0;34m)\u001b[0m\u001b[0;34m\u001b[0m\u001b[0;34m\u001b[0m\u001b[0m\n\u001b[0m",
            "\u001b[0;32m/usr/local/lib/python3.8/dist-packages/pyspark/ml/base.py\u001b[0m in \u001b[0;36mfit\u001b[0;34m(self, dataset, params)\u001b[0m\n\u001b[1;32m    203\u001b[0m                 \u001b[0;32mreturn\u001b[0m \u001b[0mself\u001b[0m\u001b[0;34m.\u001b[0m\u001b[0mcopy\u001b[0m\u001b[0;34m(\u001b[0m\u001b[0mparams\u001b[0m\u001b[0;34m)\u001b[0m\u001b[0;34m.\u001b[0m\u001b[0m_fit\u001b[0m\u001b[0;34m(\u001b[0m\u001b[0mdataset\u001b[0m\u001b[0;34m)\u001b[0m\u001b[0;34m\u001b[0m\u001b[0;34m\u001b[0m\u001b[0m\n\u001b[1;32m    204\u001b[0m             \u001b[0;32melse\u001b[0m\u001b[0;34m:\u001b[0m\u001b[0;34m\u001b[0m\u001b[0;34m\u001b[0m\u001b[0m\n\u001b[0;32m--> 205\u001b[0;31m                 \u001b[0;32mreturn\u001b[0m \u001b[0mself\u001b[0m\u001b[0;34m.\u001b[0m\u001b[0m_fit\u001b[0m\u001b[0;34m(\u001b[0m\u001b[0mdataset\u001b[0m\u001b[0;34m)\u001b[0m\u001b[0;34m\u001b[0m\u001b[0;34m\u001b[0m\u001b[0m\n\u001b[0m\u001b[1;32m    206\u001b[0m         \u001b[0;32melse\u001b[0m\u001b[0;34m:\u001b[0m\u001b[0;34m\u001b[0m\u001b[0;34m\u001b[0m\u001b[0m\n\u001b[1;32m    207\u001b[0m             raise TypeError(\n",
            "\u001b[0;32m/usr/local/lib/python3.8/dist-packages/pyspark/ml/wrapper.py\u001b[0m in \u001b[0;36m_fit\u001b[0;34m(self, dataset)\u001b[0m\n\u001b[1;32m    381\u001b[0m \u001b[0;34m\u001b[0m\u001b[0m\n\u001b[1;32m    382\u001b[0m     \u001b[0;32mdef\u001b[0m \u001b[0m_fit\u001b[0m\u001b[0;34m(\u001b[0m\u001b[0mself\u001b[0m\u001b[0;34m,\u001b[0m \u001b[0mdataset\u001b[0m\u001b[0;34m:\u001b[0m \u001b[0mDataFrame\u001b[0m\u001b[0;34m)\u001b[0m \u001b[0;34m->\u001b[0m \u001b[0mJM\u001b[0m\u001b[0;34m:\u001b[0m\u001b[0;34m\u001b[0m\u001b[0;34m\u001b[0m\u001b[0m\n\u001b[0;32m--> 383\u001b[0;31m         \u001b[0mjava_model\u001b[0m \u001b[0;34m=\u001b[0m \u001b[0mself\u001b[0m\u001b[0;34m.\u001b[0m\u001b[0m_fit_java\u001b[0m\u001b[0;34m(\u001b[0m\u001b[0mdataset\u001b[0m\u001b[0;34m)\u001b[0m\u001b[0;34m\u001b[0m\u001b[0;34m\u001b[0m\u001b[0m\n\u001b[0m\u001b[1;32m    384\u001b[0m         \u001b[0mmodel\u001b[0m \u001b[0;34m=\u001b[0m \u001b[0mself\u001b[0m\u001b[0;34m.\u001b[0m\u001b[0m_create_model\u001b[0m\u001b[0;34m(\u001b[0m\u001b[0mjava_model\u001b[0m\u001b[0;34m)\u001b[0m\u001b[0;34m\u001b[0m\u001b[0;34m\u001b[0m\u001b[0m\n\u001b[1;32m    385\u001b[0m         \u001b[0;32mreturn\u001b[0m \u001b[0mself\u001b[0m\u001b[0;34m.\u001b[0m\u001b[0m_copyValues\u001b[0m\u001b[0;34m(\u001b[0m\u001b[0mmodel\u001b[0m\u001b[0;34m)\u001b[0m\u001b[0;34m\u001b[0m\u001b[0;34m\u001b[0m\u001b[0m\n",
            "\u001b[0;32m/usr/local/lib/python3.8/dist-packages/pyspark/ml/wrapper.py\u001b[0m in \u001b[0;36m_fit_java\u001b[0;34m(self, dataset)\u001b[0m\n\u001b[1;32m    378\u001b[0m \u001b[0;34m\u001b[0m\u001b[0m\n\u001b[1;32m    379\u001b[0m         \u001b[0mself\u001b[0m\u001b[0;34m.\u001b[0m\u001b[0m_transfer_params_to_java\u001b[0m\u001b[0;34m(\u001b[0m\u001b[0;34m)\u001b[0m\u001b[0;34m\u001b[0m\u001b[0;34m\u001b[0m\u001b[0m\n\u001b[0;32m--> 380\u001b[0;31m         \u001b[0;32mreturn\u001b[0m \u001b[0mself\u001b[0m\u001b[0;34m.\u001b[0m\u001b[0m_java_obj\u001b[0m\u001b[0;34m.\u001b[0m\u001b[0mfit\u001b[0m\u001b[0;34m(\u001b[0m\u001b[0mdataset\u001b[0m\u001b[0;34m.\u001b[0m\u001b[0m_jdf\u001b[0m\u001b[0;34m)\u001b[0m\u001b[0;34m\u001b[0m\u001b[0;34m\u001b[0m\u001b[0m\n\u001b[0m\u001b[1;32m    381\u001b[0m \u001b[0;34m\u001b[0m\u001b[0m\n\u001b[1;32m    382\u001b[0m     \u001b[0;32mdef\u001b[0m \u001b[0m_fit\u001b[0m\u001b[0;34m(\u001b[0m\u001b[0mself\u001b[0m\u001b[0;34m,\u001b[0m \u001b[0mdataset\u001b[0m\u001b[0;34m:\u001b[0m \u001b[0mDataFrame\u001b[0m\u001b[0;34m)\u001b[0m \u001b[0;34m->\u001b[0m \u001b[0mJM\u001b[0m\u001b[0;34m:\u001b[0m\u001b[0;34m\u001b[0m\u001b[0;34m\u001b[0m\u001b[0m\n",
            "\u001b[0;32m/usr/local/lib/python3.8/dist-packages/py4j/java_gateway.py\u001b[0m in \u001b[0;36m__call__\u001b[0;34m(self, *args)\u001b[0m\n\u001b[1;32m   1319\u001b[0m \u001b[0;34m\u001b[0m\u001b[0m\n\u001b[1;32m   1320\u001b[0m         \u001b[0manswer\u001b[0m \u001b[0;34m=\u001b[0m \u001b[0mself\u001b[0m\u001b[0;34m.\u001b[0m\u001b[0mgateway_client\u001b[0m\u001b[0;34m.\u001b[0m\u001b[0msend_command\u001b[0m\u001b[0;34m(\u001b[0m\u001b[0mcommand\u001b[0m\u001b[0;34m)\u001b[0m\u001b[0;34m\u001b[0m\u001b[0;34m\u001b[0m\u001b[0m\n\u001b[0;32m-> 1321\u001b[0;31m         return_value = get_return_value(\n\u001b[0m\u001b[1;32m   1322\u001b[0m             answer, self.gateway_client, self.target_id, self.name)\n\u001b[1;32m   1323\u001b[0m \u001b[0;34m\u001b[0m\u001b[0m\n",
            "\u001b[0;32m/usr/local/lib/python3.8/dist-packages/pyspark/sql/utils.py\u001b[0m in \u001b[0;36mdeco\u001b[0;34m(*a, **kw)\u001b[0m\n\u001b[1;32m    194\u001b[0m                 \u001b[0;31m# Hide where the exception came from that shows a non-Pythonic\u001b[0m\u001b[0;34m\u001b[0m\u001b[0;34m\u001b[0m\u001b[0;34m\u001b[0m\u001b[0m\n\u001b[1;32m    195\u001b[0m                 \u001b[0;31m# JVM exception message.\u001b[0m\u001b[0;34m\u001b[0m\u001b[0;34m\u001b[0m\u001b[0;34m\u001b[0m\u001b[0m\n\u001b[0;32m--> 196\u001b[0;31m                 \u001b[0;32mraise\u001b[0m \u001b[0mconverted\u001b[0m \u001b[0;32mfrom\u001b[0m \u001b[0;32mNone\u001b[0m\u001b[0;34m\u001b[0m\u001b[0;34m\u001b[0m\u001b[0m\n\u001b[0m\u001b[1;32m    197\u001b[0m             \u001b[0;32melse\u001b[0m\u001b[0;34m:\u001b[0m\u001b[0;34m\u001b[0m\u001b[0;34m\u001b[0m\u001b[0m\n\u001b[1;32m    198\u001b[0m                 \u001b[0;32mraise\u001b[0m\u001b[0;34m\u001b[0m\u001b[0;34m\u001b[0m\u001b[0m\n",
            "\u001b[0;31mPythonException\u001b[0m: \n  An exception was thrown from the Python worker. Please see the stack trace below.\nTraceback (most recent call last):\n  File \"<ipython-input-219-6edfb4a8d851>\", line 7, in distance\nTypeError: must be real number, not NoneType\n"
          ]
        }
      ]
    }
  ],
  "metadata": {
    "kernelspec": {
      "display_name": "Python 3 (ipykernel)",
      "language": "python",
      "name": "python3"
    },
    "language_info": {
      "codemirror_mode": {
        "name": "ipython",
        "version": 3
      },
      "file_extension": ".py",
      "mimetype": "text/x-python",
      "name": "python",
      "nbconvert_exporter": "python",
      "pygments_lexer": "ipython3",
      "version": "3.10.6"
    },
    "colab": {
      "provenance": []
    }
  },
  "nbformat": 4,
  "nbformat_minor": 5
}