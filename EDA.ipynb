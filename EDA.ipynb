{
 "cells": [
  {
   "cell_type": "code",
   "execution_count": 1,
   "id": "f410acea-e7af-4706-84a0-4c25b1030861",
   "metadata": {},
   "outputs": [
    {
     "data": {
      "text/plain": [
       "200589097"
      ]
     },
     "execution_count": 1,
     "metadata": {},
     "output_type": "execute_result"
    }
   ],
   "source": [
    "# Download Training dataset file.\n",
    "\n",
    "import requests\n",
    "URL = \"https://www.dropbox.com/s/cem9ea35wllfsqg/train.csv?dl=1\"\n",
    "response = requests.get(URL)\n",
    "open(\"train.csv\", \"wb\").write(response.content)"
   ]
  },
  {
   "cell_type": "code",
   "execution_count": 2,
   "id": "62c606ad-55c7-4d93-82ad-6d1317e0fa11",
   "metadata": {},
   "outputs": [
    {
     "data": {
      "text/plain": [
       "70794289"
      ]
     },
     "execution_count": 2,
     "metadata": {},
     "output_type": "execute_result"
    }
   ],
   "source": [
    "# Download Testing dataset file.\n",
    "\n",
    "URL = \"https://www.dropbox.com/s/hrqzwaihgeibx4x/test.csv?dl=1\"\n",
    "response = requests.get(URL)\n",
    "open(\"test.csv\", \"wb\").write(response.content)"
   ]
  },
  {
   "cell_type": "code",
   "execution_count": 3,
   "id": "f80b9f3f-ea28-4afd-8525-aec1fb589718",
   "metadata": {
    "tags": []
   },
   "outputs": [
    {
     "name": "stdout",
     "output_type": "stream",
     "text": [
      "root\n",
      " |-- id: string (nullable = true)\n",
      " |-- vendor_id: string (nullable = true)\n",
      " |-- pickup_datetime: string (nullable = true)\n",
      " |-- dropoff_datetime: string (nullable = true)\n",
      " |-- passenger_count: string (nullable = true)\n",
      " |-- pickup_longitude: string (nullable = true)\n",
      " |-- pickup_latitude: string (nullable = true)\n",
      " |-- dropoff_longitude: string (nullable = true)\n",
      " |-- dropoff_latitude: string (nullable = true)\n",
      " |-- store_and_fwd_flag: string (nullable = true)\n",
      " |-- trip_duration: string (nullable = true)\n",
      "\n"
     ]
    }
   ],
   "source": [
    "from pyspark.sql import SparkSession\n",
    "from pyspark.sql.functions import *\n",
    "from pyspark.sql import functions as F\n",
    "from math import radians, cos, sin, asin, sqrt\n",
    "from pyspark.sql.types import FloatType\n",
    "\n",
    "spark = SparkSession.builder.master(\"local[1]\").appName(\"SparkByExamples.com\").getOrCreate()\n",
    "df = spark.read.csv(\"./train.csv\", header=True)\n",
    "df.printSchema()"
   ]
  },
  {
   "cell_type": "code",
   "execution_count": 4,
   "id": "cef9b99a-9d41-4c00-b1b4-14ef3869829a",
   "metadata": {},
   "outputs": [
    {
     "name": "stdout",
     "output_type": "stream",
     "text": [
      "+---------+---------+-------------------+-------------------+---------------+-------------------+------------------+-------------------+------------------+------------------+-------------+\n",
      "|       id|vendor_id|    pickup_datetime|   dropoff_datetime|passenger_count|   pickup_longitude|   pickup_latitude|  dropoff_longitude|  dropoff_latitude|store_and_fwd_flag|trip_duration|\n",
      "+---------+---------+-------------------+-------------------+---------------+-------------------+------------------+-------------------+------------------+------------------+-------------+\n",
      "|id2875421|        2|2016-03-14 17:24:55|2016-03-14 17:32:30|              1|-73.982154846191406|40.767936706542969|-73.964630126953125|40.765602111816406|                 N|          455|\n",
      "|id2377394|        1|2016-06-12 00:43:35|2016-06-12 00:54:38|              1|-73.980415344238281|40.738563537597656|-73.999481201171875|40.731151580810547|                 N|          663|\n",
      "|id3858529|        2|2016-01-19 11:35:24|2016-01-19 12:10:48|              1|-73.979026794433594|40.763938903808594|-74.005332946777344|40.710086822509766|                 N|         2124|\n",
      "|id3504673|        2|2016-04-06 19:32:31|2016-04-06 19:39:40|              1|-74.010040283203125|   40.719970703125| -74.01226806640625|40.706718444824219|                 N|          429|\n",
      "|id2181028|        2|2016-03-26 13:30:55|2016-03-26 13:38:10|              1|-73.973052978515625|40.793209075927734|-73.972923278808594|40.782520294189453|                 N|          435|\n",
      "|id0801584|        2|2016-01-30 22:01:40|2016-01-30 22:09:03|              6|-73.982856750488281|40.742195129394531|-73.992080688476562|40.749183654785156|                 N|          443|\n",
      "|id1813257|        1|2016-06-17 22:34:59|2016-06-17 22:40:40|              4|-73.969017028808594|40.757839202880859|-73.957405090332031|40.765895843505859|                 N|          341|\n",
      "|id1324603|        2|2016-05-21 07:54:58|2016-05-21 08:20:49|              1|-73.969276428222656|40.797779083251953|-73.922470092773438| 40.76055908203125|                 N|         1551|\n",
      "|id1301050|        1|2016-05-27 23:12:23|2016-05-27 23:16:38|              1|-73.999481201171875|40.738399505615234|-73.985786437988281|40.732814788818359|                 N|          255|\n",
      "|id0012891|        2|2016-03-10 21:45:01|2016-03-10 22:05:26|              1|-73.981048583984375|40.744338989257813|-73.972999572753906|40.789989471435547|                 N|         1225|\n",
      "|id1436371|        2|2016-05-10 22:08:41|2016-05-10 22:29:55|              1|-73.982650756835938|40.763839721679688|-74.002227783203125|40.732990264892578|                 N|         1274|\n",
      "|id1299289|        2|2016-05-15 11:16:11|2016-05-15 11:34:59|              4|-73.991531372070313|40.749439239501953|    -73.95654296875|  40.7706298828125|                 N|         1128|\n",
      "|id1187965|        2|2016-02-19 09:52:46|2016-02-19 10:11:20|              2|-73.962982177734375|40.756679534912109|-73.984405517578125|40.760719299316406|                 N|         1114|\n",
      "|id0799785|        2|2016-06-01 20:58:29|2016-06-01 21:02:49|              1|-73.956306457519531|40.767940521240234|-73.966110229492188| 40.76300048828125|                 N|          260|\n",
      "|id2900608|        2|2016-05-27 00:43:36|2016-05-27 01:07:10|              1|-73.992195129394531|40.727226257324219|-73.974655151367188|40.783069610595703|                 N|         1414|\n",
      "|id3319787|        1|2016-05-16 15:29:02|2016-05-16 15:32:33|              1|-73.955513000488281|40.768592834472656|-73.948760986328125| 40.77154541015625|                 N|          211|\n",
      "|id3379579|        2|2016-04-11 17:29:50|2016-04-11 18:08:26|              1|-73.991165161132813|40.755561828613281|-73.999290466308594|40.725353240966797|                 N|         2316|\n",
      "|id1154431|        1|2016-04-14 08:48:26|2016-04-14 09:00:37|              1|-73.994255065917969|40.745803833007813|-73.999656677246094|40.723342895507813|                 N|          731|\n",
      "|id3552682|        1|2016-06-27 09:55:13|2016-06-27 10:17:10|              1|-74.003982543945313|  40.7130126953125|-73.979194641113281|40.749923706054688|                 N|         1317|\n",
      "|id3390316|        2|2016-06-05 13:47:23|2016-06-05 13:51:34|              1|    -73.98388671875|40.738197326660156|-73.991203308105469|40.727870941162109|                 N|          251|\n",
      "+---------+---------+-------------------+-------------------+---------------+-------------------+------------------+-------------------+------------------+------------------+-------------+\n",
      "only showing top 20 rows\n",
      "\n"
     ]
    }
   ],
   "source": [
    "df.show()"
   ]
  },
  {
   "cell_type": "code",
   "execution_count": 5,
   "id": "60ff6755-d4ff-4d7b-bac9-b5e6f23fc4df",
   "metadata": {},
   "outputs": [
    {
     "name": "stdout",
     "output_type": "stream",
     "text": [
      "+---+---------+---------------+----------------+---------------+----------------+---------------+-----------------+----------------+------------------+-------------+\n",
      "| id|vendor_id|pickup_datetime|dropoff_datetime|passenger_count|pickup_longitude|pickup_latitude|dropoff_longitude|dropoff_latitude|store_and_fwd_flag|trip_duration|\n",
      "+---+---------+---------------+----------------+---------------+----------------+---------------+-----------------+----------------+------------------+-------------+\n",
      "|  0|        0|              0|               0|              0|               0|              0|                0|               0|                 0|            0|\n",
      "+---+---------+---------------+----------------+---------------+----------------+---------------+-----------------+----------------+------------------+-------------+\n",
      "\n"
     ]
    }
   ],
   "source": [
    "# Check for NaN or null values\n",
    "\n",
    "df.select([count(when(isnan(c) | col(c).isNull(), c)).alias(c) for c in df.columns]).show()"
   ]
  },
  {
   "cell_type": "code",
   "execution_count": 6,
   "id": "8eaf2a2d-a27c-4b62-9a77-819e5dc8e157",
   "metadata": {},
   "outputs": [],
   "source": [
    "# Removing id from `id` column.\n",
    "\n",
    "df = df.withColumn(\"id\", expr(\"replace(id, 'id', '')\"))"
   ]
  },
  {
   "cell_type": "code",
   "execution_count": 7,
   "id": "7c8c3e33-fbaf-4405-8462-6323941d381c",
   "metadata": {},
   "outputs": [],
   "source": [
    "# Covert Datatype of the dataframe.\n",
    "\n",
    "def convert_datatype(df):\n",
    "    df = df.withColumn(\"id\",df.id.cast('int'))\n",
    "    df = df.withColumn(\"vendor_id\", df.vendor_id.cast('int'))\n",
    "    df = df.withColumn(\"pickup_datetime\", to_timestamp(df.pickup_datetime, \"yyyy-MM-dd HH:mm:ss\"))\n",
    "    df = df.withColumn(\"dropoff_datetime\", to_timestamp(df.dropoff_datetime, \"yyyy-MM-dd HH:mm:ss\"))\n",
    "    df = df.withColumn(\"passenger_count\",df.passenger_count.cast('int'))\n",
    "    df = df.withColumn(\"pickup_longitude\",df.pickup_longitude.cast('double'))\n",
    "    df = df.withColumn(\"pickup_latitude\",df.pickup_latitude.cast('double'))\n",
    "    df = df.withColumn(\"dropoff_longitude\",df.dropoff_longitude.cast('double'))\n",
    "    df = df.withColumn(\"dropoff_latitude\",df.dropoff_latitude.cast('double'))\n",
    "    df = df.withColumn('store_and_fwd_flag', F.when(df.store_and_fwd_flag == 'N', 0).otherwise(1))\n",
    "    df = df.withColumn(\"trip_duration\",df.trip_duration.cast('int'))\n",
    "    \n",
    "    return df"
   ]
  },
  {
   "cell_type": "code",
   "execution_count": 8,
   "id": "1d9f470e-1644-4bca-92bb-c97f534c0739",
   "metadata": {},
   "outputs": [],
   "source": [
    "# Call Convert datatype\n",
    "\n",
    "df = convert_datatype(df)"
   ]
  },
  {
   "cell_type": "code",
   "execution_count": 9,
   "id": "4713ecf0-4455-4208-9ef8-c928550ff407",
   "metadata": {},
   "outputs": [
    {
     "name": "stdout",
     "output_type": "stream",
     "text": [
      "id , int\n",
      "vendor_id , int\n",
      "pickup_datetime , timestamp\n",
      "dropoff_datetime , timestamp\n",
      "passenger_count , int\n",
      "pickup_longitude , double\n",
      "pickup_latitude , double\n",
      "dropoff_longitude , double\n",
      "dropoff_latitude , double\n",
      "store_and_fwd_flag , int\n",
      "trip_duration , int\n"
     ]
    }
   ],
   "source": [
    "# Check for columns data types\n",
    "\n",
    "for col in df.dtypes:\n",
    "    print(col[0]+\" , \"+col[1])"
   ]
  },
  {
   "cell_type": "code",
   "execution_count": 10,
   "id": "877a9c25-9679-4354-9573-806badbe66d1",
   "metadata": {},
   "outputs": [],
   "source": [
    "# Calculate difference in dropoff and pickup time\n",
    "\n",
    "df = df.withColumn('diff_in_dropff_and_pickup',df[\"dropoff_datetime\"].cast(\"double\") - df['pickup_datetime'].cast(\"double\"))"
   ]
  },
  {
   "cell_type": "code",
   "execution_count": 11,
   "id": "5651dfe3-b0fa-4282-9030-031b2174c595",
   "metadata": {},
   "outputs": [],
   "source": [
    "# Calculate the difference between trip duration and the difference of the pickup and dropoff time\n",
    "\n",
    "df = df.withColumn('diff_in_trip_duration_and_manual_calc_time',df[\"trip_duration\"].cast(\"double\") - df['diff_in_dropff_and_pickup'].cast(\"double\"))"
   ]
  },
  {
   "cell_type": "code",
   "execution_count": 12,
   "id": "804d678e-a914-4f6e-9f16-3a7098d75b8e",
   "metadata": {},
   "outputs": [
    {
     "data": {
      "text/plain": [
       "[Row(diff_in_trip_duration_and_manual_calc_time=0.0)]"
      ]
     },
     "execution_count": 12,
     "metadata": {},
     "output_type": "execute_result"
    }
   ],
   "source": [
    "# Checking for unique values in `diff_in_trip_duration_and_manual_calc_time`\n",
    "\n",
    "df.select('diff_in_trip_duration_and_manual_calc_time').distinct().collect()"
   ]
  },
  {
   "cell_type": "code",
   "execution_count": 13,
   "id": "bdd44f40-e0cb-4a49-bca1-cff66c14e650",
   "metadata": {},
   "outputs": [
    {
     "data": {
      "text/plain": [
       "0"
      ]
     },
     "execution_count": 13,
     "metadata": {},
     "output_type": "execute_result"
    }
   ],
   "source": [
    "# Checking if trip duration is 0 or negative, if there then we can remove it.\n",
    "\n",
    "df.filter(df.trip_duration <= 0).count()"
   ]
  },
  {
   "cell_type": "code",
   "execution_count": 14,
   "id": "8adb85d5-2ab7-4dd7-b416-43f40fdfcfaf",
   "metadata": {},
   "outputs": [
    {
     "data": {
      "text/plain": [
       "[Row(store_and_fwd_flag=1), Row(store_and_fwd_flag=0)]"
      ]
     },
     "execution_count": 14,
     "metadata": {},
     "output_type": "execute_result"
    }
   ],
   "source": [
    "# Checking for unique values in `store_and_fwd_flag`\n",
    "\n",
    "df.select('store_and_fwd_flag').distinct().collect()"
   ]
  },
  {
   "cell_type": "code",
   "execution_count": 15,
   "id": "905902ca-4330-4be2-a359-6045ac84f9a8",
   "metadata": {},
   "outputs": [],
   "source": [
    "# Calculate distance between two latitute and longtitude.\n",
    "\n",
    "def distance(pickUpLat1, dropOffLat2, pickUpLon1, dropOffLon2):\n",
    "     \n",
    "    # The math module contains a function named\n",
    "    # radians which converts from degrees to radians.\n",
    "    lon1 = radians(pickUpLon1)\n",
    "    lon2 = radians(dropOffLon2)\n",
    "    lat1 = radians(pickUpLat1)\n",
    "    lat2 = radians(dropOffLat2)\n",
    "      \n",
    "    # Haversine formula\n",
    "    dlon = lon2 - lon1\n",
    "    dlat = lat2 - lat1\n",
    "    a = sin(dlat / 2)**2 + cos(lat1) * cos(lat2) * sin(dlon / 2)**2\n",
    " \n",
    "    c = 2 * asin(sqrt(a))\n",
    "    \n",
    "    # Radius of earth in kilometers. Use 3956 for miles\n",
    "    r = 6371\n",
    "      \n",
    "    # calculate the result\n",
    "    return(c * r)"
   ]
  },
  {
   "cell_type": "code",
   "execution_count": 16,
   "id": "434b848d-0324-4791-9597-98a9bcbf6d6c",
   "metadata": {},
   "outputs": [],
   "source": [
    "# Calculating distance between pickup and dropoff latitude and longtitude.\n",
    "\n",
    "udf_func = udf(distance, FloatType())\n",
    "df = df.withColumn(\"distance\", udf_func(df.pickup_latitude, df.dropoff_latitude, df.pickup_longitude, df.dropoff_longitude))"
   ]
  },
  {
   "cell_type": "code",
   "execution_count": 17,
   "id": "48e8cb11-321a-43eb-b51b-89d48785d25a",
   "metadata": {},
   "outputs": [
    {
     "name": "stdout",
     "output_type": "stream",
     "text": [
      "+----------+\n",
      "|  distance|\n",
      "+----------+\n",
      "| 1.4985207|\n",
      "| 1.8055072|\n",
      "| 6.3850985|\n",
      "| 1.4854984|\n",
      "| 1.1885885|\n",
      "| 1.0989425|\n",
      "| 1.3262786|\n",
      "| 5.7149806|\n",
      "| 1.3103533|\n",
      "| 5.1211615|\n",
      "| 3.8061395|\n",
      "| 3.7730958|\n",
      "|  1.859483|\n",
      "|0.99168485|\n",
      "|  6.382836|\n",
      "|  0.656578|\n",
      "|  3.428086|\n",
      "| 2.5386717|\n",
      "| 4.6052012|\n",
      "| 1.3032712|\n",
      "+----------+\n",
      "only showing top 20 rows\n",
      "\n"
     ]
    }
   ],
   "source": [
    "# distance is in K.M.\n",
    "\n",
    "df.select(\"distance\").show()"
   ]
  },
  {
   "cell_type": "code",
   "execution_count": 18,
   "id": "68de2ba9-17b8-4d38-96f1-a17bb558ec77",
   "metadata": {},
   "outputs": [
    {
     "name": "stdout",
     "output_type": "stream",
     "text": [
      "Count unique values Before filtering for distance < 0 is  1458644\n"
     ]
    }
   ],
   "source": [
    "# Only keep records where distance between non overlapped points\n",
    "\n",
    "print(\"Count unique values Before filtering for distance < 0 is \", df.count()) \n",
    "df = df.filter(df.distance > 0)"
   ]
  },
  {
   "cell_type": "code",
   "execution_count": 19,
   "id": "b88bae9f-e6b6-4d2b-9ae8-313df1ab0f16",
   "metadata": {},
   "outputs": [
    {
     "data": {
      "text/plain": [
       "1452747"
      ]
     },
     "execution_count": 19,
     "metadata": {},
     "output_type": "execute_result"
    }
   ],
   "source": [
    "# Counting total number of unique values in dataframe.\n",
    "\n",
    "df.count()"
   ]
  },
  {
   "cell_type": "code",
   "execution_count": 20,
   "id": "31de06d1-cfa7-46d6-901e-7478d7733e4b",
   "metadata": {},
   "outputs": [],
   "source": [
    "import os\n",
    "\n",
    "if os.path.isdir('train-cleaned') == False:\n",
    "    df.coalesce(1).write.csv(\"train-cleaned\", header=True)"
   ]
  },
  {
   "cell_type": "code",
   "execution_count": null,
   "id": "6cb56a1e-b370-4904-8238-87327dda404a",
   "metadata": {},
   "outputs": [],
   "source": []
  }
 ],
 "metadata": {
  "kernelspec": {
   "display_name": "Python 3 (ipykernel)",
   "language": "python",
   "name": "python3"
  },
  "language_info": {
   "codemirror_mode": {
    "name": "ipython",
    "version": 3
   },
   "file_extension": ".py",
   "mimetype": "text/x-python",
   "name": "python",
   "nbconvert_exporter": "python",
   "pygments_lexer": "ipython3",
   "version": "3.10.6"
  }
 },
 "nbformat": 4,
 "nbformat_minor": 5
}
