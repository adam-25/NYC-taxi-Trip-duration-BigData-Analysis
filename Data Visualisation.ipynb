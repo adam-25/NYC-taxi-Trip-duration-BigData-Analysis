{
 "cells": [
  {
   "cell_type": "code",
   "execution_count": 1,
   "id": "ccdb6581-b080-4a51-a37c-d09dd6a9e5c1",
   "metadata": {},
   "outputs": [
    {
     "name": "stdout",
     "output_type": "stream",
     "text": [
      "root\n",
      " |-- id: string (nullable = true)\n",
      " |-- vendor_id: string (nullable = true)\n",
      " |-- pickup_datetime: string (nullable = true)\n",
      " |-- dropoff_datetime: string (nullable = true)\n",
      " |-- passenger_count: string (nullable = true)\n",
      " |-- pickup_longitude: string (nullable = true)\n",
      " |-- pickup_latitude: string (nullable = true)\n",
      " |-- dropoff_longitude: string (nullable = true)\n",
      " |-- dropoff_latitude: string (nullable = true)\n",
      " |-- store_and_fwd_flag: string (nullable = true)\n",
      " |-- trip_duration: string (nullable = true)\n",
      " |-- diff_in_dropff_and_pickup: string (nullable = true)\n",
      " |-- diff_in_trip_duration_and_manual_calc_time: string (nullable = true)\n",
      " |-- distance: string (nullable = true)\n",
      "\n"
     ]
    }
   ],
   "source": [
    "from pyspark.sql import SparkSession\n",
    "from pyspark.sql.functions import *\n",
    "from pyspark.sql import functions as F\n",
    "from math import radians, cos, sin, asin, sqrt\n",
    "from pyspark.sql.types import FloatType\n",
    "import numpy as np\n",
    "\n",
    "spark = SparkSession.builder.master(\"local[1]\").appName(\"SparkByExamples.com\").getOrCreate()\n",
    "df = spark.read.csv(\"./train-cleaned/*.csv\", header=True)\n",
    "df.printSchema()"
   ]
  },
  {
   "cell_type": "code",
   "execution_count": 2,
   "id": "5d7cf70d-c0fe-4c0c-9437-9fa13469f9aa",
   "metadata": {},
   "outputs": [],
   "source": [
    "df = df.withColumn(\"pickup_datetime\", expr(\"replace(pickup_datetime, 'T', ' ')\"))\n",
    "df = df.withColumn(\"pickup_datetime\", expr(\"replace(pickup_datetime, '.000Z', '')\"))\n",
    "df = df.withColumn(\"dropoff_datetime\", expr(\"replace(dropoff_datetime, 'T', ' ')\"))\n",
    "df = df.withColumn(\"dropoff_datetime\", expr(\"replace(dropoff_datetime, '.000Z', '')\"))"
   ]
  },
  {
   "cell_type": "code",
   "execution_count": 3,
   "id": "3864eec9-fc4d-4ee4-864a-490802d31ed5",
   "metadata": {},
   "outputs": [
    {
     "name": "stdout",
     "output_type": "stream",
     "text": [
      "Requirement already satisfied: nbimporter in /opt/conda/lib/python3.10/site-packages (0.3.4)\n"
     ]
    }
   ],
   "source": [
    "!pip install nbimporter"
   ]
  },
  {
   "cell_type": "code",
   "execution_count": 4,
   "id": "967a7e21-4cd8-4efe-a401-a5e1ae66e673",
   "metadata": {},
   "outputs": [],
   "source": [
    "import nbimporter\n",
    "from EDA import convert_datatype"
   ]
  },
  {
   "cell_type": "code",
   "execution_count": 5,
   "id": "3bb5bf51-f18a-4004-9641-d38c32796224",
   "metadata": {},
   "outputs": [],
   "source": [
    "df = convert_datatype(df)"
   ]
  },
  {
   "cell_type": "code",
   "execution_count": 6,
   "id": "50a3c41a-f1f6-486a-85f7-b6ff3812b27c",
   "metadata": {},
   "outputs": [
    {
     "name": "stdout",
     "output_type": "stream",
     "text": [
      "id , int\n",
      "vendor_id , int\n",
      "pickup_datetime , timestamp\n",
      "dropoff_datetime , timestamp\n",
      "passenger_count , int\n",
      "pickup_longitude , double\n",
      "pickup_latitude , double\n",
      "dropoff_longitude , double\n",
      "dropoff_latitude , double\n",
      "store_and_fwd_flag , int\n",
      "trip_duration , int\n",
      "diff_in_dropff_and_pickup , string\n",
      "diff_in_trip_duration_and_manual_calc_time , string\n",
      "distance , string\n"
     ]
    }
   ],
   "source": [
    "# Check for columns data types\n",
    "\n",
    "for col in df.dtypes:\n",
    "    print(col[0]+\" , \"+col[1])"
   ]
  },
  {
   "cell_type": "code",
   "execution_count": 7,
   "id": "d7af3569-c7e3-4d2d-81fb-569aec443e12",
   "metadata": {},
   "outputs": [
    {
     "name": "stdout",
     "output_type": "stream",
     "text": [
      "+---+---------+---------------+----------------+---------------+----------------+---------------+-----------------+----------------+------------------+-------------+-------------------------+------------------------------------------+--------+\n",
      "| id|vendor_id|pickup_datetime|dropoff_datetime|passenger_count|pickup_longitude|pickup_latitude|dropoff_longitude|dropoff_latitude|store_and_fwd_flag|trip_duration|diff_in_dropff_and_pickup|diff_in_trip_duration_and_manual_calc_time|distance|\n",
      "+---+---------+---------------+----------------+---------------+----------------+---------------+-----------------+----------------+------------------+-------------+-------------------------+------------------------------------------+--------+\n",
      "+---+---------+---------------+----------------+---------------+----------------+---------------+-----------------+----------------+------------------+-------------+-------------------------+------------------------------------------+--------+\n",
      "\n"
     ]
    }
   ],
   "source": [
    "df.filter(df.pickup_datetime.isNull()).show()"
   ]
  },
  {
   "cell_type": "code",
   "execution_count": null,
   "id": "1f5480fe-9812-4816-8ae1-c973e4228f50",
   "metadata": {},
   "outputs": [],
   "source": []
  }
 ],
 "metadata": {
  "kernelspec": {
   "display_name": "Python 3 (ipykernel)",
   "language": "python",
   "name": "python3"
  },
  "language_info": {
   "codemirror_mode": {
    "name": "ipython",
    "version": 3
   },
   "file_extension": ".py",
   "mimetype": "text/x-python",
   "name": "python",
   "nbconvert_exporter": "python",
   "pygments_lexer": "ipython3",
   "version": "3.10.6"
  }
 },
 "nbformat": 4,
 "nbformat_minor": 5
}
